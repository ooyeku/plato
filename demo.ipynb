{
 "cells": [
  {
   "cell_type": "markdown",
   "metadata": {},
   "source": [
    "Plato workbook"
   ]
  },
  {
   "cell_type": "code",
   "metadata": {
    "ExecuteTime": {
     "end_time": "2024-06-16T06:03:38.760476Z",
     "start_time": "2024-06-16T06:03:38.753404Z"
    }
   },
   "source": [
    "import pandas as pd\n",
    "\n",
    "from core.core import Core, load_data"
   ],
   "outputs": [],
   "execution_count": 56
  },
  {
   "cell_type": "code",
   "metadata": {
    "ExecuteTime": {
     "end_time": "2024-06-16T06:03:39.371989Z",
     "start_time": "2024-06-16T06:03:39.365522Z"
    }
   },
   "source": [
    "core = Core()"
   ],
   "outputs": [],
   "execution_count": 57
  },
  {
   "metadata": {},
   "cell_type": "markdown",
   "source": [
    "Generating Data using core\n",
    "\n",
    "Note: generated data is saved to generated_data.csv by default\n",
    "\n",
    "\n"
   ]
  },
  {
   "metadata": {
    "ExecuteTime": {
     "end_time": "2024-06-16T06:03:39.623435Z",
     "start_time": "2024-06-16T06:03:39.376336Z"
    }
   },
   "cell_type": "code",
   "source": [
    "# Corrected Code\n",
    "core.generate_data(num_rows=1000, columns=[\n",
    "    {\"name\": \"age\", \"data_type\": \"int\", \"options\": {\"min\": 18, \"max\": 75}},\n",
    "    {\"name\": \"name\", \"data_type\": \"name\"},\n",
    "    {\"name\": \"email\", \"data_type\": \"email\"},\n",
    "    {\"name\": \"address\", \"data_type\": \"address\"},\n",
    "    {\"name\": \"phone\", \"data_type\": \"phone\"},\n",
    "    {\"name\": \"company\", \"data_type\": \"company\"},\n",
    "    {\"name\": \"text\", \"data_type\": \"text\", \"options\": {\"max_chars\": 200}},\n",
    "    {\"name\": \"income\", \"data_type\": \"float\", \"options\": {\"min\": 10000, \"max\": 250000}},\n",
    "    {\"name\": \"salary\", \"data_type\": \"float\", \"options\": {\"min\": 10000, \"max\": 300000}},\n",
    "    {\n",
    "        \"name\": \"date_joined\",\n",
    "        \"data_type\": \"date\",\n",
    "        \"options\": {\"min\": \"2002-01-01\", \"max\": \"2022-12-31\"}\n",
    "    }\n",
    "])"
   ],
   "outputs": [
    {
     "name": "stderr",
     "output_type": "stream",
     "text": [
      "INFO:plato:Generating data...\n",
      "INFO:plato:Data generated and saved to 'generated_data.csv'.\n"
     ]
    },
    {
     "data": {
      "text/plain": [
       "     age                          email  \\\n",
       "0     95            james82@example.org   \n",
       "1     21           sandra77@example.net   \n",
       "2     96         brodriguez@example.org   \n",
       "3     41            danny47@example.com   \n",
       "4     92  hernandezbenjamin@example.net   \n",
       "..   ...                            ...   \n",
       "995   23     michaelpearson@example.org   \n",
       "996   72       thomasdebbie@example.org   \n",
       "997   62         virginia96@example.org   \n",
       "998   74            jenna43@example.com   \n",
       "999   68              ogray@example.org   \n",
       "\n",
       "                                                  text         income  \\\n",
       "0    Manage citizen late authority. Hit build sure ...  218878.992757   \n",
       "1    That under common history ability identify are...   24262.124153   \n",
       "2    Behavior scientist feel American hope conditio...   87303.733237   \n",
       "3    Together move let administration green drive g...  196099.313922   \n",
       "4    Today fall different there. Day scientist marr...  214700.235293   \n",
       "..                                                 ...            ...   \n",
       "995  Ten piece debate determine. Health various end...  112319.138192   \n",
       "996  Cultural seat together wonder fly.\\nBeautiful ...   68582.853355   \n",
       "997  Authority statement red role receive keep. Bea...   95518.051794   \n",
       "998  Life herself sing break approach.\\nDespite oft...  140186.253411   \n",
       "999  Little lead give maintain oil another. Civil c...   98082.483720   \n",
       "\n",
       "            salary                   date_joined  \n",
       "0    103553.006514 2021-11-24 22:04:18.418217216  \n",
       "1    247454.882654 2019-01-05 21:41:26.441247872  \n",
       "2    223432.538520 2002-02-06 21:13:38.830846177  \n",
       "3    165302.084419 2019-04-16 17:52:30.675282944  \n",
       "4    238604.931499 2006-09-03 11:37:36.082129248  \n",
       "..             ...                           ...  \n",
       "995  100210.509245 2018-08-20 03:24:00.849923200  \n",
       "996  276521.601112 2011-09-30 10:48:17.370251200  \n",
       "997  213542.212828 2005-07-01 04:34:29.940422368  \n",
       "998  259387.479341 2011-05-31 14:10:22.904060992  \n",
       "999   94632.230329 2022-07-10 20:36:18.220994688  \n",
       "\n",
       "[1000 rows x 6 columns]"
      ],
      "text/html": [
       "<div>\n",
       "<style scoped>\n",
       "    .dataframe tbody tr th:only-of-type {\n",
       "        vertical-align: middle;\n",
       "    }\n",
       "\n",
       "    .dataframe tbody tr th {\n",
       "        vertical-align: top;\n",
       "    }\n",
       "\n",
       "    .dataframe thead th {\n",
       "        text-align: right;\n",
       "    }\n",
       "</style>\n",
       "<table border=\"1\" class=\"dataframe\">\n",
       "  <thead>\n",
       "    <tr style=\"text-align: right;\">\n",
       "      <th></th>\n",
       "      <th>age</th>\n",
       "      <th>email</th>\n",
       "      <th>text</th>\n",
       "      <th>income</th>\n",
       "      <th>salary</th>\n",
       "      <th>date_joined</th>\n",
       "    </tr>\n",
       "  </thead>\n",
       "  <tbody>\n",
       "    <tr>\n",
       "      <th>0</th>\n",
       "      <td>95</td>\n",
       "      <td>james82@example.org</td>\n",
       "      <td>Manage citizen late authority. Hit build sure ...</td>\n",
       "      <td>218878.992757</td>\n",
       "      <td>103553.006514</td>\n",
       "      <td>2021-11-24 22:04:18.418217216</td>\n",
       "    </tr>\n",
       "    <tr>\n",
       "      <th>1</th>\n",
       "      <td>21</td>\n",
       "      <td>sandra77@example.net</td>\n",
       "      <td>That under common history ability identify are...</td>\n",
       "      <td>24262.124153</td>\n",
       "      <td>247454.882654</td>\n",
       "      <td>2019-01-05 21:41:26.441247872</td>\n",
       "    </tr>\n",
       "    <tr>\n",
       "      <th>2</th>\n",
       "      <td>96</td>\n",
       "      <td>brodriguez@example.org</td>\n",
       "      <td>Behavior scientist feel American hope conditio...</td>\n",
       "      <td>87303.733237</td>\n",
       "      <td>223432.538520</td>\n",
       "      <td>2002-02-06 21:13:38.830846177</td>\n",
       "    </tr>\n",
       "    <tr>\n",
       "      <th>3</th>\n",
       "      <td>41</td>\n",
       "      <td>danny47@example.com</td>\n",
       "      <td>Together move let administration green drive g...</td>\n",
       "      <td>196099.313922</td>\n",
       "      <td>165302.084419</td>\n",
       "      <td>2019-04-16 17:52:30.675282944</td>\n",
       "    </tr>\n",
       "    <tr>\n",
       "      <th>4</th>\n",
       "      <td>92</td>\n",
       "      <td>hernandezbenjamin@example.net</td>\n",
       "      <td>Today fall different there. Day scientist marr...</td>\n",
       "      <td>214700.235293</td>\n",
       "      <td>238604.931499</td>\n",
       "      <td>2006-09-03 11:37:36.082129248</td>\n",
       "    </tr>\n",
       "    <tr>\n",
       "      <th>...</th>\n",
       "      <td>...</td>\n",
       "      <td>...</td>\n",
       "      <td>...</td>\n",
       "      <td>...</td>\n",
       "      <td>...</td>\n",
       "      <td>...</td>\n",
       "    </tr>\n",
       "    <tr>\n",
       "      <th>995</th>\n",
       "      <td>23</td>\n",
       "      <td>michaelpearson@example.org</td>\n",
       "      <td>Ten piece debate determine. Health various end...</td>\n",
       "      <td>112319.138192</td>\n",
       "      <td>100210.509245</td>\n",
       "      <td>2018-08-20 03:24:00.849923200</td>\n",
       "    </tr>\n",
       "    <tr>\n",
       "      <th>996</th>\n",
       "      <td>72</td>\n",
       "      <td>thomasdebbie@example.org</td>\n",
       "      <td>Cultural seat together wonder fly.\\nBeautiful ...</td>\n",
       "      <td>68582.853355</td>\n",
       "      <td>276521.601112</td>\n",
       "      <td>2011-09-30 10:48:17.370251200</td>\n",
       "    </tr>\n",
       "    <tr>\n",
       "      <th>997</th>\n",
       "      <td>62</td>\n",
       "      <td>virginia96@example.org</td>\n",
       "      <td>Authority statement red role receive keep. Bea...</td>\n",
       "      <td>95518.051794</td>\n",
       "      <td>213542.212828</td>\n",
       "      <td>2005-07-01 04:34:29.940422368</td>\n",
       "    </tr>\n",
       "    <tr>\n",
       "      <th>998</th>\n",
       "      <td>74</td>\n",
       "      <td>jenna43@example.com</td>\n",
       "      <td>Life herself sing break approach.\\nDespite oft...</td>\n",
       "      <td>140186.253411</td>\n",
       "      <td>259387.479341</td>\n",
       "      <td>2011-05-31 14:10:22.904060992</td>\n",
       "    </tr>\n",
       "    <tr>\n",
       "      <th>999</th>\n",
       "      <td>68</td>\n",
       "      <td>ogray@example.org</td>\n",
       "      <td>Little lead give maintain oil another. Civil c...</td>\n",
       "      <td>98082.483720</td>\n",
       "      <td>94632.230329</td>\n",
       "      <td>2022-07-10 20:36:18.220994688</td>\n",
       "    </tr>\n",
       "  </tbody>\n",
       "</table>\n",
       "<p>1000 rows × 6 columns</p>\n",
       "</div>"
      ]
     },
     "execution_count": 58,
     "metadata": {},
     "output_type": "execute_result"
    }
   ],
   "execution_count": 58
  },
  {
   "metadata": {},
   "cell_type": "markdown",
   "source": "Save generated data to SQLite database and query it"
  },
  {
   "metadata": {
    "ExecuteTime": {
     "end_time": "2024-06-16T06:03:39.723635Z",
     "start_time": "2024-06-16T06:03:39.625412Z"
    }
   },
   "cell_type": "code",
   "source": "core.save_to_sqlite(db_path='data.db', table_name='generated_data')\n",
   "outputs": [
    {
     "name": "stderr",
     "output_type": "stream",
     "text": [
      "INFO:plato:Database connection created with data.db\n",
      "INFO:plato:DataFrame saved to table generated_data\n",
      "INFO:plato:Data saved to SQLite database 'data.db'.\n"
     ]
    }
   ],
   "execution_count": 59
  },
  {
   "metadata": {
    "ExecuteTime": {
     "end_time": "2024-06-16T06:03:39.728857Z",
     "start_time": "2024-06-16T06:03:39.724177Z"
    }
   },
   "cell_type": "code",
   "source": [
    "results = core.query_data(query='SELECT * FROM generated_data WHERE age > 20 LIMIT 200')\n",
    "print(results)"
   ],
   "outputs": [
    {
     "name": "stderr",
     "output_type": "stream",
     "text": [
      "INFO:plato:Database connection created with data.db\n",
      "INFO:plato:Query executed: SELECT * FROM generated_data WHERE age > 20 LIMIT 200\n",
      "INFO:plato:Query executed successfully.\n",
      "INFO:plato:Database connection closed\n"
     ]
    },
    {
     "name": "stdout",
     "output_type": "stream",
     "text": [
      "[(22, 'Timothy Kim', 'dominique63@example.net', '59860 Randy Knolls\\nLake Joshuashire, FM 79929', '261-860-5862', 'Ford, Boyd and Hall', 'Crime century heavy.', 89964.09457963296, 146812.48281541423, '2004-05-15'), (49, 'Samantha Jacobson', 'cheryl55@example.net', '22354 Stephen Dale Suite 799\\nSouth Jeffreyton, MI 24536', '(371)981-8817x8247', 'Lynn-Warner', 'Day character bill.', 238538.3471545405, 296359.28907615395, '2004-11-12'), (30, 'Michael Richards', 'ftaylor@example.org', '8362 George Path\\nRebekahmouth, AZ 95246', '818.961.4825', 'Martinez, Allen and Jackson', 'Explain way.', 150463.21241862906, 278370.60005940107, '2018-07-04'), (25, 'Leah Mcmillan', 'leslie62@example.com', '0476 Randolph Points Suite 512\\nLake Sabrinamouth, WI 07364', '(612)972-8103x13555', 'Elliott, Kennedy and Johnson', 'Natural player long.', 84750.2448222782, 99488.97048445728, '2021-08-22'), (60, 'William Burke', 'jameshuang@example.net', 'Unit 3848 Box 5239\\nDPO AE 99258', '(702)317-7375', 'Baxter, Flowers and Escobar', 'Land hundred film.', 165425.2548046621, 191515.82668952193, '2012-10-02'), (48, 'Lauren Williams', 'andersonheather@example.net', '8665 Bennett Ranch Suite 219\\nAmyfort, MT 19860', '(312)507-0725x4284', 'Turner PLC', 'Deal this history.', 58825.30365944656, 203784.32311105926, '2003-09-23'), (42, 'Teresa Montgomery', 'corey30@example.com', 'PSC 8366, Box 0759\\nAPO AP 32612', '810-514-0109', 'Fuentes-Campbell', 'Hotel us resource.', 175981.72009396847, 132551.86980358046, '2001-12-20'), (31, 'Matthew Cooper', 'harrisadrienne@example.org', '2592 White Divide Suite 820\\nBuchananmouth, TX 52075', '(393)891-8446x59437', 'Burns-Salazar', 'Hotel standard.', 209529.97023536387, 219569.94911359437, '2018-03-27'), (24, 'Marisa Ferrell', 'cindyrivers@example.com', '815 Deborah Plains Apt. 333\\nLake Blakestad, NE 54597', '(734)468-8205x6881', 'Vargas-Taylor', 'Next million Mrs.', 136995.2935328189, 117233.59172315411, '2023-06-15'), (29, 'Roy Thompson', 'uclark@example.org', '50242 Steven Avenue Suite 128\\nNew Kim, MP 90868', '001-905-450-4145x0877', 'Pham, Newton and Anderson', 'View agreement.', 189611.03964274304, 27792.297945736515, '2001-12-07'), (26, 'Melvin Evans', 'james16@example.org', '67251 Little Station\\nNew Chelseyland, AR 45427', '001-541-502-1681x7712', 'Smith Ltd', 'Nation wife spring.', 204471.7478201421, 86688.84196318487, '2007-02-25'), (31, 'Edgar Martinez', 'spowell@example.net', '90517 Gomez Isle Apt. 398\\nShawnberg, CT 70619', '9703899902', 'Nicholson-Roberts', 'Couple American me.', 51261.49302256367, 72725.21430348605, '1999-09-22'), (33, 'Gerald Hensley', 'dustin63@example.net', '6858 Wilson Extensions Apt. 188\\nSouth Samantha, MT 71047', '+1-625-352-0948x9635', 'Stevens, Lucas and Miller', 'Past television.', 203538.08886450256, 219398.98352773598, '2014-08-08'), (61, 'Alexander Hensley', 'james36@example.org', '19974 Diaz Burgs Suite 230\\nBowersland, NV 80111', '752-636-3993x573', 'Harrell PLC', 'Situation above.', 156159.30285289267, 75445.73722491614, '2023-09-08'), (32, 'Justin Ortiz', 'deannajames@example.com', '02569 Norris Corners Apt. 802\\nAndrewmouth, WV 14607', '+1-974-745-7114x06538', 'Palmer-Rose', 'Any reduce goal.', 186676.70796467943, 96120.93697332586, '2018-03-16'), (68, 'Kathryn Johnson', 'ellisvictoria@example.com', '54259 Mills Forks\\nCarrollfort, NM 23589', '+1-220-206-7453x176', 'Hanson-Blair', 'Music deep.', 177185.360192825, 125219.76152425574, '2010-10-06'), (34, 'Kelly Henderson', 'susanallison@example.net', 'PSC 1388, Box 8261\\nAPO AE 44205', '(854)593-0890x04930', 'Simpson PLC', 'Smile think run.', 203317.86885231087, 30931.76040217304, '2012-11-06'), (50, 'Kevin Burch', 'xjohnson@example.com', '038 Brent Port Apt. 119\\nMarshshire, DC 57254', '+1-286-495-3364', 'Robinson, Owens and Webb', 'Natural anyone.', 157936.89276387607, 173002.101851673, '2009-05-15'), (57, 'Richard Mckenzie', 'kayla18@example.org', '34922 Romero Motorway\\nSouth Adamland, NJ 54037', '+1-707-926-8078x88966', 'Allison Inc', 'Series tonight such.', 40454.09250965555, 13326.08483385935, '2010-04-13'), (56, 'Shannon Young', 'rgregory@example.org', 'USNV Shepard\\nFPO AA 20106', '001-301-409-3189x839', 'Nelson-Brown', 'Interesting finish.', 102842.69172098172, 233626.7988909263, '1996-01-05'), (58, 'Patricia Nguyen', 'ruth20@example.org', '980 Smith Streets Suite 755\\nSouth Pamela, AL 15988', '+1-246-542-2960x10382', 'Drake-Gonzales', 'Write offer.', 228075.43080482353, 44123.270209520015, '2010-12-17'), (30, 'Shannon Green', 'allendyer@example.net', '00122 Sharon Expressway Apt. 126\\nTinaton, CA 79547', '+1-251-576-2582x12892', 'Rose-Jackson', 'Before important.', 177006.42958275147, 240235.8820554586, '2014-02-27'), (56, 'Lori Hall', 'qchristian@example.com', '52793 Ingram Crossing\\nNew Angelaville, MA 84600', '764.260.5984x70632', 'White and Sons', 'Public environment.', 148108.11459766704, 279576.1181232133, '2001-09-13'), (23, 'Randy Esparza', 'courtneyfinley@example.net', '829 Brad Mountains\\nWest Kyle, ME 49069', '297-631-6692', 'Cunningham, Davis and Bauer', 'Others base end the.', 166149.36096414225, 48704.71076097404, '2006-07-26'), (56, 'Victor Rios', 'jamesgarcia@example.net', '51588 Sanchez Well\\nEast Jason, VT 36075', '495-355-0733x58837', 'Logan and Sons', 'Job example answer.', 176455.8526923952, 158715.7458800793, '1996-08-30'), (59, 'Sherry Butler', 'imcmillan@example.org', '8515 Raymond Villages Suite 737\\nJeanettefort, FM 20549', '+1-759-797-7586x411', 'Franklin LLC', 'Suggest tend.', 219103.5612685904, 182227.21656842247, '1997-09-30'), (75, 'Robert Ramsey', 'iweiss@example.org', 'Unit 6574 Box 9206\\nDPO AA 10599', '(651)409-2174', 'Andrews-Montgomery', 'Out story fund.', 81761.83243778368, 28422.95555479907, '2007-09-22'), (52, 'Nina Mann', 'holderandrew@example.net', '597 Cheryl Estate\\nLake Stephanie, WI 58911', '685-605-2901x930', 'Grant, Allison and Farley', 'Firm factor debate.', 110457.93618297752, 157629.19254470585, '1999-09-11'), (55, 'Dana Greene', 'xallen@example.com', '74754 Danielle Mountain\\nNew Lynn, CO 26220', '+1-465-950-0012x836', 'Rose-Ortega', 'Civil none song.', 248609.98575659003, 148994.75985121643, '1996-11-27'), (33, 'Emily Adams', 'hernandezjames@example.net', 'PSC 5614, Box 5599\\nAPO AA 77153', '001-428-830-0150x8827', 'Chapman Group', 'High then fire.', 242563.7138215368, 96679.44494251873, '2016-10-26'), (33, 'Taylor Quinn', 'michaelhardy@example.com', '6109 Kevin Station\\nWest Kathleen, FM 03657', '+1-427-831-7023x792', 'Pitts-Crane', 'Cold attack choice.', 207555.44526836684, 179044.57913364706, '2023-06-25'), (58, 'Stacy Gibbs', 'scottbraun@example.net', '45711 Michael Alley\\nKelseyborough, UT 06328', '847.761.8914', 'Livingston, Pierce and Cooper', 'Glass little image.', 171127.49739200302, 159993.75774807468, '2005-01-22'), (32, 'Robert Dawson', 'uspencer@example.net', '36843 Webster Curve\\nWest Carolinetown, TX 06167', '634.899.8965x26396', 'Wilson PLC', 'Our everyone.', 20826.79405473465, 177035.67377722534, '2005-10-08'), (53, 'Anthony Howard', 'masseychristy@example.org', '874 Leslie Mountains Apt. 874\\nDavidmouth, NC 76877', '001-523-266-2146x62126', 'Ward PLC', 'Performance suggest.', 170384.7521675792, 56024.6841193973, '2009-11-02'), (50, 'George Nelson', 'kevinestrada@example.net', '640 Claudia Orchard\\nKarenfurt, MH 81755', '655-575-9343', 'Gutierrez, Watts and Collins', 'Three address.', 247297.19904408575, 143787.9572072095, '2022-03-13'), (36, 'Craig Johnson', 'kellysheryl@example.net', '418 Nichole Radial Suite 734\\nWest Brandon, WI 93874', '700.938.7181', 'Phillips-Patrick', 'Pattern day.', 76117.63799496068, 161490.85413021673, '2012-10-08'), (57, 'Jonathan Chen', 'zgonzales@example.com', 'USCGC Martinez\\nFPO AE 99277', '001-813-777-6803x786', 'Sanders, Davis and White', 'Professor memory.', 187103.37349524032, 253183.30114626593, '1994-12-21'), (32, 'Marcus Gilbert', 'gilljose@example.com', '412 Spencer Shoal Suite 672\\nRodgersbury, NY 35744', '+1-691-342-6940x73543', 'Sanchez PLC', 'Through because.', 101840.10753943385, 117661.15703063164, '2020-01-05'), (75, 'Jennifer Lee', 'xvelez@example.net', '90455 May Island\\nSouth Edwinport, AK 21553', '9457260265', 'Wood Ltd', 'Voice table wall.', 127689.45829514368, 298073.32094494434, '2003-12-28'), (39, 'Kevin Burton', 'darrengallagher@example.org', '87088 Patricia Lakes Suite 471\\nSmithport, AZ 14800', '287-413-6750x8129', 'Cannon, Mccoy and Harper', 'Five important.', 219379.5704452758, 299354.77150258084, '2013-02-15'), (60, 'Cheryl Gray', 'saragrant@example.com', '93059 Michael Canyon\\nNew Jessicamouth, MN 80028', '+1-204-914-8165x612', 'Gamble Group', 'Long carry food ago.', 24598.6043974142, 118493.62213299386, '2006-04-23'), (43, 'Abigail Wilson', 'jmartinez@example.org', 'Unit 3992 Box 3203\\nDPO AA 64348', '710-467-7235x89591', 'Williams, Bailey and Johnson', 'Ahead professional.', 48263.10771040984, 29464.101882447525, '2015-05-01'), (37, 'Amanda Wilson', 'lbrown@example.net', '342 Johnson Throughway Apt. 358\\nPort Collinview, IL 50339', '243.555.3086', 'Wilson, Franklin and Pacheco', 'Down name issue.', 44930.26987426102, 179999.17604013826, '2005-08-25'), (72, 'Shannon Orr', 'stevendavis@example.com', '95181 Greg Loaf Suite 627\\nNorth Cassandra, NY 59165', '(317)999-6407x7027', 'Santiago and Sons', 'Sort series dream.', 12414.313228035922, 175680.63389742238, '2004-07-30'), (31, 'Brett Payne', 'brownchristine@example.net', '82955 Roger Trace Suite 055\\nSchmidtland, DC 07176', '421.441.0919x5728', 'Underwood, Roth and Brown', 'Class now hour.', 178537.48257981383, 68657.54654559719, '2010-07-07'), (25, 'Thomas Gonzalez', 'warddonald@example.net', '82558 Johnson Mission\\nNew Frances, NV 15831', '246-711-2725x830', 'Brooks Inc', 'Race will since.', 54252.05607528881, 235255.82508094885, '2019-08-06'), (45, 'Sharon Jones', 'coopercameron@example.com', '4085 Bean Hills Suite 002\\nEast Steven, PW 01945', '679-818-2030', 'Campbell Inc', 'Issue with.', 213805.34947643217, 122563.28306722133, '2015-04-19'), (74, 'Tony Floyd', 'frankhudson@example.com', '0317 Joe Knolls\\nWest Brian, VI 55746', '415-664-2298x9551', 'Wagner, Wilson and Williams', 'Challenge describe.', 14915.67008765239, 265026.9094648876, '2014-07-13'), (42, 'Lindsay Weeks', 'umurphy@example.net', '872 Barnes Track Apt. 121\\nJessicatown, CA 31400', '+1-467-383-3467x2414', 'Ortiz and Sons', 'Unit author whole.', 133507.25200267305, 241685.70420171513, '1994-10-13'), (40, 'Sue Powell', 'austinmcneil@example.org', '2371 Michael Oval Apt. 647\\nBrandiport, WV 23344', '903-699-2157x440', 'Wood-Rice', 'Threat hospital.', 184001.9184542132, 171602.85191521473, '2005-03-20'), (73, 'Brian Logan', 'larsonpatrick@example.org', '635 Stephanie Corner\\nNorth Christine, OK 92779', '565-231-1776x6496', 'Ball PLC', 'Local foot build.', 84413.78074534173, 165230.42463035198, '2007-12-01'), (37, 'Samuel Garrett', 'hguerrero@example.com', '29169 James Lock\\nWeisston, ND 59783', '001-458-495-0084x18123', 'Stevens, Thompson and Macias', 'International put.', 203562.5280528523, 283731.15420992207, '2016-01-09'), (45, 'Amanda Johnson', 'herringrenee@example.org', '861 Burgess Mill Suite 187\\nNelsonland, MA 46341', '958.307.4975x9975', 'Suarez PLC', 'All thus field.', 244692.6231155904, 137064.70154501637, '2006-10-12'), (29, 'Ivan Shaw', 'cherylmiller@example.org', '9960 Davis Overpass\\nNew Valerie, PR 42872', '(555)444-8556', 'Patterson-Poole', 'Speak million peace.', 83166.63868516161, 270184.63095848315, '2018-07-29'), (22, 'Natasha Rivera', 'nshelton@example.org', '586 Lori Ports Suite 734\\nKimfort, WY 49371', '617-450-2290x26845', 'Hopkins, Graham and Humphrey', 'Leave result nearly.', 145519.6001519007, 82442.65086106754, '1999-08-15'), (22, 'Mrs. Sara Jordan DDS', 'haley33@example.net', 'PSC 8880, Box 6415\\nAPO AA 92048', '396-261-0845x243', 'Curtis LLC', 'Really all song.', 135149.86979213354, 21624.844837972087, '2008-03-22'), (38, 'Jordan Marshall', 'baxtermarc@example.net', '3002 Nguyen Estates\\nBaileyside, MS 05574', '+1-297-561-2721x048', 'Cooper-Baker', 'Return quickly.', 76592.82953426223, 153924.65264626712, '2017-07-31'), (38, 'Melissa Fernandez', 'mayeranthony@example.com', '137 Randy Burgs\\nSouth Christopherstad, TX 52759', '+1-835-478-5685x9533', 'Hall Inc', 'This director model.', 52716.65396115348, 201227.70501592846, '2024-04-10'), (74, 'Kaitlyn Rivera', 'sheila93@example.net', '34832 Cooper Grove Apt. 090\\nLake Williamview, TN 49351', '572.707.4082', 'Russell, Gates and Chan', 'Run yard middle.', 238785.21780897837, 263975.47139370005, '2019-01-03'), (65, 'Charles Knapp', 'joseph61@example.org', 'Unit 8384 Box 1966\\nDPO AA 51310', '001-765-439-6382x5182', 'Oliver, Robinson and Woods', 'Course south.', 73737.78688510142, 92342.14580846664, '2007-04-23'), (64, 'Christopher Gomez', 'jonesjustin@example.org', '2332 Alvarado Junction\\nLake William, HI 50425', '(327)247-2140', 'Rogers-Bryan', 'Really present.', 112055.79332423268, 290088.0028285498, '2012-04-11'), (23, 'Katherine Palmer', 'kristarussell@example.org', '83002 Charles Green Suite 521\\nScottburgh, RI 42193', '001-209-308-9868x7396', 'Conley Inc', 'Smile glass.', 62969.64289178339, 102427.17130554575, '2010-10-17'), (28, 'Roy Baldwin', 'carolinewilliams@example.net', '66050 Teresa Motorway Apt. 824\\nFoxberg, ND 62572', '812.810.7509', 'Hamilton PLC', 'Federal everything.', 222047.97564301008, 50984.1847970766, '2019-03-12'), (52, 'Tyler Nichols', 'bradrice@example.com', '25962 Derrick Route Suite 501\\nPort Randy, DC 75558', '244-546-3991', 'Cook LLC', 'Fact year need.', 158451.53672601123, 160233.70690159113, '1996-12-31'), (38, 'George Vazquez', 'ihernandez@example.net', '481 Michael Road Suite 000\\nEast William, RI 33910', '6173379373', 'Brock-Carr', 'Career war away.', 238322.09242349167, 299202.0908141927, '2021-10-03'), (30, 'David Johnson', 'johnstonronald@example.net', '0275 Richardson Neck\\nMariabury, MD 71696', '+1-934-529-8876', 'Mooney Inc', 'Compare least later.', 142697.16956466745, 199275.39647520764, '2014-10-03'), (50, 'Brett Clarke', 'phillip46@example.com', 'PSC 2000, Box 3822\\nAPO AE 57432', '001-274-296-1981x70271', 'Moore, Smith and Davis', 'Exactly stay expert.', 210690.37026240962, 29453.73822206153, '2002-11-21'), (73, 'Megan Miller', 'jamesthompson@example.com', '8070 Patton Dale\\nMitchellborough, OH 69349', '+1-258-942-7882', 'Erickson and Sons', 'Consider notice.', 16553.93427552098, 171724.09301922558, '2000-11-06'), (54, 'Matthew Hunter', 'kramersara@example.com', '481 Heather Vista\\nDanielborough, MP 38964', '986.550.3744', 'Hill Group', 'Time red stuff.', 171558.88013497225, 157589.35430504943, '2008-10-02'), (39, 'Timothy Jennings', 'matthew28@example.net', '003 Tran Forks Apt. 245\\nNew Matthew, IN 33336', '(649)866-6851x8094', 'Dennis-Johnson', 'Resource at among.', 69804.54950181479, 24640.25411808856, '2006-06-17'), (61, 'Brandy Green', 'brian27@example.org', '7203 Yvonne Brooks Suite 721\\nLynchtown, CO 19558', '909.419.9124', 'Kennedy-Patrick', 'Itself step hundred.', 226744.23993398013, 62758.591956020784, '1994-09-21'), (64, 'Matthew Browning', 'patriciaarcher@example.net', 'PSC 1916, Box 3762\\nAPO AA 53522', '001-912-685-8794x15003', 'Mullins, Perez and Sawyer', 'Down election.', 176415.87743868036, 203297.35092437314, '2006-10-09'), (66, 'Melinda Washington', 'jonessharon@example.com', '7438 Steven Hills\\nWest Nathanstad, SC 72616', '937.851.0516', 'Hernandez, Bautista and Sullivan', 'Anyone special know.', 119483.77071668213, 199354.55145403638, '2013-01-23'), (42, 'Gordon Williams', 'sara91@example.org', '5475 Amy Manor\\nCharlesmouth, WI 91579', '+1-505-431-6329', 'Allen, Thomas and Jones', 'Analysis receive.', 182517.8299109007, 148818.57204046083, '1994-06-21'), (36, 'Lisa Martin', 'vbullock@example.org', '434 Lambert Path\\nChristophermouth, AL 73810', '001-991-755-1396x61369', 'Hopkins and Sons', 'Movement mind oil.', 102524.10188357258, 145349.57918609373, '2002-09-18'), (54, 'Darin Herring', 'gmoreno@example.com', '6222 Murray Island Suite 489\\nNew Tonya, NJ 66711', '271-724-0741x6003', 'Jenkins, Grant and Smith', 'Decade your.', 106032.7207573816, 37626.216744385194, '2007-05-04'), (27, 'Daniel Smith', 'petersbrandon@example.net', '50069 Schmidt Burg Suite 337\\nHodgesberg, OR 57344', '785.257.1510x035', 'Hernandez, Hunter and Reilly', 'Everyone small.', 183667.88840660846, 93236.32857427858, '2003-08-26'), (50, 'Jonathan Simon', 'williamsrobert@example.net', '817 Teresa Trafficway\\nLake Cynthiachester, LA 95241', '7016544176', 'Bond-Garcia', 'Item for statement.', 131979.45479762147, 135479.67997030154, '2019-12-04'), (62, 'Jessica Carlson', 'aaron15@example.net', '68996 Pineda Vista\\nThomasport, MP 65795', '323-669-6082', 'Thomas Group', 'Authority morning.', 86323.94735550003, 121291.15901516411, '2016-12-13'), (71, 'Ethan Charles', 'justinrowland@example.net', '53995 Smith Keys\\nWest Aliciaview, HI 80059', '251.961.9869', 'Phillips, Brown and Frank', 'Week arrive cover.', 10277.697385080193, 35381.261322390994, '2015-08-14'), (32, 'Cynthia Moore', 'pstafford@example.com', 'PSC 7638, Box 8577\\nAPO AA 78651', '406.613.8280x515', 'Berg PLC', 'Describe pull.', 129460.97513232364, 49066.322943445106, '2000-03-13'), (39, 'Kristina Horn', 'rnelson@example.net', '8145 Melissa Circle\\nSouth Melissabury, ME 31752', '506-666-7248x112', 'Foster-Goodwin', 'Create course act.', 123851.0690411135, 264649.14789331227, '1998-03-04'), (59, 'John Martin', 'benjamin66@example.com', '0049 Bryan Falls Suite 662\\nWilsonburgh, NE 29390', '982.281.6178x317', 'Walker-Morris', 'Discussion memory.', 143779.47377541603, 294028.99131998373, '2004-02-29'), (35, 'Stephanie Zuniga', 'ymorris@example.com', 'PSC 1279, Box 0642\\nAPO AE 23650', '858-664-4672x52295', 'Santiago, Mcclure and Smith', 'Generation unit of.', 186774.66183025995, 190411.2500581621, '2014-10-14'), (69, 'Jose Miller', 'austin63@example.org', '284 Chavez Courts Apt. 246\\nJonathanchester, ND 61066', '(884)796-8595x22342', 'Davis-Wright', 'Leave PM allow.', 107037.0292516413, 89539.6261576819, '2014-08-20'), (26, 'Caroline Hughes', 'pagemichelle@example.com', '951 Thomas Club\\nNorth James, OK 97103', '001-478-507-7801x7341', 'Brown, Matthews and Gomez', 'Responsibility top.', 223280.18687127143, 58217.21979225191, '1996-11-01'), (58, 'Heather Carter', 'lopezpatricia@example.org', '17795 Wright Circles\\nLake Lisa, AR 42122', '+1-313-586-9035', 'Wood PLC', 'Still open goal.', 55769.07545467686, 111443.6576856001, '1997-11-08'), (35, 'Jared Gallagher', 'zwarner@example.org', '0541 Skinner Lights Suite 712\\nWest Michael, WV 91391', '001-864-349-2929x101', 'Figueroa Inc', 'Ok house among.', 116102.25078286255, 212606.51920409978, '2016-07-16'), (45, 'David Roman', 'xlee@example.com', 'USCGC Avery\\nFPO AP 92057', '(709)639-0642x79908', 'Hodges, Montoya and Flores', 'Significant music.', 77249.40949938004, 200538.2573125375, '2023-01-21'), (52, 'Chase Shaw', 'hesscharles@example.org', '4741 Jacobs Drive\\nMichaelside, AL 44628', '920-515-8824x551', 'Edwards Group', 'Girl every soon.', 91851.8121741581, 36628.62387001944, '2023-08-27'), (59, 'Monica Carter', 'efischer@example.org', '3785 Jason Land\\nMichelleville, FL 34292', '269.336.3070', 'Barr, Smith and Jennings', 'In quality get easy.', 230808.97618594536, 62411.78385591599, '2003-01-22'), (65, 'Mary Henderson', 'xwalter@example.com', '25988 Cooper Radial\\nWest Jessetown, NY 61048', '+1-204-710-1173x683', 'Castillo, Bentley and Vega', 'Hair value cost top.', 219322.22414027157, 21323.433267603585, '2016-08-27'), (46, 'Jose Burton', 'brownveronica@example.com', '67126 Castillo Trail Apt. 493\\nNorth Jenniferhaven, WY 79221', '001-264-662-2377x635', 'Cruz Ltd', 'Away material again.', 163934.41128858877, 253388.41648183923, '2011-01-27'), (25, 'Steven Ferguson', 'pramirez@example.net', '38450 Harding Station\\nJasonview, WY 80588', '+1-335-302-1057x11782', 'Martinez Ltd', 'First yard idea.', 219245.25007691505, 189579.39955420076, '1998-09-09'), (23, 'Jennifer Velasquez', 'megan70@example.com', '983 James Cape Suite 491\\nPort Ronaldtown, ND 15410', '(674)669-6028x29512', 'Jackson Inc', 'Actually oil.', 219602.39410669124, 211292.07471322108, '2003-10-17'), (30, 'Renee Andrews', 'hannah78@example.com', '2972 Phillips Walks Suite 439\\nShahfurt, VI 80437', '332.771.0811', 'Fuller and Sons', 'Should forward.', 185200.8645129859, 138764.8329230605, '1999-03-25'), (66, 'Lauren Roberts', 'justin50@example.org', '83372 Hunt Village Suite 570\\nPort Jennifer, VA 34888', '001-879-671-4128', 'Moore-Wilson', 'Woman information.', 74481.60781666747, 296969.1316195622, '2014-01-09'), (66, 'Anthony White', 'donna33@example.com', '69234 Clark Islands\\nKennedyport, VA 65258', '(441)910-6554', 'Wong-Miller', 'That start popular.', 59206.494041649756, 275450.6024639798, '2001-04-16'), (46, 'Rickey Walters', 'smay@example.net', '25712 Chandler Tunnel Apt. 839\\nPort Travis, NV 75694', '470-794-3911x289', 'Sharp, Brandt and Webb', 'Science much never.', 94688.47667742071, 246804.30972565475, '2020-02-09'), (43, 'Michael Mitchell', 'julie00@example.com', '629 James Skyway Apt. 340\\nMeredithburgh, NY 79140', '(408)509-8104x7019', 'Gill, Peterson and Anderson', 'See college modern.', 22423.977762168335, 173046.36733620998, '2012-07-21'), (55, 'Denise Williams', 'tkelley@example.org', '13382 Theodore Drives\\nNewmanside, NY 34493', '(228)321-9092x9976', 'Rice-Murillo', 'Management someone.', 246196.07633058474, 76953.73682429446, '2013-03-07'), (49, 'Stacy White', 'michael31@example.net', '183 Johnson Falls Apt. 198\\nBradfurt, ND 65841', '603-874-0410', 'Murray Inc', 'Style hear middle.', 221412.33513076828, 223543.2940830843, '1996-04-16'), (70, 'Anthony Juarez', 'caitlyn89@example.org', '409 Jennifer Views Suite 792\\nNorth Michaeltown, NY 68998', '897.304.1324x9538', 'Morris-Griffin', 'Suddenly garden.', 62457.83400398194, 86182.82271502976, '1998-05-26'), (65, 'Joseph Alexander', 'tberry@example.org', 'Unit 3910 Box 8388\\nDPO AA 62235', '5357019500', 'Smith-Smith', 'Leg soon provide.', 154783.89265232705, 241307.03039292782, '2023-10-19'), (47, 'Robert Barnett', 'cheryl94@example.net', '11221 Antonio Shore\\nPort Johntown, OR 38289', '(272)311-2141x1374', 'Calhoun-Gardner', 'Various everything.', 12922.250814768566, 127325.15413629547, '2022-10-30'), (38, 'Jodi Atkins', 'stephaniesmith@example.org', '082 Richard Mountain Apt. 667\\nRandallbury, PA 71780', '247.616.4036', 'Carter, George and Barron', 'Foreign firm hotel.', 218466.7736010399, 73323.67661744289, '2021-08-02'), (71, 'Dawn Baker DVM', 'johnsonthomas@example.org', '463 Cruz Parks\\nWest Teresa, IN 96293', '001-925-251-9336x86070', 'Terry, Nelson and Tran', 'Business give sell.', 242534.8018914844, 57524.71471559418, '2017-02-17'), (64, 'Alicia Smith', 'sanchezelizabeth@example.org', '98714 Beth Estate\\nWest Nicholeport, IA 21788', '(867)368-4016x07617', 'Osborn-Curtis', 'You act day provide.', 59455.60055516929, 205413.64078191508, '1994-11-21'), (55, 'Regina Garcia', 'alan67@example.com', '0106 Rachel Curve\\nErichaven, SC 14104', '+1-745-930-0634x31569', 'Brown Ltd', 'Many window learn.', 246188.5641397635, 71273.9623177253, '2010-11-09'), (21, 'Lucas Nelson', 'douglascox@example.com', '1326 Davila Forge\\nDavischester, MN 35862', '(586)425-8152', 'Watson-Wilkinson', 'Research customer.', 102862.06495457917, 212400.44409235645, '2000-02-19'), (67, 'Nicole Bradley', 'guerramelissa@example.net', '9221 Lewis Street\\nWest Matthew, CT 42919', '(821)808-3090x419', 'Tucker, Benson and Camacho', 'Commercial impact.', 143472.81088174076, 98907.7167775886, '2015-01-16'), (46, 'Autumn Nichols', 'josephtownsend@example.com', '49066 William Bridge Suite 604\\nErikport, MO 93581', '001-694-677-2631x88558', 'Mckinney-Garrett', 'Physical speech.', 208326.171083667, 102540.80881160026, '2020-10-30'), (47, 'Brian Jones', 'kmccall@example.com', '3714 Rebecca Villages\\nRobertsborough, MS 62219', '001-882-463-6022', 'Maldonado PLC', 'A administration.', 205221.48037044102, 252125.1869510947, '2014-05-20'), (46, 'Dustin Gilbert', 'melinda33@example.net', '2424 Robert Run Apt. 626\\nSouth Kimberlyland, SC 86685', '+1-332-386-8956x461', 'Roberts-Farley', 'Claim picture.', 223892.33894751055, 82374.96529689191, '2024-02-25'), (65, 'Ruth Roberts', 'veronica12@example.net', '3028 Hamilton Shore Apt. 049\\nLake Trevorstad, FL 71176', '935.804.6490', 'Booker Ltd', 'Buy thought box.', 192747.87073746344, 156614.75615954623, '2020-10-09'), (50, 'Monica Dean', 'nicholsmatthew@example.com', 'Unit 8209 Box 6085\\nDPO AA 08664', '+1-209-780-8845x615', 'Pacheco Ltd', 'Last rather improve.', 237174.26553818677, 129063.97647452271, '1997-02-20'), (52, 'Douglas Carpenter', 'castrojerry@example.com', '55800 Sanchez Lane\\nMaryhaven, AS 25052', '355.955.9528', 'Salazar-Frazier', 'Strong like spring.', 105797.56544518996, 183950.99251706267, '2018-10-31'), (28, 'Jennifer Hansen', 'ricksanders@example.net', '543 Roach Plain\\nJohnsonstad, KY 57925', '652.417.1427x18317', 'Brown-Herring', 'Machine indeed set.', 229620.01291524293, 232717.24763486005, '2021-08-04'), (60, 'Mrs. Amanda Clark', 'scottmahoney@example.org', '6492 James Lodge Suite 098\\nAlexanderview, ME 91667', '517-429-1703x99327', 'Schwartz Inc', 'Hot special.', 63891.02556612122, 188352.7613783109, '2019-06-23'), (71, 'Molly Fox', 'nichole31@example.org', '8588 Le Rue\\nSummersstad, ID 75534', '(632)898-9377', 'Smith and Sons', 'Budget response.', 65065.853397653256, 69258.07234743453, '2010-02-16'), (73, 'David Roth', 'jared48@example.org', '0324 Terri Trace Suite 300\\nEast Christopher, PW 34475', '(291)938-2960x179', 'Nguyen-Hatfield', 'Best impact new.', 77176.30787997352, 77674.1466493564, '1999-05-25'), (26, 'Patricia Schwartz', 'gregory48@example.com', '656 Elizabeth Port\\nWhiteburgh, AR 66867', '+1-291-882-9460x7902', 'Davis PLC', 'Sell color without.', 232969.24942668612, 106095.3280998783, '2017-03-12'), (46, 'Ryan Tucker', 'timothy25@example.org', '941 John Ramp Suite 537\\nWest Cindy, WY 35253', '872-316-6198', 'Webb PLC', 'Open themselves.', 122092.86190439369, 102754.86804664474, '2003-11-10'), (47, 'Megan Graham', 'shawnfrank@example.com', '103 Gregory Trace Suite 188\\nNorth Isaacview, NM 33377', '958-353-6941x4725', 'Green Group', 'Just movie door.', 142601.27759325312, 286748.35578809207, '2006-06-17'), (72, 'Laura Cross', 'brendanhughes@example.net', '1056 Schmidt Path Suite 500\\nGarciaburgh, NC 48985', '(516)882-4884x676', 'Blackwell Inc', 'More travel down.', 213715.90729360457, 225400.7093270203, '2006-02-11'), (50, 'John Henson', 'salvarez@example.com', '9409 Emily Squares Suite 907\\nColinshire, IN 26113', '001-456-977-4965x8325', 'Christian and Sons', 'Yet next quickly.', 101065.96608796468, 166481.3434409889, '2021-07-30'), (53, 'Patrick Meza', 'qjones@example.com', '859 Ortiz Ports Suite 205\\nNew Phillipland, LA 48754', '+1-952-489-0601x8948', 'Rivera-Holmes', 'Treatment build.', 92250.78208999793, 19705.190554559405, '2019-05-22'), (75, 'Heidi Smith', 'space@example.net', '428 Ronald Land\\nWest Melanieburgh, ME 41789', '941-418-5684x7737', 'Roman Group', 'Tough safe safe.', 27357.302024806857, 98072.87327359155, '2001-03-22'), (73, 'Michelle Bennett', 'rpitts@example.net', '7759 Dennis Harbors Apt. 183\\nDavisborough, KS 37578', '807-371-7753', 'Tanner LLC', 'Artist range.', 76624.79589607626, 184416.61472285696, '2012-05-23'), (41, 'Cheryl Gardner', 'catherinemartinez@example.org', 'Unit 6609 Box 9421\\nDPO AA 38147', '5599088470', 'Harvey-Mcbride', 'Yourself second.', 90885.91148747459, 74292.49979435455, '2020-06-03'), (74, 'Michelle Foster', 'perezchelsea@example.org', '847 Lee Ferry Apt. 710\\nRyanstad, VI 26579', '230.488.3671x082', 'Sanchez Ltd', 'While option.', 37322.58235729858, 93866.44553977241, '2015-05-01'), (32, 'Brandon Young', 'zacharycox@example.org', '786 Henry Well\\nWest Kimtown, GU 77300', '287.844.4796x93740', 'Adams Ltd', 'Because memory.', 210411.09691999428, 48617.89805597812, '2020-10-16'), (52, 'Benjamin Rogers', 'tmartin@example.org', '415 Morris Falls\\nNorth Cynthiachester, AK 38079', '4866161965', 'Chambers-Harmon', 'Street little sense.', 152488.60358778192, 296390.6269670458, '2002-01-04'), (70, 'Tony Long', 'mdodson@example.org', '824 Wendy Rapid\\nNew Linda, MD 21140', '+1-557-216-3116x96571', 'Andrews PLC', 'Purpose kitchen yes.', 21991.373506196054, 292352.11719021044, '2007-09-07'), (69, 'Kyle Bell', 'ramirezbrian@example.org', 'PSC 4369, Box 1598\\nAPO AE 45978', '+1-459-268-4196x79716', 'Long LLC', 'Data player air.', 79116.2450835833, 297627.86586254445, '2018-03-30'), (29, 'Sandra Goodman', 'derrickmartinez@example.org', '35404 Sarah Village Apt. 074\\nJonathanfurt, NC 84062', '+1-606-475-6701x4275', 'Brown, Craig and Cruz', 'Relationship.', 56919.3200271678, 284927.63039904105, '2008-10-23'), (44, 'Robert Parker', 'kevin24@example.org', '0220 Frank Centers\\nPort Shawnborough, TX 10918', '(225)859-2922', 'Davis-Rivera', 'Significant.', 22231.42452828461, 114942.93876964033, '2007-03-16'), (45, 'Christopher Carey', 'amandasanders@example.com', '0482 Schmidt Unions\\nLake Juanville, MA 40002', '+1-343-654-6526x093', 'Taylor, Vargas and Davis', 'Can population.', 121720.32333228836, 24560.09422020144, '2000-04-12'), (32, 'Jason Payne', 'morrowchristopher@example.net', '9879 Fields Manor Suite 118\\nBlackton, NJ 82213', '+1-892-556-3695x896', 'Smith, Mays and Shaffer', 'Near several may.', 205510.21383930426, 127497.07430389758, '2022-06-03'), (66, 'Marcus Good', 'hughescatherine@example.org', '838 Sarah Unions\\nKatiehaven, OR 35094', '+1-541-451-1878x4028', 'Chandler-Watson', 'Mrs operation leg.', 164903.35110182507, 168238.9736545378, '2009-11-19'), (25, 'Jenna Mcfarland', 'kirkmichael@example.com', '7577 Gray Cliff Suite 474\\nYateshaven, SC 96673', '001-629-475-9091x4316', 'Wright-Ward', 'Think cover town.', 133263.46196937337, 97470.2195434099, '2018-05-16'), (47, 'Katherine Paul', 'christophermccullough@example.com', '65195 Isabella Plain\\nNew Andrewborough, NV 14595', '(807)425-6102x26391', 'Smith Group', 'Manage help create.', 61389.791750026365, 141896.37436968996, '2002-04-03'), (71, 'Amber Woods', 'michaelallen@example.net', 'Unit 1110 Box 5498\\nDPO AE 62717', '(314)508-0746x759', 'Barry, Miller and Smith', 'Fill option know.', 104714.99944053695, 234114.5320144399, '2008-06-02'), (59, 'Dave Miller', 'jjohnson@example.net', '079 Mark Neck Suite 944\\nWest Regina, KS 25695', '(206)504-0359x3951', 'Potter, Thompson and Powell', 'Despite people out.', 85499.94293941422, 246141.23336496984, '2003-07-12'), (55, 'Joshua Jones', 'ballsarah@example.net', '441 Black Ways\\nMollyborough, OH 58732', '708.389.3229x7732', 'Day Group', 'Star charge just.', 219988.24827211155, 164016.87540139645, '1998-07-06'), (72, 'William Lucas', 'lebecky@example.org', '50347 Gabriella Lock\\nEast Jessicafort, NV 92653', '3307356684', 'Baker, Carson and Ball', 'Win bank ago.', 42286.512839896044, 150822.50413804367, '2020-06-03'), (25, 'Jeffrey Wolfe', 'jgarcia@example.org', 'USS Bush\\nFPO AP 75537', '001-636-848-1669', 'Reyes and Sons', 'Season check.', 185126.9937853037, 239288.01505718526, '2000-07-14'), (64, 'Kristin Lopez', 'andrea12@example.com', '36026 Trevor Knoll\\nEast Kimberlytown, MN 07453', '(813)951-3488x78848', 'Perry, White and Snyder', 'Center address.', 148136.26372144336, 192026.85083093407, '2008-02-25'), (64, 'Eric Chang', 'lisa57@example.org', '561 Hannah Coves\\nSouth Timothyburgh, MN 61599', '(244)768-0760x6393', 'Johnson-Ellis', 'Generation hold.', 131069.32790133133, 173421.45313085977, '2013-09-02'), (59, 'Thomas Lewis', 'dylanmartinez@example.org', '65122 Phillips Road\\nWest Elizabethborough, OH 64225', '(401)580-2323x918', 'Jordan, Jackson and Mccall', 'Life difference ask.', 163892.14132749924, 220623.8144460868, '2018-06-17'), (60, 'Alexander Morgan', 'patrickkoch@example.org', '8061 Mendoza Spur\\nLake Jessicatown, TX 26889', '668-668-4623x00891', 'Key and Sons', 'Find actually young.', 124688.6571702431, 225484.14673707366, '2009-08-29'), (61, 'Cassandra Carlson', 'sarah15@example.net', 'USCGC Hall\\nFPO AE 03147', '840.655.2203', 'Haynes Group', 'Rich director idea.', 112753.0839164432, 215127.23936003438, '2000-06-13'), (74, 'Evan Taylor', 'kelly18@example.org', '525 Martin Views\\nJayton, KY 06157', '001-953-244-3091', 'Lopez PLC', 'Character concern.', 223919.81105680688, 236107.62792009898, '2021-11-12'), (54, 'Gina Watson', 'annestone@example.org', '45551 Gordon Stream Suite 472\\nOconnorfurt, VA 68674', '764-967-5242', 'Green-Brown', 'Why may economy.', 37099.5533546551, 195267.69117572976, '2023-06-09'), (33, 'Michele Davis', 'wharris@example.net', '0763 Catherine Skyway Suite 789\\nNew Daniellefort, NM 18732', '8074026242', 'Harris-Miller', 'Daughter audience.', 72773.61799403818, 12985.208330189378, '1995-03-04'), (54, 'Mrs. Jodi Mendoza', 'yyu@example.com', '814 Smith Turnpike Apt. 084\\nPetersonfort, MT 46578', '001-528-205-1343x39559', 'Jefferson-King', 'Director return.', 153530.77735553132, 250334.3022653273, '2016-12-29'), (43, 'Sarah Adkins', 'oparker@example.org', '89381 Jennifer Brooks\\nNorth Anthonyside, NY 20363', '+1-480-655-7416x1281', 'Olsen Ltd', 'Or Mr but myself.', 242649.18749589127, 213715.2909372896, '2012-02-08'), (37, 'Eric Richardson', 'ronaldrusso@example.net', '8938 Jonathan Crest\\nSouth Derek, GU 14763', '(892)275-2849x905', 'Cox Ltd', 'Mission father.', 203955.97680018836, 219495.14680870244, '2001-06-23'), (25, 'Courtney Schroeder', 'ghunt@example.org', '1104 Brandy Ways\\nWest Cheryl, NH 71292', '317.866.7377', 'Thomas and Sons', 'Every car pretty.', 47515.91376008322, 57692.70603187133, '2008-11-29'), (74, 'Christina Mendoza PhD', 'erikawilliams@example.net', '1516 Keith Ports\\nPort John, PW 86848', '875-213-2816', 'Ibarra Group', 'Actually than on.', 44325.08779724066, 81402.47969327813, '2007-07-26'), (40, 'Jennifer Moore', 'montgomerybradley@example.com', '364 Jesse Green Suite 892\\nSmithside, MA 40897', '3688331182', 'Lambert, Sims and Garcia', 'Far reduce section.', 55499.74382531264, 180548.37914502484, '1997-03-08'), (51, 'Steven Miller', 'fmccarthy@example.org', '8578 Trevino Mills Apt. 465\\nLake Davidside, CO 27081', '565.944.0301', 'Marshall-Sanders', 'Nor quality along.', 234782.7865853621, 217219.60945760307, '2007-11-19'), (53, 'Daniel Thomas', 'cooleyrobert@example.org', '16743 Bonnie Dale\\nCisnerosport, NY 98052', '597-405-5642', 'Taylor Ltd', 'Enough network.', 122739.69370472696, 272654.7898081762, '2015-02-13'), (75, 'Walter Oneill', 'wreeves@example.net', '3152 Dennis Ridges Suite 090\\nPort Seanland, NY 22098', '2149880005', 'Sanders and Sons', 'Card create house.', 165893.65604845053, 37823.65073170548, '1997-12-29'), (63, 'Mr. Jordan Jones', 'hsmith@example.com', '7817 James Estate\\nPort Christopherburgh, WI 23815', '751-496-4319', 'Ortega-King', 'Choose quickly.', 209067.45210441286, 273211.6073996601, '2022-11-06'), (43, 'Matthew Watson', 'carterheather@example.com', '03058 Logan Fork\\nSouth Tiffanychester, NH 05095', '307-342-6314x787', 'Nixon, Perry and Franco', 'Great read art.', 158365.15832272638, 36463.16961543361, '2012-09-28'), (30, 'Jeffrey Daniel', 'laura03@example.com', '56307 Lori Extensions Apt. 166\\nTashaland, GU 44660', '678-810-9301x2956', 'Warner-Harris', 'Meet benefit since.', 46494.749444948866, 249385.5689809097, '2021-07-06'), (44, 'Ariel Armstrong', 'ucooper@example.org', '127 Bennett Avenue\\nPort Lisa, IA 63918', '(868)638-0962', 'Hendricks Inc', 'Then consumer.', 199049.19278793357, 163586.93217227442, '2003-11-07'), (65, 'Melanie Nichols', 'vanderson@example.org', '716 Jones Garden\\nHansonville, HI 67047', '584-622-7761x404', 'Henry and Sons', 'Behind prove.', 62702.346151706406, 164693.23177877712, '2019-08-06'), (27, 'Corey Martin', 'langcaleb@example.net', '60804 Melvin Groves Apt. 089\\nWest Angela, AR 53881', '547.707.2894x966', 'Wilson-Chan', 'Trouble more value.', 24018.308247491386, 151671.62824187565, '2018-11-08'), (61, 'William Wolf', 'smithtyler@example.com', '27526 Roy Creek Suite 976\\nLake Haleychester, FM 04399', '748.944.7614x4167', 'Peterson, Pope and James', 'Serve bag a none.', 212609.23617351975, 246238.80010929564, '2011-06-10'), (24, 'Victoria Briggs', 'dillonrobert@example.com', '992 Stark Land\\nLindseyland, CT 35405', '594.501.6536', 'Park Ltd', 'Region painting run.', 219960.76686516713, 73425.63011948566, '1996-01-30'), (60, 'Nicole Miller', 'bradleysolomon@example.net', '171 Weber Plain\\nSouth Jerrychester, AK 43851', '+1-893-807-4275x48393', 'Mcgee Group', 'Raise fall ability.', 128041.96035154165, 203345.4244987157, '1996-01-03'), (71, 'Darrell Berg', 'tcooper@example.net', '5349 Tony Points Suite 058\\nKennethtown, WY 53567', '(818)515-9372x1542', 'Garza Inc', 'Never ahead.', 149011.21957179272, 227152.37102160914, '2017-03-25'), (24, 'Timothy Olson', 'whitemike@example.net', '42723 Cervantes Viaduct Suite 536\\nNorth Jenniferfort, NJ 37786', '636.385.6675x2771', 'Payne-Lindsey', 'I couple scientist.', 72971.05775330833, 291678.7145351891, '2005-01-01'), (64, 'Courtney Williams', 'andersonnoah@example.com', '3680 Timothy Meadow Apt. 376\\nRyanchester, NJ 35122', '4505031628', 'Wilson, Ellison and Hahn', 'Job nature street.', 128377.79586249191, 298553.0280250188, '2019-11-22'), (74, 'Kyle Rodriguez', 'judy23@example.org', '051 Rose Motorway Suite 857\\nErichaven, IN 66117', '564.503.2394x3165', 'Stone and Sons', 'Major laugh wind.', 115087.8547202418, 43789.77396951477, '2018-05-17'), (21, 'Ashley Fernandez', 'jay86@example.com', '6418 Tammie Crossing Apt. 161\\nPort Mark, GA 83559', '610.518.4805', 'Martin, Monroe and Hudson', 'Tell moment never.', 103291.32908269235, 100541.27620650691, '2001-12-04'), (73, 'Stephanie Cooper', 'michaelspencer@example.org', '673 Andrew Mews Suite 657\\nPort Molly, CO 15573', '001-879-806-5223x928', 'Hart-Williams', 'Ground area well.', 48379.401029591405, 11162.307601447634, '2010-01-22'), (72, 'Allison Smith', 'fjenkins@example.org', 'USNS Miller\\nFPO AP 34066', '+1-879-526-9492x44351', 'Sullivan-Bailey', 'Anyone tend start.', 103165.25162077651, 62281.65968915233, '1999-01-31'), (53, 'John Lawson', 'john69@example.net', '6585 Samuel Track Apt. 800\\nNew Steven, IL 70561', '(854)279-7199x7763', 'Zimmerman, Nicholson and Anderson', 'Talk method eat.', 34251.934169802276, 62517.80661801383, '2023-07-13'), (75, 'Vickie Howard', 'stacy88@example.com', '855 Brown Trail Apt. 471\\nRaymondborough, AK 37303', '+1-652-748-4295', 'Reynolds-Owens', 'Business model.', 69058.10030766224, 193766.53244692177, '1995-01-13'), (56, 'Deborah Perry', 'millermary@example.net', '661 Laura Flat Suite 467\\nLake Jamesfort, NE 39273', '001-812-371-9399x73105', 'Johnson Ltd', 'Look these turn.', 11146.853077888058, 299891.84531476983, '2014-05-23'), (32, 'Joseph Murray', 'joshuahaney@example.org', '016 Joseph Plaza\\nSouth Deanna, NY 01564', '256-776-8111x5249', 'Skinner-Stevens', 'Together operation.', 203395.19209811007, 271566.7794304094, '1996-10-06'), (70, 'Robert Flowers', 'trevorjordan@example.com', '839 Marilyn Island Apt. 266\\nWest Crystalton, NH 47982', '792-803-8915x291', 'Smith LLC', 'Quite sort.', 199398.46953490077, 215306.22040387677, '1994-08-02'), (43, 'Amanda Morgan', 'xwatkins@example.net', '09984 Dakota Square Suite 461\\nLake Christopher, ND 33292', '372-689-6436x72650', 'Smith, Hess and Flores', 'Rise to parent.', 114178.08244985326, 63933.210524872404, '2007-12-25'), (29, 'Jenny Wright', 'michael64@example.com', '7951 Craig Stream Suite 017\\nCannonborough, DC 63011', '408-259-2280', 'Dean-Stevens', 'Rise environmental.', 16657.336236837113, 170142.65471439424, '2012-07-23'), (49, 'Anita Mills', 'hoovermichele@example.com', '79559 Misty Shore\\nEast Krystal, NV 79648', '453.697.0908x31943', 'Fisher-Price', 'Everything meet.', 242015.9174946107, 214142.391710474, '1996-02-22'), (38, 'Jermaine Watson', 'jesse11@example.net', 'USS Turner\\nFPO AE 43620', '001-846-257-5783', 'Maynard-Abbott', 'Civil federal.', 152198.21041669228, 258132.8311449099, '2001-03-29'), (57, 'Karen Rogers', 'thomasdonald@example.org', '481 Leonard Valleys\\nPowellburgh, NE 93465', '809.499.7281x492', 'Howard-Shelton', 'Physical risk.', 163774.48878838014, 185445.66190599673, '2011-12-07'), (35, 'Maria Hall', 'petersondawn@example.net', '405 Christopher Field Suite 766\\nNorth Micheal, UT 32302', '524.923.8507', 'Rodriguez-Durham', 'Rich learn toward.', 151664.04173345605, 27041.61768496009, '2001-02-20'), (24, 'Christopher Kim', 'fnorris@example.org', '4838 Henry Mountains\\nPort Kathyburgh, MT 82743', '001-902-344-1906x4017', 'Nicholson LLC', 'Each world.', 20494.64518979442, 226543.5465538225, '2006-11-10'), (66, 'Jeffrey Rogers', 'fterry@example.com', '8222 Linda Burgs\\nNew Emily, HI 64513', '(559)441-7329x8741', 'Hammond, Love and Taylor', 'Finally worry.', 104222.09260683098, 118331.36640321383, '1997-05-05'), (48, 'Lauren Barton', 'youngsarah@example.net', 'Unit 1042 Box 0411\\nDPO AP 92910', '406.898.3611', 'Foster-Bowen', 'Above budget yard.', 97400.24135055329, 184435.9968832918, '2024-04-12'), (42, 'Diana Giles', 'kbrown@example.org', '315 Tara Corners\\nLake Manuel, WI 83414', '001-268-637-9642x779', 'Martin, Dickerson and Sanchez', 'Machine drug.', 183123.04340342412, 231529.44885599692, '2011-06-03'), (56, 'Randy Sullivan', 'phelpsjoyce@example.com', '836 Lauren Curve Apt. 874\\nPort Lisachester, PR 79089', '638-622-8578x47619', 'Mayer and Sons', 'Participant.', 108222.98260767071, 211913.6653547234, '2004-08-25'), (65, 'Melissa Nelson', 'hollydavis@example.org', '90083 Parks Parkways\\nNew Savannah, WY 98993', '4828057746', 'Hamilton, Brown and Flores', 'Security television.', 137210.61278206855, 264956.83761684084, '2012-07-16'), (30, 'Crystal Mayo', 'lyonsryan@example.net', '234 Corey Groves\\nLake James, ND 00558', '837-301-7546', 'Greene-Price', 'Surface before turn.', 220499.85460405244, 286301.2476279863, '2007-03-15'), (58, 'Debra Johnson', 'ochristensen@example.com', '408 Cynthia Stravenue Suite 626\\nStevenbury, AR 56341', '001-767-879-2797x20248', 'Kent-Young', 'Ability remain.', 172542.670211993, 197655.51643796358, '1996-02-24'), (24, 'Amy Owens', 'garciadonald@example.org', '614 Lopez Orchard Suite 629\\nHansonborough, FL 46008', '001-478-317-0224x097', 'Gibson Group', 'Happy run raise.', 18387.608465191275, 89088.85568255407, '1996-04-18')]\n"
     ]
    }
   ],
   "execution_count": 60
  },
  {
   "metadata": {},
   "cell_type": "markdown",
   "source": "Loading data from SQLite database"
  },
  {
   "cell_type": "code",
   "metadata": {
    "ExecuteTime": {
     "end_time": "2024-06-16T06:03:39.761978Z",
     "start_time": "2024-06-16T06:03:39.730007Z"
    }
   },
   "source": [
    "df = load_data('generated_data.csv')\n",
    "print(df.info())"
   ],
   "outputs": [
    {
     "name": "stderr",
     "output_type": "stream",
     "text": [
      "INFO:plato:Database connection created with plato.db\n",
      "INFO:plato:[bold green]INFO:[/bold green] CSV file loaded from generated_data.csv\n"
     ]
    },
    {
     "name": "stdout",
     "output_type": "stream",
     "text": [
      "<class 'pandas.core.frame.DataFrame'>\n",
      "RangeIndex: 1000 entries, 0 to 999\n",
      "Data columns (total 6 columns):\n",
      " #   Column       Non-Null Count  Dtype  \n",
      "---  ------       --------------  -----  \n",
      " 0   age          1000 non-null   int64  \n",
      " 1   email        1000 non-null   object \n",
      " 2   text         1000 non-null   object \n",
      " 3   income       1000 non-null   float64\n",
      " 4   salary       1000 non-null   float64\n",
      " 5   date_joined  1000 non-null   object \n",
      "dtypes: float64(2), int64(1), object(3)\n",
      "memory usage: 47.0+ KB\n",
      "None\n"
     ]
    }
   ],
   "execution_count": 61
  },
  {
   "cell_type": "code",
   "metadata": {
    "ExecuteTime": {
     "end_time": "2024-06-16T06:03:39.766081Z",
     "start_time": "2024-06-16T06:03:39.762889Z"
    }
   },
   "source": [
    "from data_transformation.cleaner import DataCleaner"
   ],
   "outputs": [],
   "execution_count": 62
  },
  {
   "cell_type": "code",
   "metadata": {
    "ExecuteTime": {
     "end_time": "2024-06-16T06:03:39.768830Z",
     "start_time": "2024-06-16T06:03:39.767007Z"
    }
   },
   "source": [
    "cleaner = DataCleaner(df)\n"
   ],
   "outputs": [],
   "execution_count": 63
  },
  {
   "cell_type": "code",
   "metadata": {
    "ExecuteTime": {
     "end_time": "2024-06-16T06:03:39.782149Z",
     "start_time": "2024-06-16T06:03:39.769283Z"
    }
   },
   "source": [
    "cleaner.remove_duplicates()\n",
    "cleaner.remove_outliers(['age', 'income'], \"IQR\", 1.5)\n",
    "cleaner.convert_data_types(['age'], float)\n",
    "cleaner.convert_data_types(['date_joined'], 'datetime')\n",
    "cleaner.get_cleaned_data().head()\n",
    "\n"
   ],
   "outputs": [
    {
     "name": "stderr",
     "output_type": "stream",
     "text": [
      "INFO:data_transformation.cleaner:Duplicates removed\n",
      "INFO:data_transformation.cleaner:Outliers removed using IQR method\n"
     ]
    },
    {
     "data": {
      "text/plain": [
       "    age                          email  \\\n",
       "0  95.0            james82@example.org   \n",
       "1  21.0           sandra77@example.net   \n",
       "2  96.0         brodriguez@example.org   \n",
       "3  41.0            danny47@example.com   \n",
       "4  92.0  hernandezbenjamin@example.net   \n",
       "\n",
       "                                                text         income  \\\n",
       "0  Manage citizen late authority. Hit build sure ...  218878.992757   \n",
       "1  That under common history ability identify are...   24262.124153   \n",
       "2  Behavior scientist feel American hope conditio...   87303.733237   \n",
       "3  Together move let administration green drive g...  196099.313922   \n",
       "4  Today fall different there. Day scientist marr...  214700.235293   \n",
       "\n",
       "          salary                   date_joined  \n",
       "0  103553.006514 2021-11-24 22:04:18.418217216  \n",
       "1  247454.882654 2019-01-05 21:41:26.441247872  \n",
       "2  223432.538520 2002-02-06 21:13:38.830846177  \n",
       "3  165302.084419 2019-04-16 17:52:30.675282944  \n",
       "4  238604.931499 2006-09-03 11:37:36.082129248  "
      ],
      "text/html": [
       "<div>\n",
       "<style scoped>\n",
       "    .dataframe tbody tr th:only-of-type {\n",
       "        vertical-align: middle;\n",
       "    }\n",
       "\n",
       "    .dataframe tbody tr th {\n",
       "        vertical-align: top;\n",
       "    }\n",
       "\n",
       "    .dataframe thead th {\n",
       "        text-align: right;\n",
       "    }\n",
       "</style>\n",
       "<table border=\"1\" class=\"dataframe\">\n",
       "  <thead>\n",
       "    <tr style=\"text-align: right;\">\n",
       "      <th></th>\n",
       "      <th>age</th>\n",
       "      <th>email</th>\n",
       "      <th>text</th>\n",
       "      <th>income</th>\n",
       "      <th>salary</th>\n",
       "      <th>date_joined</th>\n",
       "    </tr>\n",
       "  </thead>\n",
       "  <tbody>\n",
       "    <tr>\n",
       "      <th>0</th>\n",
       "      <td>95.0</td>\n",
       "      <td>james82@example.org</td>\n",
       "      <td>Manage citizen late authority. Hit build sure ...</td>\n",
       "      <td>218878.992757</td>\n",
       "      <td>103553.006514</td>\n",
       "      <td>2021-11-24 22:04:18.418217216</td>\n",
       "    </tr>\n",
       "    <tr>\n",
       "      <th>1</th>\n",
       "      <td>21.0</td>\n",
       "      <td>sandra77@example.net</td>\n",
       "      <td>That under common history ability identify are...</td>\n",
       "      <td>24262.124153</td>\n",
       "      <td>247454.882654</td>\n",
       "      <td>2019-01-05 21:41:26.441247872</td>\n",
       "    </tr>\n",
       "    <tr>\n",
       "      <th>2</th>\n",
       "      <td>96.0</td>\n",
       "      <td>brodriguez@example.org</td>\n",
       "      <td>Behavior scientist feel American hope conditio...</td>\n",
       "      <td>87303.733237</td>\n",
       "      <td>223432.538520</td>\n",
       "      <td>2002-02-06 21:13:38.830846177</td>\n",
       "    </tr>\n",
       "    <tr>\n",
       "      <th>3</th>\n",
       "      <td>41.0</td>\n",
       "      <td>danny47@example.com</td>\n",
       "      <td>Together move let administration green drive g...</td>\n",
       "      <td>196099.313922</td>\n",
       "      <td>165302.084419</td>\n",
       "      <td>2019-04-16 17:52:30.675282944</td>\n",
       "    </tr>\n",
       "    <tr>\n",
       "      <th>4</th>\n",
       "      <td>92.0</td>\n",
       "      <td>hernandezbenjamin@example.net</td>\n",
       "      <td>Today fall different there. Day scientist marr...</td>\n",
       "      <td>214700.235293</td>\n",
       "      <td>238604.931499</td>\n",
       "      <td>2006-09-03 11:37:36.082129248</td>\n",
       "    </tr>\n",
       "  </tbody>\n",
       "</table>\n",
       "</div>"
      ]
     },
     "execution_count": 64,
     "metadata": {},
     "output_type": "execute_result"
    }
   ],
   "execution_count": 64
  },
  {
   "cell_type": "code",
   "metadata": {
    "ExecuteTime": {
     "end_time": "2024-06-16T06:03:39.787488Z",
     "start_time": "2024-06-16T06:03:39.782645Z"
    }
   },
   "source": [
    "cleaner.normalize_data(['age', 'income'])\n",
    "cleaner.get_cleaned_data().head()"
   ],
   "outputs": [
    {
     "name": "stderr",
     "output_type": "stream",
     "text": [
      "INFO:data_transformation.cleaner:Data normalized for columns: ['age', 'income']\n"
     ]
    },
    {
     "data": {
      "text/plain": [
       "        age                          email  \\\n",
       "0  0.939024            james82@example.org   \n",
       "1  0.036585           sandra77@example.net   \n",
       "2  0.951220         brodriguez@example.org   \n",
       "3  0.280488            danny47@example.com   \n",
       "4  0.902439  hernandezbenjamin@example.net   \n",
       "\n",
       "                                                text    income         salary  \\\n",
       "0  Manage citizen late authority. Hit build sure ...  0.870233  103553.006514   \n",
       "1  That under common history ability identify are...  0.058497  247454.882654   \n",
       "2  Behavior scientist feel American hope conditio...  0.321440  223432.538520   \n",
       "3  Together move let administration green drive g...  0.775220  165302.084419   \n",
       "4  Today fall different there. Day scientist marr...  0.852804  238604.931499   \n",
       "\n",
       "                    date_joined  \n",
       "0 2021-11-24 22:04:18.418217216  \n",
       "1 2019-01-05 21:41:26.441247872  \n",
       "2 2002-02-06 21:13:38.830846177  \n",
       "3 2019-04-16 17:52:30.675282944  \n",
       "4 2006-09-03 11:37:36.082129248  "
      ],
      "text/html": [
       "<div>\n",
       "<style scoped>\n",
       "    .dataframe tbody tr th:only-of-type {\n",
       "        vertical-align: middle;\n",
       "    }\n",
       "\n",
       "    .dataframe tbody tr th {\n",
       "        vertical-align: top;\n",
       "    }\n",
       "\n",
       "    .dataframe thead th {\n",
       "        text-align: right;\n",
       "    }\n",
       "</style>\n",
       "<table border=\"1\" class=\"dataframe\">\n",
       "  <thead>\n",
       "    <tr style=\"text-align: right;\">\n",
       "      <th></th>\n",
       "      <th>age</th>\n",
       "      <th>email</th>\n",
       "      <th>text</th>\n",
       "      <th>income</th>\n",
       "      <th>salary</th>\n",
       "      <th>date_joined</th>\n",
       "    </tr>\n",
       "  </thead>\n",
       "  <tbody>\n",
       "    <tr>\n",
       "      <th>0</th>\n",
       "      <td>0.939024</td>\n",
       "      <td>james82@example.org</td>\n",
       "      <td>Manage citizen late authority. Hit build sure ...</td>\n",
       "      <td>0.870233</td>\n",
       "      <td>103553.006514</td>\n",
       "      <td>2021-11-24 22:04:18.418217216</td>\n",
       "    </tr>\n",
       "    <tr>\n",
       "      <th>1</th>\n",
       "      <td>0.036585</td>\n",
       "      <td>sandra77@example.net</td>\n",
       "      <td>That under common history ability identify are...</td>\n",
       "      <td>0.058497</td>\n",
       "      <td>247454.882654</td>\n",
       "      <td>2019-01-05 21:41:26.441247872</td>\n",
       "    </tr>\n",
       "    <tr>\n",
       "      <th>2</th>\n",
       "      <td>0.951220</td>\n",
       "      <td>brodriguez@example.org</td>\n",
       "      <td>Behavior scientist feel American hope conditio...</td>\n",
       "      <td>0.321440</td>\n",
       "      <td>223432.538520</td>\n",
       "      <td>2002-02-06 21:13:38.830846177</td>\n",
       "    </tr>\n",
       "    <tr>\n",
       "      <th>3</th>\n",
       "      <td>0.280488</td>\n",
       "      <td>danny47@example.com</td>\n",
       "      <td>Together move let administration green drive g...</td>\n",
       "      <td>0.775220</td>\n",
       "      <td>165302.084419</td>\n",
       "      <td>2019-04-16 17:52:30.675282944</td>\n",
       "    </tr>\n",
       "    <tr>\n",
       "      <th>4</th>\n",
       "      <td>0.902439</td>\n",
       "      <td>hernandezbenjamin@example.net</td>\n",
       "      <td>Today fall different there. Day scientist marr...</td>\n",
       "      <td>0.852804</td>\n",
       "      <td>238604.931499</td>\n",
       "      <td>2006-09-03 11:37:36.082129248</td>\n",
       "    </tr>\n",
       "  </tbody>\n",
       "</table>\n",
       "</div>"
      ]
     },
     "execution_count": 65,
     "metadata": {},
     "output_type": "execute_result"
    }
   ],
   "execution_count": 65
  },
  {
   "cell_type": "code",
   "metadata": {
    "ExecuteTime": {
     "end_time": "2024-06-16T06:03:39.792186Z",
     "start_time": "2024-06-16T06:03:39.787946Z"
    }
   },
   "source": [
    "cleaner.standardize_data(['age', 'income'])\n",
    "cleaner.get_cleaned_data().head()"
   ],
   "outputs": [
    {
     "name": "stderr",
     "output_type": "stream",
     "text": [
      "INFO:data_transformation.cleaner:Data standardized for columns: ['age', 'income']\n"
     ]
    },
    {
     "data": {
      "text/plain": [
       "        age                          email  \\\n",
       "0  1.515915            james82@example.org   \n",
       "1 -1.542031           sandra77@example.net   \n",
       "2  1.557238         brodriguez@example.org   \n",
       "3 -0.715559            danny47@example.com   \n",
       "4  1.391944  hernandezbenjamin@example.net   \n",
       "\n",
       "                                                text    income         salary  \\\n",
       "0  Manage citizen late authority. Hit build sure ...  1.213555  103553.006514   \n",
       "1  That under common history ability identify are... -1.547088  247454.882654   \n",
       "2  Behavior scientist feel American hope conditio... -0.652842  223432.538520   \n",
       "3  Together move let administration green drive g...  0.890425  165302.084419   \n",
       "4  Today fall different there. Day scientist marr...  1.154279  238604.931499   \n",
       "\n",
       "                    date_joined  \n",
       "0 2021-11-24 22:04:18.418217216  \n",
       "1 2019-01-05 21:41:26.441247872  \n",
       "2 2002-02-06 21:13:38.830846177  \n",
       "3 2019-04-16 17:52:30.675282944  \n",
       "4 2006-09-03 11:37:36.082129248  "
      ],
      "text/html": [
       "<div>\n",
       "<style scoped>\n",
       "    .dataframe tbody tr th:only-of-type {\n",
       "        vertical-align: middle;\n",
       "    }\n",
       "\n",
       "    .dataframe tbody tr th {\n",
       "        vertical-align: top;\n",
       "    }\n",
       "\n",
       "    .dataframe thead th {\n",
       "        text-align: right;\n",
       "    }\n",
       "</style>\n",
       "<table border=\"1\" class=\"dataframe\">\n",
       "  <thead>\n",
       "    <tr style=\"text-align: right;\">\n",
       "      <th></th>\n",
       "      <th>age</th>\n",
       "      <th>email</th>\n",
       "      <th>text</th>\n",
       "      <th>income</th>\n",
       "      <th>salary</th>\n",
       "      <th>date_joined</th>\n",
       "    </tr>\n",
       "  </thead>\n",
       "  <tbody>\n",
       "    <tr>\n",
       "      <th>0</th>\n",
       "      <td>1.515915</td>\n",
       "      <td>james82@example.org</td>\n",
       "      <td>Manage citizen late authority. Hit build sure ...</td>\n",
       "      <td>1.213555</td>\n",
       "      <td>103553.006514</td>\n",
       "      <td>2021-11-24 22:04:18.418217216</td>\n",
       "    </tr>\n",
       "    <tr>\n",
       "      <th>1</th>\n",
       "      <td>-1.542031</td>\n",
       "      <td>sandra77@example.net</td>\n",
       "      <td>That under common history ability identify are...</td>\n",
       "      <td>-1.547088</td>\n",
       "      <td>247454.882654</td>\n",
       "      <td>2019-01-05 21:41:26.441247872</td>\n",
       "    </tr>\n",
       "    <tr>\n",
       "      <th>2</th>\n",
       "      <td>1.557238</td>\n",
       "      <td>brodriguez@example.org</td>\n",
       "      <td>Behavior scientist feel American hope conditio...</td>\n",
       "      <td>-0.652842</td>\n",
       "      <td>223432.538520</td>\n",
       "      <td>2002-02-06 21:13:38.830846177</td>\n",
       "    </tr>\n",
       "    <tr>\n",
       "      <th>3</th>\n",
       "      <td>-0.715559</td>\n",
       "      <td>danny47@example.com</td>\n",
       "      <td>Together move let administration green drive g...</td>\n",
       "      <td>0.890425</td>\n",
       "      <td>165302.084419</td>\n",
       "      <td>2019-04-16 17:52:30.675282944</td>\n",
       "    </tr>\n",
       "    <tr>\n",
       "      <th>4</th>\n",
       "      <td>1.391944</td>\n",
       "      <td>hernandezbenjamin@example.net</td>\n",
       "      <td>Today fall different there. Day scientist marr...</td>\n",
       "      <td>1.154279</td>\n",
       "      <td>238604.931499</td>\n",
       "      <td>2006-09-03 11:37:36.082129248</td>\n",
       "    </tr>\n",
       "  </tbody>\n",
       "</table>\n",
       "</div>"
      ]
     },
     "execution_count": 66,
     "metadata": {},
     "output_type": "execute_result"
    }
   ],
   "execution_count": 66
  },
  {
   "cell_type": "code",
   "metadata": {
    "ExecuteTime": {
     "end_time": "2024-06-16T06:03:39.795063Z",
     "start_time": "2024-06-16T06:03:39.793898Z"
    }
   },
   "source": [
    "df = cleaner.get_cleaned_data()\n"
   ],
   "outputs": [],
   "execution_count": 67
  },
  {
   "cell_type": "code",
   "metadata": {
    "ExecuteTime": {
     "end_time": "2024-06-16T06:03:39.798708Z",
     "start_time": "2024-06-16T06:03:39.795535Z"
    }
   },
   "source": [
    "from data_transformation.transformer import DataTransformer"
   ],
   "outputs": [],
   "execution_count": 68
  },
  {
   "cell_type": "code",
   "metadata": {
    "ExecuteTime": {
     "end_time": "2024-06-16T06:03:39.800996Z",
     "start_time": "2024-06-16T06:03:39.799308Z"
    }
   },
   "source": [
    "transformer = DataTransformer(df)"
   ],
   "outputs": [],
   "execution_count": 69
  },
  {
   "cell_type": "code",
   "metadata": {
    "ExecuteTime": {
     "end_time": "2024-06-16T06:03:39.846211Z",
     "start_time": "2024-06-16T06:03:39.801416Z"
    }
   },
   "source": [
    "transformer.scale_data(['age', 'income'])\n"
   ],
   "outputs": [
    {
     "name": "stderr",
     "output_type": "stream",
     "text": [
      "INFO:data_transformation.transformer:Data scaled using minmax method for columns: ['age', 'income']\n"
     ]
    },
    {
     "data": {
      "text/plain": [
       "<data_transformation.transformer.DataTransformer at 0x3489a09b0>"
      ]
     },
     "execution_count": 70,
     "metadata": {},
     "output_type": "execute_result"
    }
   ],
   "execution_count": 70
  },
  {
   "cell_type": "code",
   "metadata": {
    "ExecuteTime": {
     "end_time": "2024-06-16T06:03:39.849799Z",
     "start_time": "2024-06-16T06:03:39.846709Z"
    }
   },
   "source": [
    "transformer.get_transformed_data().head()"
   ],
   "outputs": [
    {
     "data": {
      "text/plain": [
       "        age                          email  \\\n",
       "0  0.939024            james82@example.org   \n",
       "1  0.036585           sandra77@example.net   \n",
       "2  0.951220         brodriguez@example.org   \n",
       "3  0.280488            danny47@example.com   \n",
       "4  0.902439  hernandezbenjamin@example.net   \n",
       "\n",
       "                                                text    income         salary  \\\n",
       "0  Manage citizen late authority. Hit build sure ...  0.870233  103553.006514   \n",
       "1  That under common history ability identify are...  0.058497  247454.882654   \n",
       "2  Behavior scientist feel American hope conditio...  0.321440  223432.538520   \n",
       "3  Together move let administration green drive g...  0.775220  165302.084419   \n",
       "4  Today fall different there. Day scientist marr...  0.852804  238604.931499   \n",
       "\n",
       "                    date_joined  \n",
       "0 2021-11-24 22:04:18.418217216  \n",
       "1 2019-01-05 21:41:26.441247872  \n",
       "2 2002-02-06 21:13:38.830846177  \n",
       "3 2019-04-16 17:52:30.675282944  \n",
       "4 2006-09-03 11:37:36.082129248  "
      ],
      "text/html": [
       "<div>\n",
       "<style scoped>\n",
       "    .dataframe tbody tr th:only-of-type {\n",
       "        vertical-align: middle;\n",
       "    }\n",
       "\n",
       "    .dataframe tbody tr th {\n",
       "        vertical-align: top;\n",
       "    }\n",
       "\n",
       "    .dataframe thead th {\n",
       "        text-align: right;\n",
       "    }\n",
       "</style>\n",
       "<table border=\"1\" class=\"dataframe\">\n",
       "  <thead>\n",
       "    <tr style=\"text-align: right;\">\n",
       "      <th></th>\n",
       "      <th>age</th>\n",
       "      <th>email</th>\n",
       "      <th>text</th>\n",
       "      <th>income</th>\n",
       "      <th>salary</th>\n",
       "      <th>date_joined</th>\n",
       "    </tr>\n",
       "  </thead>\n",
       "  <tbody>\n",
       "    <tr>\n",
       "      <th>0</th>\n",
       "      <td>0.939024</td>\n",
       "      <td>james82@example.org</td>\n",
       "      <td>Manage citizen late authority. Hit build sure ...</td>\n",
       "      <td>0.870233</td>\n",
       "      <td>103553.006514</td>\n",
       "      <td>2021-11-24 22:04:18.418217216</td>\n",
       "    </tr>\n",
       "    <tr>\n",
       "      <th>1</th>\n",
       "      <td>0.036585</td>\n",
       "      <td>sandra77@example.net</td>\n",
       "      <td>That under common history ability identify are...</td>\n",
       "      <td>0.058497</td>\n",
       "      <td>247454.882654</td>\n",
       "      <td>2019-01-05 21:41:26.441247872</td>\n",
       "    </tr>\n",
       "    <tr>\n",
       "      <th>2</th>\n",
       "      <td>0.951220</td>\n",
       "      <td>brodriguez@example.org</td>\n",
       "      <td>Behavior scientist feel American hope conditio...</td>\n",
       "      <td>0.321440</td>\n",
       "      <td>223432.538520</td>\n",
       "      <td>2002-02-06 21:13:38.830846177</td>\n",
       "    </tr>\n",
       "    <tr>\n",
       "      <th>3</th>\n",
       "      <td>0.280488</td>\n",
       "      <td>danny47@example.com</td>\n",
       "      <td>Together move let administration green drive g...</td>\n",
       "      <td>0.775220</td>\n",
       "      <td>165302.084419</td>\n",
       "      <td>2019-04-16 17:52:30.675282944</td>\n",
       "    </tr>\n",
       "    <tr>\n",
       "      <th>4</th>\n",
       "      <td>0.902439</td>\n",
       "      <td>hernandezbenjamin@example.net</td>\n",
       "      <td>Today fall different there. Day scientist marr...</td>\n",
       "      <td>0.852804</td>\n",
       "      <td>238604.931499</td>\n",
       "      <td>2006-09-03 11:37:36.082129248</td>\n",
       "    </tr>\n",
       "  </tbody>\n",
       "</table>\n",
       "</div>"
      ]
     },
     "execution_count": 71,
     "metadata": {},
     "output_type": "execute_result"
    }
   ],
   "execution_count": 71
  },
  {
   "cell_type": "code",
   "metadata": {
    "ExecuteTime": {
     "end_time": "2024-06-16T06:03:40.239460Z",
     "start_time": "2024-06-16T06:03:40.233250Z"
    }
   },
   "source": [
    "transformer.log_transform(['age', 'income'])\n",
    "transformer.get_transformed_data().head()"
   ],
   "outputs": [
    {
     "name": "stderr",
     "output_type": "stream",
     "text": [
      "INFO:data_transformation.transformer:Log transformation applied to columns: ['age', 'income']\n"
     ]
    },
    {
     "data": {
      "text/plain": [
       "        age                          email  \\\n",
       "0  0.662185            james82@example.org   \n",
       "1  0.035932           sandra77@example.net   \n",
       "2  0.668455         brodriguez@example.org   \n",
       "3  0.247241            danny47@example.com   \n",
       "4  0.643137  hernandezbenjamin@example.net   \n",
       "\n",
       "                                                text    income         salary  \\\n",
       "0  Manage citizen late authority. Hit build sure ...  0.626063  103553.006514   \n",
       "1  That under common history ability identify are...  0.056850  247454.882654   \n",
       "2  Behavior scientist feel American hope conditio...  0.278722  223432.538520   \n",
       "3  Together move let administration green drive g...  0.573924  165302.084419   \n",
       "4  Today fall different there. Day scientist marr...  0.616700  238604.931499   \n",
       "\n",
       "                    date_joined  \n",
       "0 2021-11-24 22:04:18.418217216  \n",
       "1 2019-01-05 21:41:26.441247872  \n",
       "2 2002-02-06 21:13:38.830846177  \n",
       "3 2019-04-16 17:52:30.675282944  \n",
       "4 2006-09-03 11:37:36.082129248  "
      ],
      "text/html": [
       "<div>\n",
       "<style scoped>\n",
       "    .dataframe tbody tr th:only-of-type {\n",
       "        vertical-align: middle;\n",
       "    }\n",
       "\n",
       "    .dataframe tbody tr th {\n",
       "        vertical-align: top;\n",
       "    }\n",
       "\n",
       "    .dataframe thead th {\n",
       "        text-align: right;\n",
       "    }\n",
       "</style>\n",
       "<table border=\"1\" class=\"dataframe\">\n",
       "  <thead>\n",
       "    <tr style=\"text-align: right;\">\n",
       "      <th></th>\n",
       "      <th>age</th>\n",
       "      <th>email</th>\n",
       "      <th>text</th>\n",
       "      <th>income</th>\n",
       "      <th>salary</th>\n",
       "      <th>date_joined</th>\n",
       "    </tr>\n",
       "  </thead>\n",
       "  <tbody>\n",
       "    <tr>\n",
       "      <th>0</th>\n",
       "      <td>0.662185</td>\n",
       "      <td>james82@example.org</td>\n",
       "      <td>Manage citizen late authority. Hit build sure ...</td>\n",
       "      <td>0.626063</td>\n",
       "      <td>103553.006514</td>\n",
       "      <td>2021-11-24 22:04:18.418217216</td>\n",
       "    </tr>\n",
       "    <tr>\n",
       "      <th>1</th>\n",
       "      <td>0.035932</td>\n",
       "      <td>sandra77@example.net</td>\n",
       "      <td>That under common history ability identify are...</td>\n",
       "      <td>0.056850</td>\n",
       "      <td>247454.882654</td>\n",
       "      <td>2019-01-05 21:41:26.441247872</td>\n",
       "    </tr>\n",
       "    <tr>\n",
       "      <th>2</th>\n",
       "      <td>0.668455</td>\n",
       "      <td>brodriguez@example.org</td>\n",
       "      <td>Behavior scientist feel American hope conditio...</td>\n",
       "      <td>0.278722</td>\n",
       "      <td>223432.538520</td>\n",
       "      <td>2002-02-06 21:13:38.830846177</td>\n",
       "    </tr>\n",
       "    <tr>\n",
       "      <th>3</th>\n",
       "      <td>0.247241</td>\n",
       "      <td>danny47@example.com</td>\n",
       "      <td>Together move let administration green drive g...</td>\n",
       "      <td>0.573924</td>\n",
       "      <td>165302.084419</td>\n",
       "      <td>2019-04-16 17:52:30.675282944</td>\n",
       "    </tr>\n",
       "    <tr>\n",
       "      <th>4</th>\n",
       "      <td>0.643137</td>\n",
       "      <td>hernandezbenjamin@example.net</td>\n",
       "      <td>Today fall different there. Day scientist marr...</td>\n",
       "      <td>0.616700</td>\n",
       "      <td>238604.931499</td>\n",
       "      <td>2006-09-03 11:37:36.082129248</td>\n",
       "    </tr>\n",
       "  </tbody>\n",
       "</table>\n",
       "</div>"
      ]
     },
     "execution_count": 72,
     "metadata": {},
     "output_type": "execute_result"
    }
   ],
   "execution_count": 72
  },
  {
   "cell_type": "code",
   "metadata": {
    "ExecuteTime": {
     "end_time": "2024-06-16T06:03:40.358463Z",
     "start_time": "2024-06-16T06:03:40.350530Z"
    }
   },
   "source": [
    "binned_age = transformer.bin_data('age', 3, ['young', 'middle-aged', 'old'])\n",
    "binned_age.get_transformed_data().head()"
   ],
   "outputs": [
    {
     "name": "stderr",
     "output_type": "stream",
     "text": [
      "INFO:data_transformation.transformer:Data binned for columns: age\n"
     ]
    },
    {
     "data": {
      "text/plain": [
       "           age                          email  \\\n",
       "0          old            james82@example.org   \n",
       "1        young           sandra77@example.net   \n",
       "2          old         brodriguez@example.org   \n",
       "3  middle-aged            danny47@example.com   \n",
       "4          old  hernandezbenjamin@example.net   \n",
       "\n",
       "                                                text    income         salary  \\\n",
       "0  Manage citizen late authority. Hit build sure ...  0.626063  103553.006514   \n",
       "1  That under common history ability identify are...  0.056850  247454.882654   \n",
       "2  Behavior scientist feel American hope conditio...  0.278722  223432.538520   \n",
       "3  Together move let administration green drive g...  0.573924  165302.084419   \n",
       "4  Today fall different there. Day scientist marr...  0.616700  238604.931499   \n",
       "\n",
       "                    date_joined  \n",
       "0 2021-11-24 22:04:18.418217216  \n",
       "1 2019-01-05 21:41:26.441247872  \n",
       "2 2002-02-06 21:13:38.830846177  \n",
       "3 2019-04-16 17:52:30.675282944  \n",
       "4 2006-09-03 11:37:36.082129248  "
      ],
      "text/html": [
       "<div>\n",
       "<style scoped>\n",
       "    .dataframe tbody tr th:only-of-type {\n",
       "        vertical-align: middle;\n",
       "    }\n",
       "\n",
       "    .dataframe tbody tr th {\n",
       "        vertical-align: top;\n",
       "    }\n",
       "\n",
       "    .dataframe thead th {\n",
       "        text-align: right;\n",
       "    }\n",
       "</style>\n",
       "<table border=\"1\" class=\"dataframe\">\n",
       "  <thead>\n",
       "    <tr style=\"text-align: right;\">\n",
       "      <th></th>\n",
       "      <th>age</th>\n",
       "      <th>email</th>\n",
       "      <th>text</th>\n",
       "      <th>income</th>\n",
       "      <th>salary</th>\n",
       "      <th>date_joined</th>\n",
       "    </tr>\n",
       "  </thead>\n",
       "  <tbody>\n",
       "    <tr>\n",
       "      <th>0</th>\n",
       "      <td>old</td>\n",
       "      <td>james82@example.org</td>\n",
       "      <td>Manage citizen late authority. Hit build sure ...</td>\n",
       "      <td>0.626063</td>\n",
       "      <td>103553.006514</td>\n",
       "      <td>2021-11-24 22:04:18.418217216</td>\n",
       "    </tr>\n",
       "    <tr>\n",
       "      <th>1</th>\n",
       "      <td>young</td>\n",
       "      <td>sandra77@example.net</td>\n",
       "      <td>That under common history ability identify are...</td>\n",
       "      <td>0.056850</td>\n",
       "      <td>247454.882654</td>\n",
       "      <td>2019-01-05 21:41:26.441247872</td>\n",
       "    </tr>\n",
       "    <tr>\n",
       "      <th>2</th>\n",
       "      <td>old</td>\n",
       "      <td>brodriguez@example.org</td>\n",
       "      <td>Behavior scientist feel American hope conditio...</td>\n",
       "      <td>0.278722</td>\n",
       "      <td>223432.538520</td>\n",
       "      <td>2002-02-06 21:13:38.830846177</td>\n",
       "    </tr>\n",
       "    <tr>\n",
       "      <th>3</th>\n",
       "      <td>middle-aged</td>\n",
       "      <td>danny47@example.com</td>\n",
       "      <td>Together move let administration green drive g...</td>\n",
       "      <td>0.573924</td>\n",
       "      <td>165302.084419</td>\n",
       "      <td>2019-04-16 17:52:30.675282944</td>\n",
       "    </tr>\n",
       "    <tr>\n",
       "      <th>4</th>\n",
       "      <td>old</td>\n",
       "      <td>hernandezbenjamin@example.net</td>\n",
       "      <td>Today fall different there. Day scientist marr...</td>\n",
       "      <td>0.616700</td>\n",
       "      <td>238604.931499</td>\n",
       "      <td>2006-09-03 11:37:36.082129248</td>\n",
       "    </tr>\n",
       "  </tbody>\n",
       "</table>\n",
       "</div>"
      ]
     },
     "execution_count": 73,
     "metadata": {},
     "output_type": "execute_result"
    }
   ],
   "execution_count": 73
  },
  {
   "cell_type": "code",
   "metadata": {
    "ExecuteTime": {
     "end_time": "2024-06-16T06:03:40.414297Z",
     "start_time": "2024-06-16T06:03:40.409481Z"
    }
   },
   "source": [
    "# round income using custom function\n",
    "def round_salary(x):\n",
    "    return round(x, -3)\n",
    "transformer.apply_custom_transform('salary', round_salary)\n",
    "transformer.get_transformed_data().head()\n"
   ],
   "outputs": [
    {
     "name": "stderr",
     "output_type": "stream",
     "text": [
      "INFO:data_transformation.transformer:Custom transformation applied to columns: salary\n"
     ]
    },
    {
     "data": {
      "text/plain": [
       "           age                          email  \\\n",
       "0          old            james82@example.org   \n",
       "1        young           sandra77@example.net   \n",
       "2          old         brodriguez@example.org   \n",
       "3  middle-aged            danny47@example.com   \n",
       "4          old  hernandezbenjamin@example.net   \n",
       "\n",
       "                                                text    income    salary  \\\n",
       "0  Manage citizen late authority. Hit build sure ...  0.626063  104000.0   \n",
       "1  That under common history ability identify are...  0.056850  247000.0   \n",
       "2  Behavior scientist feel American hope conditio...  0.278722  223000.0   \n",
       "3  Together move let administration green drive g...  0.573924  165000.0   \n",
       "4  Today fall different there. Day scientist marr...  0.616700  239000.0   \n",
       "\n",
       "                    date_joined  \n",
       "0 2021-11-24 22:04:18.418217216  \n",
       "1 2019-01-05 21:41:26.441247872  \n",
       "2 2002-02-06 21:13:38.830846177  \n",
       "3 2019-04-16 17:52:30.675282944  \n",
       "4 2006-09-03 11:37:36.082129248  "
      ],
      "text/html": [
       "<div>\n",
       "<style scoped>\n",
       "    .dataframe tbody tr th:only-of-type {\n",
       "        vertical-align: middle;\n",
       "    }\n",
       "\n",
       "    .dataframe tbody tr th {\n",
       "        vertical-align: top;\n",
       "    }\n",
       "\n",
       "    .dataframe thead th {\n",
       "        text-align: right;\n",
       "    }\n",
       "</style>\n",
       "<table border=\"1\" class=\"dataframe\">\n",
       "  <thead>\n",
       "    <tr style=\"text-align: right;\">\n",
       "      <th></th>\n",
       "      <th>age</th>\n",
       "      <th>email</th>\n",
       "      <th>text</th>\n",
       "      <th>income</th>\n",
       "      <th>salary</th>\n",
       "      <th>date_joined</th>\n",
       "    </tr>\n",
       "  </thead>\n",
       "  <tbody>\n",
       "    <tr>\n",
       "      <th>0</th>\n",
       "      <td>old</td>\n",
       "      <td>james82@example.org</td>\n",
       "      <td>Manage citizen late authority. Hit build sure ...</td>\n",
       "      <td>0.626063</td>\n",
       "      <td>104000.0</td>\n",
       "      <td>2021-11-24 22:04:18.418217216</td>\n",
       "    </tr>\n",
       "    <tr>\n",
       "      <th>1</th>\n",
       "      <td>young</td>\n",
       "      <td>sandra77@example.net</td>\n",
       "      <td>That under common history ability identify are...</td>\n",
       "      <td>0.056850</td>\n",
       "      <td>247000.0</td>\n",
       "      <td>2019-01-05 21:41:26.441247872</td>\n",
       "    </tr>\n",
       "    <tr>\n",
       "      <th>2</th>\n",
       "      <td>old</td>\n",
       "      <td>brodriguez@example.org</td>\n",
       "      <td>Behavior scientist feel American hope conditio...</td>\n",
       "      <td>0.278722</td>\n",
       "      <td>223000.0</td>\n",
       "      <td>2002-02-06 21:13:38.830846177</td>\n",
       "    </tr>\n",
       "    <tr>\n",
       "      <th>3</th>\n",
       "      <td>middle-aged</td>\n",
       "      <td>danny47@example.com</td>\n",
       "      <td>Together move let administration green drive g...</td>\n",
       "      <td>0.573924</td>\n",
       "      <td>165000.0</td>\n",
       "      <td>2019-04-16 17:52:30.675282944</td>\n",
       "    </tr>\n",
       "    <tr>\n",
       "      <th>4</th>\n",
       "      <td>old</td>\n",
       "      <td>hernandezbenjamin@example.net</td>\n",
       "      <td>Today fall different there. Day scientist marr...</td>\n",
       "      <td>0.616700</td>\n",
       "      <td>239000.0</td>\n",
       "      <td>2006-09-03 11:37:36.082129248</td>\n",
       "    </tr>\n",
       "  </tbody>\n",
       "</table>\n",
       "</div>"
      ]
     },
     "execution_count": 74,
     "metadata": {},
     "output_type": "execute_result"
    }
   ],
   "execution_count": 74
  },
  {
   "cell_type": "code",
   "metadata": {
    "ExecuteTime": {
     "end_time": "2024-06-16T06:03:40.710452Z",
     "start_time": "2024-06-16T06:03:40.708182Z"
    }
   },
   "source": [
    "from data_analysis.quant import QuantitativeAnalysis"
   ],
   "outputs": [],
   "execution_count": 75
  },
  {
   "cell_type": "code",
   "metadata": {
    "ExecuteTime": {
     "end_time": "2024-06-16T06:03:40.798670Z",
     "start_time": "2024-06-16T06:03:40.794351Z"
    }
   },
   "source": [
    "quant = QuantitativeAnalysis(cleaner.get_cleaned_data())"
   ],
   "outputs": [],
   "execution_count": 76
  },
  {
   "cell_type": "code",
   "metadata": {
    "ExecuteTime": {
     "end_time": "2024-06-16T06:03:41.009598Z",
     "start_time": "2024-06-16T06:03:40.998197Z"
    }
   },
   "source": [
    "quant.descriptive_statistics()"
   ],
   "outputs": [
    {
     "name": "stderr",
     "output_type": "stream",
     "text": [
      "INFO:data_analysis.quant:Descriptive statistics calculated\n"
     ]
    },
    {
     "data": {
      "text/plain": [
       "                age        income         salary  \\\n",
       "count  1.000000e+03  1.000000e+03    1000.000000   \n",
       "mean   1.776357e-17  2.486900e-17  148537.808103   \n",
       "min   -1.666002e+00 -1.746031e+00   10016.031595   \n",
       "25%   -8.911846e-01 -8.431613e-01   71158.846424   \n",
       "50%    2.826534e-02  3.667360e-02  142816.896743   \n",
       "75%    8.547372e-01  8.439493e-01  226481.718335   \n",
       "max    1.722533e+00  1.654881e+00  299357.738207   \n",
       "std    1.000000e+00  1.000000e+00   85476.999681   \n",
       "\n",
       "                         date_joined  \n",
       "count                           1000  \n",
       "mean   2012-08-16 09:46:30.348072704  \n",
       "min    2002-01-15 08:22:53.217707445  \n",
       "25%    2007-05-26 23:08:52.669202688  \n",
       "50%    2012-04-17 16:43:16.889276928  \n",
       "75%    2017-11-15 04:43:04.574723328  \n",
       "max    2022-12-21 01:10:21.555037312  \n",
       "std                              NaN  "
      ],
      "text/html": [
       "<div>\n",
       "<style scoped>\n",
       "    .dataframe tbody tr th:only-of-type {\n",
       "        vertical-align: middle;\n",
       "    }\n",
       "\n",
       "    .dataframe tbody tr th {\n",
       "        vertical-align: top;\n",
       "    }\n",
       "\n",
       "    .dataframe thead th {\n",
       "        text-align: right;\n",
       "    }\n",
       "</style>\n",
       "<table border=\"1\" class=\"dataframe\">\n",
       "  <thead>\n",
       "    <tr style=\"text-align: right;\">\n",
       "      <th></th>\n",
       "      <th>age</th>\n",
       "      <th>income</th>\n",
       "      <th>salary</th>\n",
       "      <th>date_joined</th>\n",
       "    </tr>\n",
       "  </thead>\n",
       "  <tbody>\n",
       "    <tr>\n",
       "      <th>count</th>\n",
       "      <td>1.000000e+03</td>\n",
       "      <td>1.000000e+03</td>\n",
       "      <td>1000.000000</td>\n",
       "      <td>1000</td>\n",
       "    </tr>\n",
       "    <tr>\n",
       "      <th>mean</th>\n",
       "      <td>1.776357e-17</td>\n",
       "      <td>2.486900e-17</td>\n",
       "      <td>148537.808103</td>\n",
       "      <td>2012-08-16 09:46:30.348072704</td>\n",
       "    </tr>\n",
       "    <tr>\n",
       "      <th>min</th>\n",
       "      <td>-1.666002e+00</td>\n",
       "      <td>-1.746031e+00</td>\n",
       "      <td>10016.031595</td>\n",
       "      <td>2002-01-15 08:22:53.217707445</td>\n",
       "    </tr>\n",
       "    <tr>\n",
       "      <th>25%</th>\n",
       "      <td>-8.911846e-01</td>\n",
       "      <td>-8.431613e-01</td>\n",
       "      <td>71158.846424</td>\n",
       "      <td>2007-05-26 23:08:52.669202688</td>\n",
       "    </tr>\n",
       "    <tr>\n",
       "      <th>50%</th>\n",
       "      <td>2.826534e-02</td>\n",
       "      <td>3.667360e-02</td>\n",
       "      <td>142816.896743</td>\n",
       "      <td>2012-04-17 16:43:16.889276928</td>\n",
       "    </tr>\n",
       "    <tr>\n",
       "      <th>75%</th>\n",
       "      <td>8.547372e-01</td>\n",
       "      <td>8.439493e-01</td>\n",
       "      <td>226481.718335</td>\n",
       "      <td>2017-11-15 04:43:04.574723328</td>\n",
       "    </tr>\n",
       "    <tr>\n",
       "      <th>max</th>\n",
       "      <td>1.722533e+00</td>\n",
       "      <td>1.654881e+00</td>\n",
       "      <td>299357.738207</td>\n",
       "      <td>2022-12-21 01:10:21.555037312</td>\n",
       "    </tr>\n",
       "    <tr>\n",
       "      <th>std</th>\n",
       "      <td>1.000000e+00</td>\n",
       "      <td>1.000000e+00</td>\n",
       "      <td>85476.999681</td>\n",
       "      <td>NaN</td>\n",
       "    </tr>\n",
       "  </tbody>\n",
       "</table>\n",
       "</div>"
      ]
     },
     "execution_count": 77,
     "metadata": {},
     "output_type": "execute_result"
    }
   ],
   "execution_count": 77
  },
  {
   "cell_type": "code",
   "metadata": {
    "ExecuteTime": {
     "end_time": "2024-06-16T06:03:41.190073Z",
     "start_time": "2024-06-16T06:03:41.035714Z"
    }
   },
   "source": [
    "import matplotlib.pyplot as plt\n",
    "\n",
    "# Visualization 3: Boxplot of 'income'\n",
    "plt.figure(figsize=(6, 6))\n",
    "plt.boxplot(df['income'])\n",
    "plt.title('Income Boxplot')\n",
    "plt.ylabel('Income')\n",
    "plt.grid(True)\n",
    "plt.show()"
   ],
   "outputs": [
    {
     "data": {
      "text/plain": [
       "<Figure size 600x600 with 1 Axes>"
      ],
      "image/png": "[encoded data removed]"
     },
     "metadata": {},
     "output_type": "display_data"
    }
   ],
   "execution_count": 78
  },
  {
   "cell_type": "code",
   "metadata": {
    "ExecuteTime": {
     "end_time": "2024-06-16T06:03:41.326988Z",
     "start_time": "2024-06-16T06:03:41.319702Z"
    }
   },
   "source": [
    "quant.correlation_matrix()"
   ],
   "outputs": [
    {
     "name": "stderr",
     "output_type": "stream",
     "text": [
      "INFO:data_analysis.quant:Correlation matrix calculated\n"
     ]
    },
    {
     "data": {
      "text/plain": [
       "             age    income    salary\n",
       "age     1.000000 -0.025156 -0.057415\n",
       "income -0.025156  1.000000  0.024745\n",
       "salary -0.057415  0.024745  1.000000"
      ],
      "text/html": [
       "<div>\n",
       "<style scoped>\n",
       "    .dataframe tbody tr th:only-of-type {\n",
       "        vertical-align: middle;\n",
       "    }\n",
       "\n",
       "    .dataframe tbody tr th {\n",
       "        vertical-align: top;\n",
       "    }\n",
       "\n",
       "    .dataframe thead th {\n",
       "        text-align: right;\n",
       "    }\n",
       "</style>\n",
       "<table border=\"1\" class=\"dataframe\">\n",
       "  <thead>\n",
       "    <tr style=\"text-align: right;\">\n",
       "      <th></th>\n",
       "      <th>age</th>\n",
       "      <th>income</th>\n",
       "      <th>salary</th>\n",
       "    </tr>\n",
       "  </thead>\n",
       "  <tbody>\n",
       "    <tr>\n",
       "      <th>age</th>\n",
       "      <td>1.000000</td>\n",
       "      <td>-0.025156</td>\n",
       "      <td>-0.057415</td>\n",
       "    </tr>\n",
       "    <tr>\n",
       "      <th>income</th>\n",
       "      <td>-0.025156</td>\n",
       "      <td>1.000000</td>\n",
       "      <td>0.024745</td>\n",
       "    </tr>\n",
       "    <tr>\n",
       "      <th>salary</th>\n",
       "      <td>-0.057415</td>\n",
       "      <td>0.024745</td>\n",
       "      <td>1.000000</td>\n",
       "    </tr>\n",
       "  </tbody>\n",
       "</table>\n",
       "</div>"
      ]
     },
     "execution_count": 79,
     "metadata": {},
     "output_type": "execute_result"
    }
   ],
   "execution_count": 79
  },
  {
   "cell_type": "code",
   "metadata": {
    "ExecuteTime": {
     "end_time": "2024-06-16T06:03:41.569652Z",
     "start_time": "2024-06-16T06:03:41.468403Z"
    }
   },
   "source": [
    "quant.plot_correlation_matrix()"
   ],
   "outputs": [
    {
     "name": "stderr",
     "output_type": "stream",
     "text": [
      "INFO:data_analysis.quant:Correlation matrix calculated\n"
     ]
    },
    {
     "data": {
      "text/plain": [
       "<Figure size 1000x800 with 2 Axes>"
      ],
      "image/png": "[encoded data removed]"
     },
     "metadata": {},
     "output_type": "display_data"
    },
    {
     "name": "stderr",
     "output_type": "stream",
     "text": [
      "INFO:data_analysis.quant:Correlation matrix plotted\n"
     ]
    }
   ],
   "execution_count": 80
  },
  {
   "cell_type": "code",
   "metadata": {
    "ExecuteTime": {
     "end_time": "2024-06-16T06:03:41.816127Z",
     "start_time": "2024-06-16T06:03:41.792226Z"
    }
   },
   "source": [
    "quant.linear_regression('age', ['income', 'salary'])"
   ],
   "outputs": [
    {
     "name": "stderr",
     "output_type": "stream",
     "text": [
      "INFO:data_analysis.quant:Linear regression performed\n"
     ]
    },
    {
     "data": {
      "text/plain": [
       "{'model': LinearRegression(),\n",
       " 'predictions': array([-0.01996783,  0.02766863, -0.14067712,  0.01347228, -0.11393515,\n",
       "        -0.15080574,  0.10940681, -0.03175652, -0.14692098,  0.05947334,\n",
       "        -0.1236206 , -0.12798706, -0.09287595,  0.06508219, -0.01967154,\n",
       "        -0.0382764 , -0.16160687, -0.14770089, -0.08378961, -0.06789662,\n",
       "         0.05587171,  0.06556963, -0.09153619,  0.0873091 ,  0.01340916,\n",
       "         0.02477337, -0.13681653,  0.00594968,  0.00768807,  0.05457056,\n",
       "        -0.1118189 ,  0.08113299, -0.05030914, -0.12169411, -0.08509762,\n",
       "        -0.10689839, -0.0665118 , -0.0296991 ,  0.08506861,  0.07622071,\n",
       "        -0.00387078, -0.0685135 , -0.10931285, -0.12518644, -0.14648882,\n",
       "        -0.10771179, -0.13389712, -0.07947637, -0.09237682, -0.05454619,\n",
       "        -0.03429934, -0.11618958, -0.12780146, -0.03914095, -0.06656937,\n",
       "         0.01267938,  0.05179637,  0.04488866, -0.12333176, -0.03892552,\n",
       "        -0.11865205, -0.05001916,  0.05805071, -0.14740555,  0.07599237,\n",
       "        -0.06941169, -0.11841782,  0.03963365,  0.00049329, -0.08392306,\n",
       "         0.09959443, -0.11603055, -0.01268057,  0.00196843,  0.0545082 ,\n",
       "        -0.10826927, -0.13074178, -0.0501909 , -0.01363987, -0.10284307,\n",
       "        -0.10066792, -0.13253455,  0.07350476, -0.08817001, -0.15206739,\n",
       "        -0.14719932, -0.12378584, -0.00280437,  0.03691764,  0.023171  ,\n",
       "         0.02857069,  0.0582726 , -0.13538076,  0.07687007, -0.11640039,\n",
       "        -0.05076597, -0.11089584,  0.05146693, -0.0062601 ,  0.0891819 ,\n",
       "        -0.13298291, -0.05055866, -0.01815316,  0.04777886,  0.0003006 ,\n",
       "        -0.06009011, -0.13986407, -0.12944574, -0.04424663, -0.12551958,\n",
       "        -0.03861044, -0.07187561, -0.11355013, -0.10735803,  0.06241663,\n",
       "        -0.09149269,  0.06770791, -0.02545491, -0.06288594,  0.07366632,\n",
       "         0.01882662,  0.06464732, -0.06129543, -0.02727021,  0.05251774,\n",
       "        -0.08424584, -0.09013025,  0.02985854,  0.03637231,  0.02377104,\n",
       "        -0.06224467, -0.1218285 , -0.08417602,  0.02369681,  0.02320221,\n",
       "        -0.07926685,  0.03864683,  0.07064523, -0.05796174,  0.11367951,\n",
       "         0.06153445, -0.11419297, -0.12766986, -0.08255698, -0.0562062 ,\n",
       "         0.1088578 , -0.06429603, -0.16105189,  0.06547213,  0.07796649,\n",
       "         0.01971039, -0.13231236,  0.0899952 , -0.06906211, -0.13969138,\n",
       "        -0.10013562, -0.1171418 ,  0.03806688, -0.13047164,  0.11912097,\n",
       "         0.05133571,  0.10225551,  0.06823364, -0.17232319,  0.00393291,\n",
       "        -0.02631057, -0.0724511 ,  0.01487037, -0.05947759,  0.0620228 ,\n",
       "        -0.0363986 , -0.0583522 , -0.10835395, -0.09051556,  0.01185068,\n",
       "         0.00889973, -0.09518995, -0.01304127, -0.0508553 , -0.01756088,\n",
       "        -0.12635088,  0.06076645,  0.07148803,  0.08795154,  0.10112138,\n",
       "        -0.17401165,  0.05706076,  0.05327475, -0.11005801,  0.01525346,\n",
       "        -0.0370886 , -0.15066167, -0.01059122,  0.0071807 ,  0.04677626,\n",
       "        -0.0058747 ,  0.01130645, -0.11431365,  0.11943623, -0.03379621]),\n",
       " 'mse': 1.128740466314623,\n",
       " 'r2': -0.01662428297263774}"
      ]
     },
     "execution_count": 81,
     "metadata": {},
     "output_type": "execute_result"
    }
   ],
   "execution_count": 81
  },
  {
   "cell_type": "code",
   "metadata": {
    "ExecuteTime": {
     "end_time": "2024-06-16T06:03:41.851234Z",
     "start_time": "2024-06-16T06:03:41.837852Z"
    }
   },
   "source": [
    "quant.hypothesis_testing('age', 'income')"
   ],
   "outputs": [
    {
     "name": "stderr",
     "output_type": "stream",
     "text": [
      "INFO:data_analysis.quant:Hypothesis testing performed: t-test between age and income\n"
     ]
    },
    {
     "data": {
      "text/plain": [
       "{'statistic': -1.5888218580782547e-16, 'p_value': 0.9999999999999999}"
      ]
     },
     "execution_count": 82,
     "metadata": {},
     "output_type": "execute_result"
    }
   ],
   "execution_count": 82
  },
  {
   "cell_type": "code",
   "metadata": {
    "ExecuteTime": {
     "end_time": "2024-06-16T06:03:42.284824Z",
     "start_time": "2024-06-16T06:03:42.087468Z"
    }
   },
   "source": [
    "quant.plot_histogram('age')"
   ],
   "outputs": [
    {
     "data": {
      "text/plain": [
       "<Figure size 1000x600 with 1 Axes>"
      ],
      "image/png": "[encoded data removed]"
     },
     "metadata": {},
     "output_type": "display_data"
    },
    {
     "name": "stderr",
     "output_type": "stream",
     "text": [
      "INFO:data_analysis.quant:Histogram plotted for column: age\n"
     ]
    }
   ],
   "execution_count": 83
  },
  {
   "cell_type": "code",
   "metadata": {
    "ExecuteTime": {
     "end_time": "2024-06-16T06:03:42.462274Z",
     "start_time": "2024-06-16T06:03:42.286816Z"
    }
   },
   "source": [
    "quant.plot_histogram('income')"
   ],
   "outputs": [
    {
     "data": {
      "text/plain": [
       "<Figure size 1000x600 with 1 Axes>"
      ],
      "image/png": "[encoded data removed]"
     },
     "metadata": {},
     "output_type": "display_data"
    },
    {
     "name": "stderr",
     "output_type": "stream",
     "text": [
      "INFO:data_analysis.quant:Histogram plotted for column: income\n"
     ]
    }
   ],
   "execution_count": 84
  },
  {
   "cell_type": "code",
   "metadata": {
    "ExecuteTime": {
     "end_time": "2024-06-16T06:03:42.699014Z",
     "start_time": "2024-06-16T06:03:42.471876Z"
    }
   },
   "source": [
    "quant.plot_histogram('salary')"
   ],
   "outputs": [
    {
     "data": {
      "text/plain": [
       "<Figure size 1000x600 with 1 Axes>"
      ],
      "image/png": "[encoded data removed]"
     },
     "metadata": {},
     "output_type": "display_data"
    },
    {
     "name": "stderr",
     "output_type": "stream",
     "text": [
      "INFO:data_analysis.quant:Histogram plotted for column: salary\n"
     ]
    }
   ],
   "execution_count": 85
  },
  {
   "cell_type": "code",
   "metadata": {
    "ExecuteTime": {
     "end_time": "2024-06-16T06:03:42.817237Z",
     "start_time": "2024-06-16T06:03:42.700530Z"
    }
   },
   "source": [
    "quant.plot_histogram('date_joined')"
   ],
   "outputs": [
    {
     "data": {
      "text/plain": [
       "<Figure size 1000x600 with 1 Axes>"
      ],
      "image/png": "[encoded data removed]"
     },
     "metadata": {},
     "output_type": "display_data"
    },
    {
     "name": "stderr",
     "output_type": "stream",
     "text": [
      "INFO:data_analysis.quant:Histogram plotted for column: date_joined\n"
     ]
    }
   ],
   "execution_count": 86
  },
  {
   "cell_type": "code",
   "metadata": {
    "ExecuteTime": {
     "end_time": "2024-06-16T06:03:42.953237Z",
     "start_time": "2024-06-16T06:03:42.821197Z"
    }
   },
   "source": [
    "quant.plot_scatter('age', 'income')"
   ],
   "outputs": [
    {
     "data": {
      "text/plain": [
       "<Figure size 1000x600 with 1 Axes>"
      ],
      "image/png": "[encoded data removed]"
     },
     "metadata": {},
     "output_type": "display_data"
    },
    {
     "name": "stderr",
     "output_type": "stream",
     "text": [
      "INFO:data_analysis.quant:Scatter plot plotted between age and income\n"
     ]
    }
   ],
   "execution_count": 87
  },
  {
   "cell_type": "code",
   "metadata": {
    "ExecuteTime": {
     "end_time": "2024-06-16T06:03:42.958021Z",
     "start_time": "2024-06-16T06:03:42.955288Z"
    }
   },
   "source": [
    "from data_analysis.qual import QualitativeAnalysis"
   ],
   "outputs": [],
   "execution_count": 88
  },
  {
   "cell_type": "code",
   "metadata": {
    "ExecuteTime": {
     "end_time": "2024-06-16T06:03:42.962581Z",
     "start_time": "2024-06-16T06:03:42.959245Z"
    }
   },
   "source": [
    "qual = QualitativeAnalysis(cleaner.get_cleaned_data())"
   ],
   "outputs": [],
   "execution_count": 89
  },
  {
   "cell_type": "code",
   "metadata": {
    "ExecuteTime": {
     "end_time": "2024-06-16T06:03:43.089833Z",
     "start_time": "2024-06-16T06:03:42.964217Z"
    }
   },
   "source": [
    "qual.sentiment_analysis('text')"
   ],
   "outputs": [
    {
     "name": "stderr",
     "output_type": "stream",
     "text": [
      "INFO:data_analysis.qual:Sentiment analysis performed on column: text\n"
     ]
    },
    {
     "data": {
      "text/plain": [
       "          age                          email  \\\n",
       "0    1.515915            james82@example.org   \n",
       "1   -1.542031           sandra77@example.net   \n",
       "2    1.557238         brodriguez@example.org   \n",
       "3   -0.715559            danny47@example.com   \n",
       "4    1.391944  hernandezbenjamin@example.net   \n",
       "..        ...                            ...   \n",
       "995 -1.459384     michaelpearson@example.org   \n",
       "996  0.565472       thomasdebbie@example.org   \n",
       "997  0.152236         virginia96@example.org   \n",
       "998  0.648119            jenna43@example.com   \n",
       "999  0.400178              ogray@example.org   \n",
       "\n",
       "                                                  text    income  \\\n",
       "0    Manage citizen late authority. Hit build sure ...  1.213555   \n",
       "1    That under common history ability identify are... -1.547088   \n",
       "2    Behavior scientist feel American hope conditio... -0.652842   \n",
       "3    Together move let administration green drive g...  0.890425   \n",
       "4    Today fall different there. Day scientist marr...  1.154279   \n",
       "..                                                 ...       ...   \n",
       "995  Ten piece debate determine. Health various end... -0.297998   \n",
       "996  Cultural seat together wonder fly.\\nBeautiful ... -0.918398   \n",
       "997  Authority statement red role receive keep. Bea... -0.536322   \n",
       "998  Life herself sing break approach.\\nDespite oft...  0.097297   \n",
       "999  Little lead give maintain oil another. Civil c... -0.499945   \n",
       "\n",
       "            salary                   date_joined  sentiment  \n",
       "0    103553.006514 2021-11-24 22:04:18.418217216     0.7717  \n",
       "1    247454.882654 2019-01-05 21:41:26.441247872     0.6705  \n",
       "2    223432.538520 2002-02-06 21:13:38.830846177     0.4404  \n",
       "3    165302.084419 2019-04-16 17:52:30.675282944     0.2023  \n",
       "4    238604.931499 2006-09-03 11:37:36.082129248     0.2263  \n",
       "..             ...                           ...        ...  \n",
       "995  100210.509245 2018-08-20 03:24:00.849923200     0.1779  \n",
       "996  276521.601112 2011-09-30 10:48:17.370251200     0.7964  \n",
       "997  213542.212828 2005-07-01 04:34:29.940422368     0.6369  \n",
       "998  259387.479341 2011-05-31 14:10:22.904060992    -0.3612  \n",
       "999   94632.230329 2022-07-10 20:36:18.220994688     0.3612  \n",
       "\n",
       "[1000 rows x 7 columns]"
      ],
      "text/html": [
       "<div>\n",
       "<style scoped>\n",
       "    .dataframe tbody tr th:only-of-type {\n",
       "        vertical-align: middle;\n",
       "    }\n",
       "\n",
       "    .dataframe tbody tr th {\n",
       "        vertical-align: top;\n",
       "    }\n",
       "\n",
       "    .dataframe thead th {\n",
       "        text-align: right;\n",
       "    }\n",
       "</style>\n",
       "<table border=\"1\" class=\"dataframe\">\n",
       "  <thead>\n",
       "    <tr style=\"text-align: right;\">\n",
       "      <th></th>\n",
       "      <th>age</th>\n",
       "      <th>email</th>\n",
       "      <th>text</th>\n",
       "      <th>income</th>\n",
       "      <th>salary</th>\n",
       "      <th>date_joined</th>\n",
       "      <th>sentiment</th>\n",
       "    </tr>\n",
       "  </thead>\n",
       "  <tbody>\n",
       "    <tr>\n",
       "      <th>0</th>\n",
       "      <td>1.515915</td>\n",
       "      <td>james82@example.org</td>\n",
       "      <td>Manage citizen late authority. Hit build sure ...</td>\n",
       "      <td>1.213555</td>\n",
       "      <td>103553.006514</td>\n",
       "      <td>2021-11-24 22:04:18.418217216</td>\n",
       "      <td>0.7717</td>\n",
       "    </tr>\n",
       "    <tr>\n",
       "      <th>1</th>\n",
       "      <td>-1.542031</td>\n",
       "      <td>sandra77@example.net</td>\n",
       "      <td>That under common history ability identify are...</td>\n",
       "      <td>-1.547088</td>\n",
       "      <td>247454.882654</td>\n",
       "      <td>2019-01-05 21:41:26.441247872</td>\n",
       "      <td>0.6705</td>\n",
       "    </tr>\n",
       "    <tr>\n",
       "      <th>2</th>\n",
       "      <td>1.557238</td>\n",
       "      <td>brodriguez@example.org</td>\n",
       "      <td>Behavior scientist feel American hope conditio...</td>\n",
       "      <td>-0.652842</td>\n",
       "      <td>223432.538520</td>\n",
       "      <td>2002-02-06 21:13:38.830846177</td>\n",
       "      <td>0.4404</td>\n",
       "    </tr>\n",
       "    <tr>\n",
       "      <th>3</th>\n",
       "      <td>-0.715559</td>\n",
       "      <td>danny47@example.com</td>\n",
       "      <td>Together move let administration green drive g...</td>\n",
       "      <td>0.890425</td>\n",
       "      <td>165302.084419</td>\n",
       "      <td>2019-04-16 17:52:30.675282944</td>\n",
       "      <td>0.2023</td>\n",
       "    </tr>\n",
       "    <tr>\n",
       "      <th>4</th>\n",
       "      <td>1.391944</td>\n",
       "      <td>hernandezbenjamin@example.net</td>\n",
       "      <td>Today fall different there. Day scientist marr...</td>\n",
       "      <td>1.154279</td>\n",
       "      <td>238604.931499</td>\n",
       "      <td>2006-09-03 11:37:36.082129248</td>\n",
       "      <td>0.2263</td>\n",
       "    </tr>\n",
       "    <tr>\n",
       "      <th>...</th>\n",
       "      <td>...</td>\n",
       "      <td>...</td>\n",
       "      <td>...</td>\n",
       "      <td>...</td>\n",
       "      <td>...</td>\n",
       "      <td>...</td>\n",
       "      <td>...</td>\n",
       "    </tr>\n",
       "    <tr>\n",
       "      <th>995</th>\n",
       "      <td>-1.459384</td>\n",
       "      <td>michaelpearson@example.org</td>\n",
       "      <td>Ten piece debate determine. Health various end...</td>\n",
       "      <td>-0.297998</td>\n",
       "      <td>100210.509245</td>\n",
       "      <td>2018-08-20 03:24:00.849923200</td>\n",
       "      <td>0.1779</td>\n",
       "    </tr>\n",
       "    <tr>\n",
       "      <th>996</th>\n",
       "      <td>0.565472</td>\n",
       "      <td>thomasdebbie@example.org</td>\n",
       "      <td>Cultural seat together wonder fly.\\nBeautiful ...</td>\n",
       "      <td>-0.918398</td>\n",
       "      <td>276521.601112</td>\n",
       "      <td>2011-09-30 10:48:17.370251200</td>\n",
       "      <td>0.7964</td>\n",
       "    </tr>\n",
       "    <tr>\n",
       "      <th>997</th>\n",
       "      <td>0.152236</td>\n",
       "      <td>virginia96@example.org</td>\n",
       "      <td>Authority statement red role receive keep. Bea...</td>\n",
       "      <td>-0.536322</td>\n",
       "      <td>213542.212828</td>\n",
       "      <td>2005-07-01 04:34:29.940422368</td>\n",
       "      <td>0.6369</td>\n",
       "    </tr>\n",
       "    <tr>\n",
       "      <th>998</th>\n",
       "      <td>0.648119</td>\n",
       "      <td>jenna43@example.com</td>\n",
       "      <td>Life herself sing break approach.\\nDespite oft...</td>\n",
       "      <td>0.097297</td>\n",
       "      <td>259387.479341</td>\n",
       "      <td>2011-05-31 14:10:22.904060992</td>\n",
       "      <td>-0.3612</td>\n",
       "    </tr>\n",
       "    <tr>\n",
       "      <th>999</th>\n",
       "      <td>0.400178</td>\n",
       "      <td>ogray@example.org</td>\n",
       "      <td>Little lead give maintain oil another. Civil c...</td>\n",
       "      <td>-0.499945</td>\n",
       "      <td>94632.230329</td>\n",
       "      <td>2022-07-10 20:36:18.220994688</td>\n",
       "      <td>0.3612</td>\n",
       "    </tr>\n",
       "  </tbody>\n",
       "</table>\n",
       "<p>1000 rows × 7 columns</p>\n",
       "</div>"
      ]
     },
     "execution_count": 90,
     "metadata": {},
     "output_type": "execute_result"
    }
   ],
   "execution_count": 90
  },
  {
   "cell_type": "code",
   "metadata": {
    "ExecuteTime": {
     "end_time": "2024-06-16T06:03:43.310518Z",
     "start_time": "2024-06-16T06:03:43.090959Z"
    }
   },
   "source": [
    "qual.generate_wordcloud('text')"
   ],
   "outputs": [
    {
     "data": {
      "text/plain": [
       "<Figure size 1000x700 with 1 Axes>"
      ],
      "image/png": "[encoded data removed]"
     },
     "metadata": {},
     "output_type": "display_data"
    },
    {
     "name": "stderr",
     "output_type": "stream",
     "text": [
      "INFO:data_analysis.qual:Word cloud generated for column: text\n"
     ]
    }
   ],
   "execution_count": 91
  },
  {
   "cell_type": "code",
   "metadata": {
    "ExecuteTime": {
     "end_time": "2024-06-16T06:03:43.349508Z",
     "start_time": "2024-06-16T06:03:43.311092Z"
    }
   },
   "source": [
    "qual.keyword_extraction('text')"
   ],
   "outputs": [
    {
     "name": "stderr",
     "output_type": "stream",
     "text": [
      "INFO:data_analysis.qual:Keyword extraction performed on column: text using tfidf method\n"
     ]
    },
    {
     "data": {
      "text/plain": [
       "       keyword     score\n",
       "726      voice  8.437700\n",
       "148     create  8.343118\n",
       "126      color  8.122969\n",
       "66     billion  7.681465\n",
       "693   thousand  7.585146\n",
       "20   agreement  7.509426\n",
       "386    manager  7.478906\n",
       "195        eat  7.379385\n",
       "598      serve  7.368514\n",
       "681       team  7.340209"
      ],
      "text/html": [
       "<div>\n",
       "<style scoped>\n",
       "    .dataframe tbody tr th:only-of-type {\n",
       "        vertical-align: middle;\n",
       "    }\n",
       "\n",
       "    .dataframe tbody tr th {\n",
       "        vertical-align: top;\n",
       "    }\n",
       "\n",
       "    .dataframe thead th {\n",
       "        text-align: right;\n",
       "    }\n",
       "</style>\n",
       "<table border=\"1\" class=\"dataframe\">\n",
       "  <thead>\n",
       "    <tr style=\"text-align: right;\">\n",
       "      <th></th>\n",
       "      <th>keyword</th>\n",
       "      <th>score</th>\n",
       "    </tr>\n",
       "  </thead>\n",
       "  <tbody>\n",
       "    <tr>\n",
       "      <th>726</th>\n",
       "      <td>voice</td>\n",
       "      <td>8.437700</td>\n",
       "    </tr>\n",
       "    <tr>\n",
       "      <th>148</th>\n",
       "      <td>create</td>\n",
       "      <td>8.343118</td>\n",
       "    </tr>\n",
       "    <tr>\n",
       "      <th>126</th>\n",
       "      <td>color</td>\n",
       "      <td>8.122969</td>\n",
       "    </tr>\n",
       "    <tr>\n",
       "      <th>66</th>\n",
       "      <td>billion</td>\n",
       "      <td>7.681465</td>\n",
       "    </tr>\n",
       "    <tr>\n",
       "      <th>693</th>\n",
       "      <td>thousand</td>\n",
       "      <td>7.585146</td>\n",
       "    </tr>\n",
       "    <tr>\n",
       "      <th>20</th>\n",
       "      <td>agreement</td>\n",
       "      <td>7.509426</td>\n",
       "    </tr>\n",
       "    <tr>\n",
       "      <th>386</th>\n",
       "      <td>manager</td>\n",
       "      <td>7.478906</td>\n",
       "    </tr>\n",
       "    <tr>\n",
       "      <th>195</th>\n",
       "      <td>eat</td>\n",
       "      <td>7.379385</td>\n",
       "    </tr>\n",
       "    <tr>\n",
       "      <th>598</th>\n",
       "      <td>serve</td>\n",
       "      <td>7.368514</td>\n",
       "    </tr>\n",
       "    <tr>\n",
       "      <th>681</th>\n",
       "      <td>team</td>\n",
       "      <td>7.340209</td>\n",
       "    </tr>\n",
       "  </tbody>\n",
       "</table>\n",
       "</div>"
      ]
     },
     "execution_count": 92,
     "metadata": {},
     "output_type": "execute_result"
    }
   ],
   "execution_count": 92
  },
  {
   "cell_type": "code",
   "metadata": {
    "ExecuteTime": {
     "end_time": "2024-06-16T06:03:43.367728Z",
     "start_time": "2024-06-16T06:03:43.362686Z"
    }
   },
   "source": [
    "from data_modeling.modeler import Modeler"
   ],
   "outputs": [],
   "execution_count": 93
  },
  {
   "cell_type": "code",
   "metadata": {
    "ExecuteTime": {
     "end_time": "2024-06-16T06:03:43.389217Z",
     "start_time": "2024-06-16T06:03:43.383314Z"
    }
   },
   "source": "modeler = Modeler(qual.get_qualitative_data())",
   "outputs": [],
   "execution_count": 94
  },
  {
   "cell_type": "code",
   "metadata": {
    "ExecuteTime": {
     "end_time": "2024-06-16T06:03:43.398707Z",
     "start_time": "2024-06-16T06:03:43.392899Z"
    }
   },
   "source": "X_train, X_test, y_train, y_test = modeler.train_test_split('sentiment', ['age', 'salary'])",
   "outputs": [
    {
     "name": "stderr",
     "output_type": "stream",
     "text": [
      "INFO:modeler:Data split into train and test sets with test_size=0.2\n"
     ]
    }
   ],
   "execution_count": 95
  },
  {
   "cell_type": "code",
   "metadata": {
    "ExecuteTime": {
     "end_time": "2024-06-16T06:03:43.412359Z",
     "start_time": "2024-06-16T06:03:43.402531Z"
    }
   },
   "source": [
    "lr = modeler.linear_regression(X_train, X_test, y_train, y_test)"
   ],
   "outputs": [
    {
     "name": "stderr",
     "output_type": "stream",
     "text": [
      "INFO:modeler:Linear regression model trained and evaluated\n"
     ]
    }
   ],
   "execution_count": 96
  },
  {
   "cell_type": "code",
   "metadata": {
    "ExecuteTime": {
     "end_time": "2024-06-16T06:03:43.415680Z",
     "start_time": "2024-06-16T06:03:43.413669Z"
    }
   },
   "source": [
    "lr_predictions = lr.get('predictions')"
   ],
   "outputs": [],
   "execution_count": 97
  },
  {
   "cell_type": "code",
   "metadata": {
    "ExecuteTime": {
     "end_time": "2024-06-16T06:03:43.540168Z",
     "start_time": "2024-06-16T06:03:43.419530Z"
    }
   },
   "source": [
    "rf = modeler.random_forest_regressor(X_train, X_test, y_train, y_test)"
   ],
   "outputs": [
    {
     "name": "stderr",
     "output_type": "stream",
     "text": [
      "INFO:modeler:Random forest regressor trained and evaluated\n"
     ]
    }
   ],
   "execution_count": 98
  },
  {
   "cell_type": "code",
   "metadata": {
    "ExecuteTime": {
     "end_time": "2024-06-16T06:03:43.650360Z",
     "start_time": "2024-06-16T06:03:43.648218Z"
    }
   },
   "source": [
    "rf_predictions = rf.get('predictions')"
   ],
   "outputs": [],
   "execution_count": 99
  },
  {
   "cell_type": "code",
   "metadata": {
    "ExecuteTime": {
     "end_time": "2024-06-16T06:03:43.699505Z",
     "start_time": "2024-06-16T06:03:43.696572Z"
    }
   },
   "source": [
    "rf_predictions"
   ],
   "outputs": [
    {
     "data": {
      "text/plain": [
       "array([ 0.328671,  0.401439,  0.593509,  0.098796, -0.019847,  0.395548,\n",
       "        0.014031,  0.289709,  0.538302,  0.246343, -0.086459, -0.109972,\n",
       "        0.221351,  0.086688,  0.384644,  0.539523, -0.002371,  0.376595,\n",
       "        0.352152, -0.069334, -0.141572,  0.172831,  0.312997,  0.09029 ,\n",
       "        0.388028,  0.177823,  0.291675,  0.45605 ,  0.426993,  0.488969,\n",
       "        0.497932,  0.365621,  0.186875,  0.218048,  0.308579,  0.435513,\n",
       "        0.595364,  0.343891,  0.278315,  0.168659,  0.439806,  0.511447,\n",
       "        0.170621,  0.245504, -0.201363,  0.378414,  0.482635,  0.256903,\n",
       "        0.278196, -0.062777,  0.498014,  0.53269 ,  0.127853,  0.264389,\n",
       "       -0.016509,  0.358581,  0.21429 , -0.007374, -0.064577,  0.506957,\n",
       "        0.229794,  0.641424,  0.496487,  0.378653,  0.210123,  0.529197,\n",
       "        0.745134,  0.435513,  0.250598,  0.39767 , -0.158076,  0.264137,\n",
       "        0.418659,  0.164245,  0.224284, -0.025844,  0.629215,  0.611157,\n",
       "        0.28551 , -0.058609,  0.097917,  0.279689,  0.147205,  0.192226,\n",
       "        0.363045,  0.584495,  0.07332 ,  0.498014,  0.728941,  0.025274,\n",
       "        0.347529,  0.002337,  0.272274,  0.400292,  0.207508,  0.303352,\n",
       "        0.651063,  0.31669 ,  0.374338,  0.534203,  0.385101,  0.486421,\n",
       "        0.043241,  0.218728,  0.614563,  0.2005  ,  0.242419,  0.114646,\n",
       "        0.460292,  0.211515,  0.391449,  0.225156,  0.259312,  0.258898,\n",
       "        0.051481,  0.404326,  0.12139 ,  0.510162,  0.435156,  0.558322,\n",
       "        0.081973,  0.471025,  0.509178,  0.464669,  0.560461,  0.144477,\n",
       "        0.251911,  0.404501,  0.545235,  0.267282,  0.108831,  0.201229,\n",
       "       -0.002068,  0.582509,  0.731014,  0.535252, -0.07923 ,  0.034372,\n",
       "        0.470209,  0.475894, -0.069095,  0.545403,  0.567437,  0.456653,\n",
       "        0.163685, -0.152716,  0.111488,  0.275537, -0.501695,  0.053512,\n",
       "        0.421095,  0.394382,  0.333143, -0.03523 ,  0.634301,  0.325013,\n",
       "        0.417378,  0.100606,  0.059788,  0.489081, -0.094521,  0.609296,\n",
       "       -0.075656,  0.40134 ,  0.721521,  0.174585,  0.505108,  0.228135,\n",
       "        0.407878,  0.310845,  0.493402,  0.271056,  0.537116,  0.177035,\n",
       "        0.607739,  0.177059,  0.252114,  0.674941,  0.039726,  0.422615,\n",
       "        0.374437,  0.256404,  0.499679,  0.588839,  0.220333, -0.203858,\n",
       "        0.036045,  0.509763, -0.008718,  0.273413,  0.639066,  0.640136,\n",
       "        0.391726,  0.475309,  0.118847,  0.173183,  0.516622,  0.518095,\n",
       "        0.318455,  0.314546])"
      ]
     },
     "execution_count": 100,
     "metadata": {},
     "output_type": "execute_result"
    }
   ],
   "execution_count": 100
  },
  {
   "cell_type": "code",
   "metadata": {
    "ExecuteTime": {
     "end_time": "2024-06-16T06:03:43.818673Z",
     "start_time": "2024-06-16T06:03:43.816207Z"
    }
   },
   "source": [
    "lr_predictions = pd.Series(lr_predictions)\n",
    "rf_predictions = pd.Series(rf_predictions)\n",
    "joined_predictions = pd.concat([lr_predictions, rf_predictions], axis=1)"
   ],
   "outputs": [],
   "execution_count": 101
  },
  {
   "cell_type": "code",
   "metadata": {
    "ExecuteTime": {
     "end_time": "2024-06-16T06:03:43.924678Z",
     "start_time": "2024-06-16T06:03:43.921562Z"
    }
   },
   "source": [
    "# add original income values\n",
    "joined_predictions['sentiment'] = y_test\n",
    "joined_predictions['age'] = X_test['age']\n",
    "joined_predictions['salary'] = X_test['salary']"
   ],
   "outputs": [],
   "execution_count": 102
  },
  {
   "cell_type": "code",
   "metadata": {
    "ExecuteTime": {
     "end_time": "2024-06-16T06:03:44.064630Z",
     "start_time": "2024-06-16T06:03:44.063143Z"
    }
   },
   "source": [
    "from data_modeling.visualizer import Visualizer"
   ],
   "outputs": [],
   "execution_count": 103
  },
  {
   "cell_type": "code",
   "metadata": {
    "ExecuteTime": {
     "end_time": "2024-06-16T06:03:44.070654Z",
     "start_time": "2024-06-16T06:03:44.068307Z"
    }
   },
   "source": [
    "visualizer = Visualizer(joined_predictions)"
   ],
   "outputs": [],
   "execution_count": 104
  },
  {
   "cell_type": "code",
   "metadata": {
    "ExecuteTime": {
     "end_time": "2024-06-16T06:03:44.158607Z",
     "start_time": "2024-06-16T06:03:44.071604Z"
    }
   },
   "source": [
    "visualizer.plot_correlation_matrix()\n"
   ],
   "outputs": [
    {
     "data": {
      "text/plain": [
       "<Figure size 1000x800 with 2 Axes>"
      ],
      "image/png": "[encoded data removed]"
     },
     "metadata": {},
     "output_type": "display_data"
    }
   ],
   "execution_count": 105
  },
  {
   "cell_type": "code",
   "metadata": {
    "ExecuteTime": {
     "end_time": "2024-06-16T06:03:44.220887Z",
     "start_time": "2024-06-16T06:03:44.159386Z"
    }
   },
   "source": "visualizer.plot_3d_scatter('age', 'salary', 'sentiment', color='sentiment')",
   "outputs": [
    {
     "data": {
      "application/vnd.plotly.v1+json": {
       "data": [
        {
         "hovertemplate": "age=%{x}<br>salary=%{y}<br>sentiment=%{marker.color}<extra></extra>",
         "legendgroup": "",
         "marker": {
          "color": [
           null,
           null,
           null,
           null,
           null,
           null,
           null,
           null,
           null,
           null,
           0.0,
           null,
           null,
           null,
           null,
           null,
           null,
           null,
           null,
           null,
           null,
           null,
           null,
           0.0,
           null,
           0.3612,
           null,
           null,
           null,
           null,
           0.3612,
           null,
           null,
           null,
           null,
           null,
           null,
           null,
           null,
           -0.1027,
           null,
           null,
           null,
           null,
           0.6908,
           null,
           null,
           null,
           null,
           null,
           null,
           null,
           null,
           null,
           0.8885,
           0.296,
           null,
           null,
           null,
           -0.743,
           0.2635,
           null,
           null,
           0.6369,
           null,
           null,
           0.34,
           0.836,
           null,
           null,
           0.8625,
           null,
           0.2023,
           null,
           null,
           null,
           0.3612,
           null,
           0.7727,
           null,
           null,
           null,
           null,
           null,
           null,
           null,
           0.6808,
           null,
           0.0,
           null,
           null,
           null,
           null,
           null,
           null,
           null,
           0.1531,
           null,
           null,
           null,
           null,
           -0.2263,
           null,
           null,
           null,
           null,
           null,
           0.7184,
           null,
           null,
           0.0258,
           null,
           null,
           null,
           null,
           null,
           null,
           null,
           null,
           null,
           0.6249,
           null,
           null,
           null,
           null,
           null,
           null,
           null,
           null,
           null,
           null,
           null,
           null,
           null,
           null,
           null,
           0.4939,
           0.2617,
           null,
           -0.3071,
           null,
           null,
           null,
           null,
           null,
           null,
           null,
           null,
           null,
           null,
           null,
           null,
           null,
           null,
           null,
           null,
           null,
           null,
           -0.3612,
           null,
           null,
           null,
           null,
           null,
           null,
           null,
           null,
           null,
           -0.1068,
           null,
           null,
           null,
           null,
           null,
           0.0,
           null,
           null,
           null,
           null,
           null,
           null,
           null,
           null,
           null,
           0.6133,
           null,
           null,
           null,
           null,
           null,
           null,
           null,
           null,
           null,
           null,
           null,
           null,
           null,
           -0.4767,
           0.765
          ],
          "coloraxis": "coloraxis",
          "symbol": "circle"
         },
         "mode": "markers",
         "name": "",
         "scene": "scene",
         "showlegend": false,
         "x": [
          null,
          null,
          null,
          null,
          null,
          null,
          null,
          null,
          null,
          null,
          1.267973129903299,
          null,
          null,
          null,
          null,
          null,
          null,
          null,
          null,
          null,
          null,
          null,
          null,
          1.6812090606500396,
          null,
          0.8960607922312325,
          null,
          null,
          null,
          null,
          -0.5502649653823598,
          null,
          null,
          null,
          null,
          null,
          null,
          null,
          null,
          1.2266495368286248,
          null,
          null,
          null,
          null,
          -1.4593840130251892,
          null,
          null,
          null,
          null,
          null,
          null,
          null,
          null,
          null,
          0.9373843853059065,
          -1.5833547922492113,
          null,
          null,
          null,
          -1.0461480822784486,
          1.5572382814260173,
          null,
          null,
          -0.42629418615833764,
          null,
          null,
          1.0200315714552548,
          -0.013058255411597016,
          null,
          null,
          1.0613551645299288,
          null,
          1.5985618745006913,
          null,
          null,
          null,
          0.8134136060818843,
          null,
          -1.4593840130251892,
          null,
          null,
          null,
          null,
          null,
          null,
          null,
          -0.9635008961291006,
          null,
          1.6398854675753656,
          null,
          null,
          null,
          null,
          null,
          null,
          null,
          -1.6246783853238855,
          null,
          null,
          null,
          null,
          -1.4593840130251892,
          null,
          null,
          null,
          null,
          null,
          -1.1287952684277966,
          null,
          null,
          0.730766419932536,
          null,
          null,
          null,
          null,
          null,
          null,
          null,
          null,
          null,
          0.44150126840981774,
          null,
          null,
          null,
          null,
          null,
          null,
          null,
          null,
          null,
          null,
          null,
          null,
          null,
          null,
          null,
          -1.5833547922492113,
          -0.8808537099797524,
          null,
          -1.5420311991745375,
          null,
          null,
          null,
          null,
          null,
          null,
          null,
          null,
          null,
          null,
          null,
          null,
          null,
          null,
          null,
          null,
          null,
          null,
          -1.376736826875841,
          null,
          null,
          null,
          null,
          null,
          null,
          null,
          null,
          null,
          -1.5420311991745375,
          null,
          null,
          null,
          null,
          null,
          -0.632912151531708,
          null,
          null,
          null,
          null,
          null,
          null,
          null,
          null,
          null,
          0.9373843853059065,
          null,
          null,
          null,
          null,
          null,
          null,
          null,
          null,
          null,
          null,
          null,
          null,
          null,
          1.1440023506792767,
          0.6481192337831883
         ],
         "y": [
          null,
          null,
          null,
          null,
          null,
          null,
          null,
          null,
          null,
          null,
          86274.38325377788,
          null,
          null,
          null,
          null,
          null,
          null,
          null,
          null,
          null,
          null,
          null,
          null,
          204438.59754118364,
          null,
          204214.4658428367,
          null,
          null,
          null,
          null,
          86317.62985725095,
          null,
          null,
          null,
          null,
          null,
          null,
          null,
          null,
          201366.68677934093,
          null,
          null,
          null,
          null,
          55913.5364534262,
          null,
          null,
          null,
          null,
          null,
          null,
          null,
          null,
          null,
          163688.73619273558,
          214166.6480607378,
          null,
          null,
          null,
          43095.78103667866,
          279153.811718577,
          null,
          null,
          141119.92617175536,
          null,
          null,
          254295.82004142355,
          238238.7587185408,
          null,
          null,
          129658.1209864533,
          null,
          11865.218347544836,
          null,
          null,
          null,
          272313.87818841194,
          null,
          183593.4658074882,
          null,
          null,
          null,
          null,
          null,
          null,
          null,
          44398.946231377966,
          null,
          52482.40241107114,
          null,
          null,
          null,
          null,
          null,
          null,
          null,
          220161.88305164405,
          null,
          null,
          null,
          null,
          269405.4464696038,
          null,
          null,
          null,
          null,
          null,
          30360.001959536665,
          null,
          null,
          245599.06370229195,
          null,
          null,
          null,
          null,
          null,
          null,
          null,
          null,
          null,
          65614.84211033765,
          null,
          null,
          null,
          null,
          null,
          null,
          null,
          null,
          null,
          null,
          null,
          null,
          null,
          null,
          null,
          43852.09454659865,
          298850.03421906044,
          null,
          32200.96716041923,
          null,
          null,
          null,
          null,
          null,
          null,
          null,
          null,
          null,
          null,
          null,
          null,
          null,
          null,
          null,
          null,
          null,
          null,
          263741.7906120905,
          null,
          null,
          null,
          null,
          null,
          null,
          null,
          null,
          null,
          182607.16274749453,
          null,
          null,
          null,
          null,
          null,
          38625.42213481788,
          null,
          null,
          null,
          null,
          null,
          null,
          null,
          null,
          null,
          37041.811863299095,
          null,
          null,
          null,
          null,
          null,
          null,
          null,
          null,
          null,
          null,
          null,
          null,
          null,
          244417.1667887829,
          123715.16453306848
         ],
         "z": [
          null,
          null,
          null,
          null,
          null,
          null,
          null,
          null,
          null,
          null,
          0.0,
          null,
          null,
          null,
          null,
          null,
          null,
          null,
          null,
          null,
          null,
          null,
          null,
          0.0,
          null,
          0.3612,
          null,
          null,
          null,
          null,
          0.3612,
          null,
          null,
          null,
          null,
          null,
          null,
          null,
          null,
          -0.1027,
          null,
          null,
          null,
          null,
          0.6908,
          null,
          null,
          null,
          null,
          null,
          null,
          null,
          null,
          null,
          0.8885,
          0.296,
          null,
          null,
          null,
          -0.743,
          0.2635,
          null,
          null,
          0.6369,
          null,
          null,
          0.34,
          0.836,
          null,
          null,
          0.8625,
          null,
          0.2023,
          null,
          null,
          null,
          0.3612,
          null,
          0.7727,
          null,
          null,
          null,
          null,
          null,
          null,
          null,
          0.6808,
          null,
          0.0,
          null,
          null,
          null,
          null,
          null,
          null,
          null,
          0.1531,
          null,
          null,
          null,
          null,
          -0.2263,
          null,
          null,
          null,
          null,
          null,
          0.7184,
          null,
          null,
          0.0258,
          null,
          null,
          null,
          null,
          null,
          null,
          null,
          null,
          null,
          0.6249,
          null,
          null,
          null,
          null,
          null,
          null,
          null,
          null,
          null,
          null,
          null,
          null,
          null,
          null,
          null,
          0.4939,
          0.2617,
          null,
          -0.3071,
          null,
          null,
          null,
          null,
          null,
          null,
          null,
          null,
          null,
          null,
          null,
          null,
          null,
          null,
          null,
          null,
          null,
          null,
          -0.3612,
          null,
          null,
          null,
          null,
          null,
          null,
          null,
          null,
          null,
          -0.1068,
          null,
          null,
          null,
          null,
          null,
          0.0,
          null,
          null,
          null,
          null,
          null,
          null,
          null,
          null,
          null,
          0.6133,
          null,
          null,
          null,
          null,
          null,
          null,
          null,
          null,
          null,
          null,
          null,
          null,
          null,
          -0.4767,
          0.765
         ],
         "type": "scatter3d"
        }
       ],
       "layout": {
        "template": {
         "data": {
          "histogram2dcontour": [
           {
            "type": "histogram2dcontour",
            "colorbar": {
             "outlinewidth": 0,
             "ticks": ""
            },
            "colorscale": [
             [
              0.0,
              "#0d0887"
             ],
             [
              0.1111111111111111,
              "#46039f"
             ],
             [
              0.2222222222222222,
              "#7201a8"
             ],
             [
              0.3333333333333333,
              "#9c179e"
             ],
             [
              0.4444444444444444,
              "#bd3786"
             ],
             [
              0.5555555555555556,
              "#d8576b"
             ],
             [
              0.6666666666666666,
              "#ed7953"
             ],
             [
              0.7777777777777778,
              "#fb9f3a"
             ],
             [
              0.8888888888888888,
              "#fdca26"
             ],
             [
              1.0,
              "#f0f921"
             ]
            ]
           }
          ],
          "choropleth": [
           {
            "type": "choropleth",
            "colorbar": {
             "outlinewidth": 0,
             "ticks": ""
            }
           }
          ],
          "histogram2d": [
           {
            "type": "histogram2d",
            "colorbar": {
             "outlinewidth": 0,
             "ticks": ""
            },
            "colorscale": [
             [
              0.0,
              "#0d0887"
             ],
             [
              0.1111111111111111,
              "#46039f"
             ],
             [
              0.2222222222222222,
              "#7201a8"
             ],
             [
              0.3333333333333333,
              "#9c179e"
             ],
             [
              0.4444444444444444,
              "#bd3786"
             ],
             [
              0.5555555555555556,
              "#d8576b"
             ],
             [
              0.6666666666666666,
              "#ed7953"
             ],
             [
              0.7777777777777778,
              "#fb9f3a"
             ],
             [
              0.8888888888888888,
              "#fdca26"
             ],
             [
              1.0,
              "#f0f921"
             ]
            ]
           }
          ],
          "heatmap": [
           {
            "type": "heatmap",
            "colorbar": {
             "outlinewidth": 0,
             "ticks": ""
            },
            "colorscale": [
             [
              0.0,
              "#0d0887"
             ],
             [
              0.1111111111111111,
              "#46039f"
             ],
             [
              0.2222222222222222,
              "#7201a8"
             ],
             [
              0.3333333333333333,
              "#9c179e"
             ],
             [
              0.4444444444444444,
              "#bd3786"
             ],
             [
              0.5555555555555556,
              "#d8576b"
             ],
             [
              0.6666666666666666,
              "#ed7953"
             ],
             [
              0.7777777777777778,
              "#fb9f3a"
             ],
             [
              0.8888888888888888,
              "#fdca26"
             ],
             [
              1.0,
              "#f0f921"
             ]
            ]
           }
          ],
          "heatmapgl": [
           {
            "type": "heatmapgl",
            "colorbar": {
             "outlinewidth": 0,
             "ticks": ""
            },
            "colorscale": [
             [
              0.0,
              "#0d0887"
             ],
             [
              0.1111111111111111,
              "#46039f"
             ],
             [
              0.2222222222222222,
              "#7201a8"
             ],
             [
              0.3333333333333333,
              "#9c179e"
             ],
             [
              0.4444444444444444,
              "#bd3786"
             ],
             [
              0.5555555555555556,
              "#d8576b"
             ],
             [
              0.6666666666666666,
              "#ed7953"
             ],
             [
              0.7777777777777778,
              "#fb9f3a"
             ],
             [
              0.8888888888888888,
              "#fdca26"
             ],
             [
              1.0,
              "#f0f921"
             ]
            ]
           }
          ],
          "contourcarpet": [
           {
            "type": "contourcarpet",
            "colorbar": {
             "outlinewidth": 0,
             "ticks": ""
            }
           }
          ],
          "contour": [
           {
            "type": "contour",
            "colorbar": {
             "outlinewidth": 0,
             "ticks": ""
            },
            "colorscale": [
             [
              0.0,
              "#0d0887"
             ],
             [
              0.1111111111111111,
              "#46039f"
             ],
             [
              0.2222222222222222,
              "#7201a8"
             ],
             [
              0.3333333333333333,
              "#9c179e"
             ],
             [
              0.4444444444444444,
              "#bd3786"
             ],
             [
              0.5555555555555556,
              "#d8576b"
             ],
             [
              0.6666666666666666,
              "#ed7953"
             ],
             [
              0.7777777777777778,
              "#fb9f3a"
             ],
             [
              0.8888888888888888,
              "#fdca26"
             ],
             [
              1.0,
              "#f0f921"
             ]
            ]
           }
          ],
          "surface": [
           {
            "type": "surface",
            "colorbar": {
             "outlinewidth": 0,
             "ticks": ""
            },
            "colorscale": [
             [
              0.0,
              "#0d0887"
             ],
             [
              0.1111111111111111,
              "#46039f"
             ],
             [
              0.2222222222222222,
              "#7201a8"
             ],
             [
              0.3333333333333333,
              "#9c179e"
             ],
             [
              0.4444444444444444,
              "#bd3786"
             ],
             [
              0.5555555555555556,
              "#d8576b"
             ],
             [
              0.6666666666666666,
              "#ed7953"
             ],
             [
              0.7777777777777778,
              "#fb9f3a"
             ],
             [
              0.8888888888888888,
              "#fdca26"
             ],
             [
              1.0,
              "#f0f921"
             ]
            ]
           }
          ],
          "mesh3d": [
           {
            "type": "mesh3d",
            "colorbar": {
             "outlinewidth": 0,
             "ticks": ""
            }
           }
          ],
          "scatter": [
           {
            "fillpattern": {
             "fillmode": "overlay",
             "size": 10,
             "solidity": 0.2
            },
            "type": "scatter"
           }
          ],
          "parcoords": [
           {
            "type": "parcoords",
            "line": {
             "colorbar": {
              "outlinewidth": 0,
              "ticks": ""
             }
            }
           }
          ],
          "scatterpolargl": [
           {
            "type": "scatterpolargl",
            "marker": {
             "colorbar": {
              "outlinewidth": 0,
              "ticks": ""
             }
            }
           }
          ],
          "bar": [
           {
            "error_x": {
             "color": "#2a3f5f"
            },
            "error_y": {
             "color": "#2a3f5f"
            },
            "marker": {
             "line": {
              "color": "#E5ECF6",
              "width": 0.5
             },
             "pattern": {
              "fillmode": "overlay",
              "size": 10,
              "solidity": 0.2
             }
            },
            "type": "bar"
           }
          ],
          "scattergeo": [
           {
            "type": "scattergeo",
            "marker": {
             "colorbar": {
              "outlinewidth": 0,
              "ticks": ""
             }
            }
           }
          ],
          "scatterpolar": [
           {
            "type": "scatterpolar",
            "marker": {
             "colorbar": {
              "outlinewidth": 0,
              "ticks": ""
             }
            }
           }
          ],
          "histogram": [
           {
            "marker": {
             "pattern": {
              "fillmode": "overlay",
              "size": 10,
              "solidity": 0.2
             }
            },
            "type": "histogram"
           }
          ],
          "scattergl": [
           {
            "type": "scattergl",
            "marker": {
             "colorbar": {
              "outlinewidth": 0,
              "ticks": ""
             }
            }
           }
          ],
          "scatter3d": [
           {
            "type": "scatter3d",
            "line": {
             "colorbar": {
              "outlinewidth": 0,
              "ticks": ""
             }
            },
            "marker": {
             "colorbar": {
              "outlinewidth": 0,
              "ticks": ""
             }
            }
           }
          ],
          "scattermapbox": [
           {
            "type": "scattermapbox",
            "marker": {
             "colorbar": {
              "outlinewidth": 0,
              "ticks": ""
             }
            }
           }
          ],
          "scatterternary": [
           {
            "type": "scatterternary",
            "marker": {
             "colorbar": {
              "outlinewidth": 0,
              "ticks": ""
             }
            }
           }
          ],
          "scattercarpet": [
           {
            "type": "scattercarpet",
            "marker": {
             "colorbar": {
              "outlinewidth": 0,
              "ticks": ""
             }
            }
           }
          ],
          "carpet": [
           {
            "aaxis": {
             "endlinecolor": "#2a3f5f",
             "gridcolor": "white",
             "linecolor": "white",
             "minorgridcolor": "white",
             "startlinecolor": "#2a3f5f"
            },
            "baxis": {
             "endlinecolor": "#2a3f5f",
             "gridcolor": "white",
             "linecolor": "white",
             "minorgridcolor": "white",
             "startlinecolor": "#2a3f5f"
            },
            "type": "carpet"
           }
          ],
          "table": [
           {
            "cells": {
             "fill": {
              "color": "#EBF0F8"
             },
             "line": {
              "color": "white"
             }
            },
            "header": {
             "fill": {
              "color": "#C8D4E3"
             },
             "line": {
              "color": "white"
             }
            },
            "type": "table"
           }
          ],
          "barpolar": [
           {
            "marker": {
             "line": {
              "color": "#E5ECF6",
              "width": 0.5
             },
             "pattern": {
              "fillmode": "overlay",
              "size": 10,
              "solidity": 0.2
             }
            },
            "type": "barpolar"
           }
          ],
          "pie": [
           {
            "automargin": true,
            "type": "pie"
           }
          ]
         },
         "layout": {
          "autotypenumbers": "strict",
          "colorway": [
           "#636efa",
           "#EF553B",
           "#00cc96",
           "#ab63fa",
           "#FFA15A",
           "#19d3f3",
           "#FF6692",
           "#B6E880",
           "#FF97FF",
           "#FECB52"
          ],
          "font": {
           "color": "#2a3f5f"
          },
          "hovermode": "closest",
          "hoverlabel": {
           "align": "left"
          },
          "paper_bgcolor": "white",
          "plot_bgcolor": "#E5ECF6",
          "polar": {
           "bgcolor": "#E5ECF6",
           "angularaxis": {
            "gridcolor": "white",
            "linecolor": "white",
            "ticks": ""
           },
           "radialaxis": {
            "gridcolor": "white",
            "linecolor": "white",
            "ticks": ""
           }
          },
          "ternary": {
           "bgcolor": "#E5ECF6",
           "aaxis": {
            "gridcolor": "white",
            "linecolor": "white",
            "ticks": ""
           },
           "baxis": {
            "gridcolor": "white",
            "linecolor": "white",
            "ticks": ""
           },
           "caxis": {
            "gridcolor": "white",
            "linecolor": "white",
            "ticks": ""
           }
          },
          "coloraxis": {
           "colorbar": {
            "outlinewidth": 0,
            "ticks": ""
           }
          },
          "colorscale": {
           "sequential": [
            [
             0.0,
             "#0d0887"
            ],
            [
             0.1111111111111111,
             "#46039f"
            ],
            [
             0.2222222222222222,
             "#7201a8"
            ],
            [
             0.3333333333333333,
             "#9c179e"
            ],
            [
             0.4444444444444444,
             "#bd3786"
            ],
            [
             0.5555555555555556,
             "#d8576b"
            ],
            [
             0.6666666666666666,
             "#ed7953"
            ],
            [
             0.7777777777777778,
             "#fb9f3a"
            ],
            [
             0.8888888888888888,
             "#fdca26"
            ],
            [
             1.0,
             "#f0f921"
            ]
           ],
           "sequentialminus": [
            [
             0.0,
             "#0d0887"
            ],
            [
             0.1111111111111111,
             "#46039f"
            ],
            [
             0.2222222222222222,
             "#7201a8"
            ],
            [
             0.3333333333333333,
             "#9c179e"
            ],
            [
             0.4444444444444444,
             "#bd3786"
            ],
            [
             0.5555555555555556,
             "#d8576b"
            ],
            [
             0.6666666666666666,
             "#ed7953"
            ],
            [
             0.7777777777777778,
             "#fb9f3a"
            ],
            [
             0.8888888888888888,
             "#fdca26"
            ],
            [
             1.0,
             "#f0f921"
            ]
           ],
           "diverging": [
            [
             0,
             "#8e0152"
            ],
            [
             0.1,
             "#c51b7d"
            ],
            [
             0.2,
             "#de77ae"
            ],
            [
             0.3,
             "#f1b6da"
            ],
            [
             0.4,
             "#fde0ef"
            ],
            [
             0.5,
             "#f7f7f7"
            ],
            [
             0.6,
             "#e6f5d0"
            ],
            [
             0.7,
             "#b8e186"
            ],
            [
             0.8,
             "#7fbc41"
            ],
            [
             0.9,
             "#4d9221"
            ],
            [
             1,
             "#276419"
            ]
           ]
          },
          "xaxis": {
           "gridcolor": "white",
           "linecolor": "white",
           "ticks": "",
           "title": {
            "standoff": 15
           },
           "zerolinecolor": "white",
           "automargin": true,
           "zerolinewidth": 2
          },
          "yaxis": {
           "gridcolor": "white",
           "linecolor": "white",
           "ticks": "",
           "title": {
            "standoff": 15
           },
           "zerolinecolor": "white",
           "automargin": true,
           "zerolinewidth": 2
          },
          "scene": {
           "xaxis": {
            "backgroundcolor": "#E5ECF6",
            "gridcolor": "white",
            "linecolor": "white",
            "showbackground": true,
            "ticks": "",
            "zerolinecolor": "white",
            "gridwidth": 2
           },
           "yaxis": {
            "backgroundcolor": "#E5ECF6",
            "gridcolor": "white",
            "linecolor": "white",
            "showbackground": true,
            "ticks": "",
            "zerolinecolor": "white",
            "gridwidth": 2
           },
           "zaxis": {
            "backgroundcolor": "#E5ECF6",
            "gridcolor": "white",
            "linecolor": "white",
            "showbackground": true,
            "ticks": "",
            "zerolinecolor": "white",
            "gridwidth": 2
           }
          },
          "shapedefaults": {
           "line": {
            "color": "#2a3f5f"
           }
          },
          "annotationdefaults": {
           "arrowcolor": "#2a3f5f",
           "arrowhead": 0,
           "arrowwidth": 1
          },
          "geo": {
           "bgcolor": "white",
           "landcolor": "#E5ECF6",
           "subunitcolor": "white",
           "showland": true,
           "showlakes": true,
           "lakecolor": "white"
          },
          "title": {
           "x": 0.05
          },
          "mapbox": {
           "style": "light"
          }
         }
        },
        "scene": {
         "domain": {
          "x": [
           0.0,
           1.0
          ],
          "y": [
           0.0,
           1.0
          ]
         },
         "xaxis": {
          "title": {
           "text": "age"
          }
         },
         "yaxis": {
          "title": {
           "text": "salary"
          }
         },
         "zaxis": {
          "title": {
           "text": "sentiment"
          }
         }
        },
        "coloraxis": {
         "colorbar": {
          "title": {
           "text": "sentiment"
          }
         },
         "colorscale": [
          [
           0.0,
           "#0d0887"
          ],
          [
           0.1111111111111111,
           "#46039f"
          ],
          [
           0.2222222222222222,
           "#7201a8"
          ],
          [
           0.3333333333333333,
           "#9c179e"
          ],
          [
           0.4444444444444444,
           "#bd3786"
          ],
          [
           0.5555555555555556,
           "#d8576b"
          ],
          [
           0.6666666666666666,
           "#ed7953"
          ],
          [
           0.7777777777777778,
           "#fb9f3a"
          ],
          [
           0.8888888888888888,
           "#fdca26"
          ],
          [
           1.0,
           "#f0f921"
          ]
         ]
        },
        "legend": {
         "tracegroupgap": 0
        },
        "margin": {
         "t": 60
        }
       },
       "config": {
        "plotlyServerURL": "https://plot.ly"
       }
      },
      "text/html": [
       "<div>                            <div id=\"f11835b3-a274-4db2-9a50-3115575f3707\" class=\"plotly-graph-div\" style=\"height:525px; width:100%;\"></div>            <script type=\"text/javascript\">                require([\"plotly\"], function(Plotly) {                    window.PLOTLYENV=window.PLOTLYENV || {};                                    if (document.getElementById(\"f11835b3-a274-4db2-9a50-3115575f3707\")) {                    Plotly.newPlot(                        \"f11835b3-a274-4db2-9a50-3115575f3707\",                        [{\"hovertemplate\":\"age=%{x}\\u003cbr\\u003esalary=%{y}\\u003cbr\\u003esentiment=%{marker.color}\\u003cextra\\u003e\\u003c\\u002fextra\\u003e\",\"legendgroup\":\"\",\"marker\":{\"color\":[null,null,null,null,null,null,null,null,null,null,0.0,null,null,null,null,null,null,null,null,null,null,null,null,0.0,null,0.3612,null,null,null,null,0.3612,null,null,null,null,null,null,null,null,-0.1027,null,null,null,null,0.6908,null,null,null,null,null,null,null,null,null,0.8885,0.296,null,null,null,-0.743,0.2635,null,null,0.6369,null,null,0.34,0.836,null,null,0.8625,null,0.2023,null,null,null,0.3612,null,0.7727,null,null,null,null,null,null,null,0.6808,null,0.0,null,null,null,null,null,null,null,0.1531,null,null,null,null,-0.2263,null,null,null,null,null,0.7184,null,null,0.0258,null,null,null,null,null,null,null,null,null,0.6249,null,null,null,null,null,null,null,null,null,null,null,null,null,null,null,0.4939,0.2617,null,-0.3071,null,null,null,null,null,null,null,null,null,null,null,null,null,null,null,null,null,null,-0.3612,null,null,null,null,null,null,null,null,null,-0.1068,null,null,null,null,null,0.0,null,null,null,null,null,null,null,null,null,0.6133,null,null,null,null,null,null,null,null,null,null,null,null,null,-0.4767,0.765],\"coloraxis\":\"coloraxis\",\"symbol\":\"circle\"},\"mode\":\"markers\",\"name\":\"\",\"scene\":\"scene\",\"showlegend\":false,\"x\":[null,null,null,null,null,null,null,null,null,null,1.267973129903299,null,null,null,null,null,null,null,null,null,null,null,null,1.6812090606500396,null,0.8960607922312325,null,null,null,null,-0.5502649653823598,null,null,null,null,null,null,null,null,1.2266495368286248,null,null,null,null,-1.4593840130251892,null,null,null,null,null,null,null,null,null,0.9373843853059065,-1.5833547922492113,null,null,null,-1.0461480822784486,1.5572382814260173,null,null,-0.42629418615833764,null,null,1.0200315714552548,-0.013058255411597016,null,null,1.0613551645299288,null,1.5985618745006913,null,null,null,0.8134136060818843,null,-1.4593840130251892,null,null,null,null,null,null,null,-0.9635008961291006,null,1.6398854675753656,null,null,null,null,null,null,null,-1.6246783853238855,null,null,null,null,-1.4593840130251892,null,null,null,null,null,-1.1287952684277966,null,null,0.730766419932536,null,null,null,null,null,null,null,null,null,0.44150126840981774,null,null,null,null,null,null,null,null,null,null,null,null,null,null,null,-1.5833547922492113,-0.8808537099797524,null,-1.5420311991745375,null,null,null,null,null,null,null,null,null,null,null,null,null,null,null,null,null,null,-1.376736826875841,null,null,null,null,null,null,null,null,null,-1.5420311991745375,null,null,null,null,null,-0.632912151531708,null,null,null,null,null,null,null,null,null,0.9373843853059065,null,null,null,null,null,null,null,null,null,null,null,null,null,1.1440023506792767,0.6481192337831883],\"y\":[null,null,null,null,null,null,null,null,null,null,86274.38325377788,null,null,null,null,null,null,null,null,null,null,null,null,204438.59754118364,null,204214.4658428367,null,null,null,null,86317.62985725095,null,null,null,null,null,null,null,null,201366.68677934093,null,null,null,null,55913.5364534262,null,null,null,null,null,null,null,null,null,163688.73619273558,214166.6480607378,null,null,null,43095.78103667866,279153.811718577,null,null,141119.92617175536,null,null,254295.82004142355,238238.7587185408,null,null,129658.1209864533,null,11865.218347544836,null,null,null,272313.87818841194,null,183593.4658074882,null,null,null,null,null,null,null,44398.946231377966,null,52482.40241107114,null,null,null,null,null,null,null,220161.88305164405,null,null,null,null,269405.4464696038,null,null,null,null,null,30360.001959536665,null,null,245599.06370229195,null,null,null,null,null,null,null,null,null,65614.84211033765,null,null,null,null,null,null,null,null,null,null,null,null,null,null,null,43852.09454659865,298850.03421906044,null,32200.96716041923,null,null,null,null,null,null,null,null,null,null,null,null,null,null,null,null,null,null,263741.7906120905,null,null,null,null,null,null,null,null,null,182607.16274749453,null,null,null,null,null,38625.42213481788,null,null,null,null,null,null,null,null,null,37041.811863299095,null,null,null,null,null,null,null,null,null,null,null,null,null,244417.1667887829,123715.16453306848],\"z\":[null,null,null,null,null,null,null,null,null,null,0.0,null,null,null,null,null,null,null,null,null,null,null,null,0.0,null,0.3612,null,null,null,null,0.3612,null,null,null,null,null,null,null,null,-0.1027,null,null,null,null,0.6908,null,null,null,null,null,null,null,null,null,0.8885,0.296,null,null,null,-0.743,0.2635,null,null,0.6369,null,null,0.34,0.836,null,null,0.8625,null,0.2023,null,null,null,0.3612,null,0.7727,null,null,null,null,null,null,null,0.6808,null,0.0,null,null,null,null,null,null,null,0.1531,null,null,null,null,-0.2263,null,null,null,null,null,0.7184,null,null,0.0258,null,null,null,null,null,null,null,null,null,0.6249,null,null,null,null,null,null,null,null,null,null,null,null,null,null,null,0.4939,0.2617,null,-0.3071,null,null,null,null,null,null,null,null,null,null,null,null,null,null,null,null,null,null,-0.3612,null,null,null,null,null,null,null,null,null,-0.1068,null,null,null,null,null,0.0,null,null,null,null,null,null,null,null,null,0.6133,null,null,null,null,null,null,null,null,null,null,null,null,null,-0.4767,0.765],\"type\":\"scatter3d\"}],                        {\"template\":{\"data\":{\"histogram2dcontour\":[{\"type\":\"histogram2dcontour\",\"colorbar\":{\"outlinewidth\":0,\"ticks\":\"\"},\"colorscale\":[[0.0,\"#0d0887\"],[0.1111111111111111,\"#46039f\"],[0.2222222222222222,\"#7201a8\"],[0.3333333333333333,\"#9c179e\"],[0.4444444444444444,\"#bd3786\"],[0.5555555555555556,\"#d8576b\"],[0.6666666666666666,\"#ed7953\"],[0.7777777777777778,\"#fb9f3a\"],[0.8888888888888888,\"#fdca26\"],[1.0,\"#f0f921\"]]}],\"choropleth\":[{\"type\":\"choropleth\",\"colorbar\":{\"outlinewidth\":0,\"ticks\":\"\"}}],\"histogram2d\":[{\"type\":\"histogram2d\",\"colorbar\":{\"outlinewidth\":0,\"ticks\":\"\"},\"colorscale\":[[0.0,\"#0d0887\"],[0.1111111111111111,\"#46039f\"],[0.2222222222222222,\"#7201a8\"],[0.3333333333333333,\"#9c179e\"],[0.4444444444444444,\"#bd3786\"],[0.5555555555555556,\"#d8576b\"],[0.6666666666666666,\"#ed7953\"],[0.7777777777777778,\"#fb9f3a\"],[0.8888888888888888,\"#fdca26\"],[1.0,\"#f0f921\"]]}],\"heatmap\":[{\"type\":\"heatmap\",\"colorbar\":{\"outlinewidth\":0,\"ticks\":\"\"},\"colorscale\":[[0.0,\"#0d0887\"],[0.1111111111111111,\"#46039f\"],[0.2222222222222222,\"#7201a8\"],[0.3333333333333333,\"#9c179e\"],[0.4444444444444444,\"#bd3786\"],[0.5555555555555556,\"#d8576b\"],[0.6666666666666666,\"#ed7953\"],[0.7777777777777778,\"#fb9f3a\"],[0.8888888888888888,\"#fdca26\"],[1.0,\"#f0f921\"]]}],\"heatmapgl\":[{\"type\":\"heatmapgl\",\"colorbar\":{\"outlinewidth\":0,\"ticks\":\"\"},\"colorscale\":[[0.0,\"#0d0887\"],[0.1111111111111111,\"#46039f\"],[0.2222222222222222,\"#7201a8\"],[0.3333333333333333,\"#9c179e\"],[0.4444444444444444,\"#bd3786\"],[0.5555555555555556,\"#d8576b\"],[0.6666666666666666,\"#ed7953\"],[0.7777777777777778,\"#fb9f3a\"],[0.8888888888888888,\"#fdca26\"],[1.0,\"#f0f921\"]]}],\"contourcarpet\":[{\"type\":\"contourcarpet\",\"colorbar\":{\"outlinewidth\":0,\"ticks\":\"\"}}],\"contour\":[{\"type\":\"contour\",\"colorbar\":{\"outlinewidth\":0,\"ticks\":\"\"},\"colorscale\":[[0.0,\"#0d0887\"],[0.1111111111111111,\"#46039f\"],[0.2222222222222222,\"#7201a8\"],[0.3333333333333333,\"#9c179e\"],[0.4444444444444444,\"#bd3786\"],[0.5555555555555556,\"#d8576b\"],[0.6666666666666666,\"#ed7953\"],[0.7777777777777778,\"#fb9f3a\"],[0.8888888888888888,\"#fdca26\"],[1.0,\"#f0f921\"]]}],\"surface\":[{\"type\":\"surface\",\"colorbar\":{\"outlinewidth\":0,\"ticks\":\"\"},\"colorscale\":[[0.0,\"#0d0887\"],[0.1111111111111111,\"#46039f\"],[0.2222222222222222,\"#7201a8\"],[0.3333333333333333,\"#9c179e\"],[0.4444444444444444,\"#bd3786\"],[0.5555555555555556,\"#d8576b\"],[0.6666666666666666,\"#ed7953\"],[0.7777777777777778,\"#fb9f3a\"],[0.8888888888888888,\"#fdca26\"],[1.0,\"#f0f921\"]]}],\"mesh3d\":[{\"type\":\"mesh3d\",\"colorbar\":{\"outlinewidth\":0,\"ticks\":\"\"}}],\"scatter\":[{\"fillpattern\":{\"fillmode\":\"overlay\",\"size\":10,\"solidity\":0.2},\"type\":\"scatter\"}],\"parcoords\":[{\"type\":\"parcoords\",\"line\":{\"colorbar\":{\"outlinewidth\":0,\"ticks\":\"\"}}}],\"scatterpolargl\":[{\"type\":\"scatterpolargl\",\"marker\":{\"colorbar\":{\"outlinewidth\":0,\"ticks\":\"\"}}}],\"bar\":[{\"error_x\":{\"color\":\"#2a3f5f\"},\"error_y\":{\"color\":\"#2a3f5f\"},\"marker\":{\"line\":{\"color\":\"#E5ECF6\",\"width\":0.5},\"pattern\":{\"fillmode\":\"overlay\",\"size\":10,\"solidity\":0.2}},\"type\":\"bar\"}],\"scattergeo\":[{\"type\":\"scattergeo\",\"marker\":{\"colorbar\":{\"outlinewidth\":0,\"ticks\":\"\"}}}],\"scatterpolar\":[{\"type\":\"scatterpolar\",\"marker\":{\"colorbar\":{\"outlinewidth\":0,\"ticks\":\"\"}}}],\"histogram\":[{\"marker\":{\"pattern\":{\"fillmode\":\"overlay\",\"size\":10,\"solidity\":0.2}},\"type\":\"histogram\"}],\"scattergl\":[{\"type\":\"scattergl\",\"marker\":{\"colorbar\":{\"outlinewidth\":0,\"ticks\":\"\"}}}],\"scatter3d\":[{\"type\":\"scatter3d\",\"line\":{\"colorbar\":{\"outlinewidth\":0,\"ticks\":\"\"}},\"marker\":{\"colorbar\":{\"outlinewidth\":0,\"ticks\":\"\"}}}],\"scattermapbox\":[{\"type\":\"scattermapbox\",\"marker\":{\"colorbar\":{\"outlinewidth\":0,\"ticks\":\"\"}}}],\"scatterternary\":[{\"type\":\"scatterternary\",\"marker\":{\"colorbar\":{\"outlinewidth\":0,\"ticks\":\"\"}}}],\"scattercarpet\":[{\"type\":\"scattercarpet\",\"marker\":{\"colorbar\":{\"outlinewidth\":0,\"ticks\":\"\"}}}],\"carpet\":[{\"aaxis\":{\"endlinecolor\":\"#2a3f5f\",\"gridcolor\":\"white\",\"linecolor\":\"white\",\"minorgridcolor\":\"white\",\"startlinecolor\":\"#2a3f5f\"},\"baxis\":{\"endlinecolor\":\"#2a3f5f\",\"gridcolor\":\"white\",\"linecolor\":\"white\",\"minorgridcolor\":\"white\",\"startlinecolor\":\"#2a3f5f\"},\"type\":\"carpet\"}],\"table\":[{\"cells\":{\"fill\":{\"color\":\"#EBF0F8\"},\"line\":{\"color\":\"white\"}},\"header\":{\"fill\":{\"color\":\"#C8D4E3\"},\"line\":{\"color\":\"white\"}},\"type\":\"table\"}],\"barpolar\":[{\"marker\":{\"line\":{\"color\":\"#E5ECF6\",\"width\":0.5},\"pattern\":{\"fillmode\":\"overlay\",\"size\":10,\"solidity\":0.2}},\"type\":\"barpolar\"}],\"pie\":[{\"automargin\":true,\"type\":\"pie\"}]},\"layout\":{\"autotypenumbers\":\"strict\",\"colorway\":[\"#636efa\",\"#EF553B\",\"#00cc96\",\"#ab63fa\",\"#FFA15A\",\"#19d3f3\",\"#FF6692\",\"#B6E880\",\"#FF97FF\",\"#FECB52\"],\"font\":{\"color\":\"#2a3f5f\"},\"hovermode\":\"closest\",\"hoverlabel\":{\"align\":\"left\"},\"paper_bgcolor\":\"white\",\"plot_bgcolor\":\"#E5ECF6\",\"polar\":{\"bgcolor\":\"#E5ECF6\",\"angularaxis\":{\"gridcolor\":\"white\",\"linecolor\":\"white\",\"ticks\":\"\"},\"radialaxis\":{\"gridcolor\":\"white\",\"linecolor\":\"white\",\"ticks\":\"\"}},\"ternary\":{\"bgcolor\":\"#E5ECF6\",\"aaxis\":{\"gridcolor\":\"white\",\"linecolor\":\"white\",\"ticks\":\"\"},\"baxis\":{\"gridcolor\":\"white\",\"linecolor\":\"white\",\"ticks\":\"\"},\"caxis\":{\"gridcolor\":\"white\",\"linecolor\":\"white\",\"ticks\":\"\"}},\"coloraxis\":{\"colorbar\":{\"outlinewidth\":0,\"ticks\":\"\"}},\"colorscale\":{\"sequential\":[[0.0,\"#0d0887\"],[0.1111111111111111,\"#46039f\"],[0.2222222222222222,\"#7201a8\"],[0.3333333333333333,\"#9c179e\"],[0.4444444444444444,\"#bd3786\"],[0.5555555555555556,\"#d8576b\"],[0.6666666666666666,\"#ed7953\"],[0.7777777777777778,\"#fb9f3a\"],[0.8888888888888888,\"#fdca26\"],[1.0,\"#f0f921\"]],\"sequentialminus\":[[0.0,\"#0d0887\"],[0.1111111111111111,\"#46039f\"],[0.2222222222222222,\"#7201a8\"],[0.3333333333333333,\"#9c179e\"],[0.4444444444444444,\"#bd3786\"],[0.5555555555555556,\"#d8576b\"],[0.6666666666666666,\"#ed7953\"],[0.7777777777777778,\"#fb9f3a\"],[0.8888888888888888,\"#fdca26\"],[1.0,\"#f0f921\"]],\"diverging\":[[0,\"#8e0152\"],[0.1,\"#c51b7d\"],[0.2,\"#de77ae\"],[0.3,\"#f1b6da\"],[0.4,\"#fde0ef\"],[0.5,\"#f7f7f7\"],[0.6,\"#e6f5d0\"],[0.7,\"#b8e186\"],[0.8,\"#7fbc41\"],[0.9,\"#4d9221\"],[1,\"#276419\"]]},\"xaxis\":{\"gridcolor\":\"white\",\"linecolor\":\"white\",\"ticks\":\"\",\"title\":{\"standoff\":15},\"zerolinecolor\":\"white\",\"automargin\":true,\"zerolinewidth\":2},\"yaxis\":{\"gridcolor\":\"white\",\"linecolor\":\"white\",\"ticks\":\"\",\"title\":{\"standoff\":15},\"zerolinecolor\":\"white\",\"automargin\":true,\"zerolinewidth\":2},\"scene\":{\"xaxis\":{\"backgroundcolor\":\"#E5ECF6\",\"gridcolor\":\"white\",\"linecolor\":\"white\",\"showbackground\":true,\"ticks\":\"\",\"zerolinecolor\":\"white\",\"gridwidth\":2},\"yaxis\":{\"backgroundcolor\":\"#E5ECF6\",\"gridcolor\":\"white\",\"linecolor\":\"white\",\"showbackground\":true,\"ticks\":\"\",\"zerolinecolor\":\"white\",\"gridwidth\":2},\"zaxis\":{\"backgroundcolor\":\"#E5ECF6\",\"gridcolor\":\"white\",\"linecolor\":\"white\",\"showbackground\":true,\"ticks\":\"\",\"zerolinecolor\":\"white\",\"gridwidth\":2}},\"shapedefaults\":{\"line\":{\"color\":\"#2a3f5f\"}},\"annotationdefaults\":{\"arrowcolor\":\"#2a3f5f\",\"arrowhead\":0,\"arrowwidth\":1},\"geo\":{\"bgcolor\":\"white\",\"landcolor\":\"#E5ECF6\",\"subunitcolor\":\"white\",\"showland\":true,\"showlakes\":true,\"lakecolor\":\"white\"},\"title\":{\"x\":0.05},\"mapbox\":{\"style\":\"light\"}}},\"scene\":{\"domain\":{\"x\":[0.0,1.0],\"y\":[0.0,1.0]},\"xaxis\":{\"title\":{\"text\":\"age\"}},\"yaxis\":{\"title\":{\"text\":\"salary\"}},\"zaxis\":{\"title\":{\"text\":\"sentiment\"}}},\"coloraxis\":{\"colorbar\":{\"title\":{\"text\":\"sentiment\"}},\"colorscale\":[[0.0,\"#0d0887\"],[0.1111111111111111,\"#46039f\"],[0.2222222222222222,\"#7201a8\"],[0.3333333333333333,\"#9c179e\"],[0.4444444444444444,\"#bd3786\"],[0.5555555555555556,\"#d8576b\"],[0.6666666666666666,\"#ed7953\"],[0.7777777777777778,\"#fb9f3a\"],[0.8888888888888888,\"#fdca26\"],[1.0,\"#f0f921\"]]},\"legend\":{\"tracegroupgap\":0},\"margin\":{\"t\":60}},                        {\"responsive\": true}                    ).then(function(){\n",
       "                            \n",
       "var gd = document.getElementById('f11835b3-a274-4db2-9a50-3115575f3707');\n",
       "var x = new MutationObserver(function (mutations, observer) {{\n",
       "        var display = window.getComputedStyle(gd).display;\n",
       "        if (!display || display === 'none') {{\n",
       "            console.log([gd, 'removed!']);\n",
       "            Plotly.purge(gd);\n",
       "            observer.disconnect();\n",
       "        }}\n",
       "}});\n",
       "\n",
       "// Listen for the removal of the full notebook cells\n",
       "var notebookContainer = gd.closest('#notebook-container');\n",
       "if (notebookContainer) {{\n",
       "    x.observe(notebookContainer, {childList: true});\n",
       "}}\n",
       "\n",
       "// Listen for the clearing of the current output cell\n",
       "var outputEl = gd.closest('.output');\n",
       "if (outputEl) {{\n",
       "    x.observe(outputEl, {childList: true});\n",
       "}}\n",
       "\n",
       "                        })                };                });            </script>        </div>"
      ]
     },
     "metadata": {},
     "output_type": "display_data"
    }
   ],
   "execution_count": 106
  },
  {
   "cell_type": "code",
   "metadata": {
    "ExecuteTime": {
     "end_time": "2024-06-16T06:03:44.295865Z",
     "start_time": "2024-06-16T06:03:44.222841Z"
    }
   },
   "source": "visualizer.plot_distribution(column='sentiment', color='gold', title='Sentiment Distribution')",
   "outputs": [
    {
     "data": {
      "text/plain": [
       "<Figure size 1000x600 with 0 Axes>"
      ]
     },
     "metadata": {},
     "output_type": "display_data"
    },
    {
     "data": {
      "text/plain": [
       "<Figure size 500x500 with 1 Axes>"
      ],
      "image/png": "[encoded data removed]"
     },
     "metadata": {},
     "output_type": "display_data"
    }
   ],
   "execution_count": 107
  },
  {
   "cell_type": "code",
   "metadata": {
    "ExecuteTime": {
     "end_time": "2024-06-16T06:03:53.216193Z",
     "start_time": "2024-06-16T06:03:44.296527Z"
    }
   },
   "source": [
    "results = core.query_data(query='SELECT * FROM generated_data')\n",
    "print(results)"
   ],
   "outputs": [
    {
     "name": "stderr",
     "output_type": "stream",
     "text": [
      "INFO:plato:Database connection created with data.db\n",
      "INFO:plato:Query executed: SELECT * FROM generated_data\n",
      "INFO:plato:Query executed successfully.\n",
      "INFO:plato:Database connection closed\n",
      "IOPub data rate exceeded.\n",
      "The Jupyter server will temporarily stop sending output\n",
      "to the client in order to avoid crashing it.\n",
      "To change this limit, set the config variable\n",
      "`--ServerApp.iopub_data_rate_limit`.\n",
      "\n",
      "Current values:\n",
      "ServerApp.iopub_data_rate_limit=1000000.0 (bytes/sec)\n",
      "ServerApp.rate_limit_window=3.0 (secs)\n",
      "\n"
     ]
    }
   ],
   "execution_count": 108
  },
  {
   "metadata": {
    "ExecuteTime": {
     "end_time": "2024-06-16T06:03:54.327709Z",
     "start_time": "2024-06-16T06:03:53.218279Z"
    }
   },
   "cell_type": "code",
   "source": [
    "results = core.query_data(query='SELECT COUNT(DISTINCT age) FROM generated_data')\n",
    "print(results)\n"
   ],
   "outputs": [
    {
     "name": "stderr",
     "output_type": "stream",
     "text": [
      "INFO:plato:Database connection created with data.db\n",
      "INFO:plato:Query executed: SELECT COUNT(DISTINCT age) FROM generated_data\n",
      "INFO:plato:Query executed successfully.\n",
      "INFO:plato:Database connection closed\n"
     ]
    },
    {
     "name": "stdout",
     "output_type": "stream",
     "text": [
      "[(83,)]\n"
     ]
    }
   ],
   "execution_count": 109
  },
  {
   "metadata": {
    "ExecuteTime": {
     "end_time": "2024-06-16T06:03:54.713728Z",
     "start_time": "2024-06-16T06:03:54.328363Z"
    }
   },
   "cell_type": "code",
   "source": [
    "results = core.query_data(query='SELECT AVG(salary) FROM generated_data')\n",
    "print(results)"
   ],
   "outputs": [
    {
     "name": "stderr",
     "output_type": "stream",
     "text": [
      "INFO:plato:Database connection created with data.db\n",
      "INFO:plato:Query executed: SELECT AVG(salary) FROM generated_data\n",
      "INFO:plato:Query executed successfully.\n",
      "INFO:plato:Database connection closed\n"
     ]
    },
    {
     "name": "stdout",
     "output_type": "stream",
     "text": [
      "[(154892.08384899978,)]\n"
     ]
    }
   ],
   "execution_count": 110
  },
  {
   "metadata": {
    "ExecuteTime": {
     "end_time": "2024-06-16T06:03:54.715349Z",
     "start_time": "2024-06-16T06:03:54.714298Z"
    }
   },
   "cell_type": "code",
   "source": "",
   "outputs": [],
   "execution_count": null
  }
 ],
 "metadata": {
  "kernelspec": {
   "display_name": ".venv",
   "language": "python",
   "name": "python3"
  },
  "language_info": {
   "codemirror_mode": {
    "name": "ipython",
    "version": 3
   },
   "file_extension": ".py",
   "mimetype": "text/x-python",
   "name": "python",
   "nbconvert_exporter": "python",
   "pygments_lexer": "ipython3",
   "version": "3.9.6"
  }
 },
 "nbformat": 4,
 "nbformat_minor": 2
}
