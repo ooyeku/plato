{
 "cells": [
  {
   "cell_type": "markdown",
   "metadata": {},
   "source": [
    "Plato workbook"
   ]
  },
  {
   "cell_type": "code",
   "metadata": {
    "ExecuteTime": {
     "end_time": "2024-06-16T04:10:45.392500Z",
     "start_time": "2024-06-16T04:10:45.376307Z"
    }
   },
   "source": [
    "import pandas as pd\n",
    "\n",
    "from core.core import Core, load_data"
   ],
   "outputs": [],
   "execution_count": 53
  },
  {
   "cell_type": "code",
   "metadata": {
    "ExecuteTime": {
     "end_time": "2024-06-16T04:10:45.511420Z",
     "start_time": "2024-06-16T04:10:45.508429Z"
    }
   },
   "source": [
    "core = Core()"
   ],
   "outputs": [],
   "execution_count": 54
  },
  {
   "metadata": {},
   "cell_type": "markdown",
   "source": [
    "Generating Data using core\n",
    "\n",
    "Note: generated data is saved to generated_data.csv by default\n",
    "\n",
    "\n"
   ]
  },
  {
   "metadata": {
    "ExecuteTime": {
     "end_time": "2024-06-16T04:10:57.216690Z",
     "start_time": "2024-06-16T04:10:45.632879Z"
    }
   },
   "cell_type": "code",
   "source": [
    "core.generate_data(num_rows=1000, columns=[\n",
    "    {\"name\": \"age\", \"data_type\": \"int\", \"options\": {\"min\": 18, \"max\": 75}},\n",
    "    {\"name\": \"name\", \"data_type\": \"name\"},\n",
    "    {\"name\": \"email\", \"data_type\": \"email\"},\n",
    "    {\"name\": \"address\", \"data_type\": \"address\"},\n",
    "    {\"name\": \"phone\", \"data_type\": \"phone\"},\n",
    "    {\"name\": \"company\", \"data_type\": \"company\"},\n",
    "    {\"name\": \"text\", \"data_type\": \"text\", \"options\": {\"max_nb_chars\": 200000}},\n",
    "    {\"name\": \"income\", \"data_type\": \"float\", \"options\": {\"min\": 10000, \"max\": 250000}},\n",
    "    {\"name\": \"salary\", \"data_type\": \"float\", \"options\": {\"min\": 10000, \"max\": 300000}},\n",
    "    {\n",
    "        \"name\": \"date_joined\",\n",
    "        \"data_type\": \"date\",\n",
    "        \"options\": {\"min\": \"2022-01-01\", \"max\": \"2022-12-31\"}\n",
    "    },\n",
    "])"
   ],
   "outputs": [
    {
     "name": "stderr",
     "output_type": "stream",
     "text": [
      "INFO:plato:Generating data...\n",
      "INFO:plato:Data generated and saved to 'generated_data.csv'.\n"
     ]
    },
    {
     "data": {
      "text/plain": [
       "     age                    name                      email  \\\n",
       "0     40  Dr. Brittney Armstrong       dwayne76@example.com   \n",
       "1     72           Anna Figueroa    robertcohen@example.com   \n",
       "2     51             Jon Roberts       wardjohn@example.org   \n",
       "3     42          Andrea Jackson   scottheather@example.net   \n",
       "4     41           James Edwards  brookefleming@example.com   \n",
       "..   ...                     ...                        ...   \n",
       "995   44          Michael Gibson   andersonjill@example.net   \n",
       "996   31      Christian Marshall        liuadam@example.net   \n",
       "997   44      Jonathan Austin MD        jbowman@example.com   \n",
       "998   35         Curtis Marshall    williescott@example.net   \n",
       "999   22            Amber Walker    alyssareyes@example.net   \n",
       "\n",
       "                                               address                  phone  \\\n",
       "0            131 Christian Rapids\\nNorth Jon, LA 27914      949.704.4940x6721   \n",
       "1    47528 Donald Mission Apt. 590\\nNew Julieview, ...  +1-688-870-6566x76173   \n",
       "2     25228 Robert Shoal Apt. 249\\nCraigport, FL 04574             7168437489   \n",
       "3    55421 Matthew Street Apt. 791\\nNew Isaacmouth,...          (221)771-4854   \n",
       "4                              USNV Ross\\nFPO AP 93350     218-398-3423x11054   \n",
       "..                                                 ...                    ...   \n",
       "995    594 Lambert Islands\\nWest Derrickbury, VT 31114      (719)641-8952x780   \n",
       "996   11033 Paul Prairie\\nSouth Allisonmouth, NE 34144             4279611420   \n",
       "997         92015 Conley Route\\nShanechester, TX 63991           279.634.9151   \n",
       "998        3807 Walters Corners\\nGarciaville, TX 15627             3626580021   \n",
       "999   0344 Herman Row Apt. 712\\nWest Douglas, KY 69630       671-345-7437x768   \n",
       "\n",
       "                       company  \\\n",
       "0                 Vaughn-Banks   \n",
       "1     Delacruz, Roy and Medina   \n",
       "2                    Hardy PLC   \n",
       "3                   Kaiser-Cox   \n",
       "4                  Green-Jones   \n",
       "..                         ...   \n",
       "995                 Moore-Hall   \n",
       "996  Stewart, Meyer and Cooley   \n",
       "997             Young and Sons   \n",
       "998                 Cortez PLC   \n",
       "999            Goodman-Edwards   \n",
       "\n",
       "                                                  text         income  \\\n",
       "0    Deep event bring here action floor structure. ...   59282.692281   \n",
       "1    Painting charge pull week his.\\nExplain ok str...  171678.783868   \n",
       "2    Top he cost talk party religious read. Idea ma...  129427.105378   \n",
       "3    Movement trial hundred audience data. Campaign...  165620.894456   \n",
       "4    Other stay property stand what nice about. Whi...   90293.290415   \n",
       "..                                                 ...            ...   \n",
       "995  Mouth Congress all sense. Wonder leave around ...  112741.052230   \n",
       "996  Between none trade role view.\\nAt have lot sty...   21911.741988   \n",
       "997  Office unit prevent exist board. Focus their p...  166755.608487   \n",
       "998  Loss service peace north represent out thus.\\n...   86345.864044   \n",
       "999  Team training evidence hospital to. Series fee...   37176.463730   \n",
       "\n",
       "            salary date_joined  \n",
       "0    186746.642330  2015-02-24  \n",
       "1    206881.709757  2020-06-02  \n",
       "2    182457.495124  2012-04-30  \n",
       "3     80246.239867  2023-09-25  \n",
       "4    111924.309005  2008-02-09  \n",
       "..             ...         ...  \n",
       "995   35726.234857  1995-12-19  \n",
       "996  293795.773865  1995-03-29  \n",
       "997  129297.155667  1997-12-06  \n",
       "998  264178.581949  2020-08-09  \n",
       "999  136324.634931  2005-04-26  \n",
       "\n",
       "[1000 rows x 10 columns]"
      ],
      "text/html": [
       "<div>\n",
       "<style scoped>\n",
       "    .dataframe tbody tr th:only-of-type {\n",
       "        vertical-align: middle;\n",
       "    }\n",
       "\n",
       "    .dataframe tbody tr th {\n",
       "        vertical-align: top;\n",
       "    }\n",
       "\n",
       "    .dataframe thead th {\n",
       "        text-align: right;\n",
       "    }\n",
       "</style>\n",
       "<table border=\"1\" class=\"dataframe\">\n",
       "  <thead>\n",
       "    <tr style=\"text-align: right;\">\n",
       "      <th></th>\n",
       "      <th>age</th>\n",
       "      <th>name</th>\n",
       "      <th>email</th>\n",
       "      <th>address</th>\n",
       "      <th>phone</th>\n",
       "      <th>company</th>\n",
       "      <th>text</th>\n",
       "      <th>income</th>\n",
       "      <th>salary</th>\n",
       "      <th>date_joined</th>\n",
       "    </tr>\n",
       "  </thead>\n",
       "  <tbody>\n",
       "    <tr>\n",
       "      <th>0</th>\n",
       "      <td>40</td>\n",
       "      <td>Dr. Brittney Armstrong</td>\n",
       "      <td>dwayne76@example.com</td>\n",
       "      <td>131 Christian Rapids\\nNorth Jon, LA 27914</td>\n",
       "      <td>949.704.4940x6721</td>\n",
       "      <td>Vaughn-Banks</td>\n",
       "      <td>Deep event bring here action floor structure. ...</td>\n",
       "      <td>59282.692281</td>\n",
       "      <td>186746.642330</td>\n",
       "      <td>2015-02-24</td>\n",
       "    </tr>\n",
       "    <tr>\n",
       "      <th>1</th>\n",
       "      <td>72</td>\n",
       "      <td>Anna Figueroa</td>\n",
       "      <td>robertcohen@example.com</td>\n",
       "      <td>47528 Donald Mission Apt. 590\\nNew Julieview, ...</td>\n",
       "      <td>+1-688-870-6566x76173</td>\n",
       "      <td>Delacruz, Roy and Medina</td>\n",
       "      <td>Painting charge pull week his.\\nExplain ok str...</td>\n",
       "      <td>171678.783868</td>\n",
       "      <td>206881.709757</td>\n",
       "      <td>2020-06-02</td>\n",
       "    </tr>\n",
       "    <tr>\n",
       "      <th>2</th>\n",
       "      <td>51</td>\n",
       "      <td>Jon Roberts</td>\n",
       "      <td>wardjohn@example.org</td>\n",
       "      <td>25228 Robert Shoal Apt. 249\\nCraigport, FL 04574</td>\n",
       "      <td>7168437489</td>\n",
       "      <td>Hardy PLC</td>\n",
       "      <td>Top he cost talk party religious read. Idea ma...</td>\n",
       "      <td>129427.105378</td>\n",
       "      <td>182457.495124</td>\n",
       "      <td>2012-04-30</td>\n",
       "    </tr>\n",
       "    <tr>\n",
       "      <th>3</th>\n",
       "      <td>42</td>\n",
       "      <td>Andrea Jackson</td>\n",
       "      <td>scottheather@example.net</td>\n",
       "      <td>55421 Matthew Street Apt. 791\\nNew Isaacmouth,...</td>\n",
       "      <td>(221)771-4854</td>\n",
       "      <td>Kaiser-Cox</td>\n",
       "      <td>Movement trial hundred audience data. Campaign...</td>\n",
       "      <td>165620.894456</td>\n",
       "      <td>80246.239867</td>\n",
       "      <td>2023-09-25</td>\n",
       "    </tr>\n",
       "    <tr>\n",
       "      <th>4</th>\n",
       "      <td>41</td>\n",
       "      <td>James Edwards</td>\n",
       "      <td>brookefleming@example.com</td>\n",
       "      <td>USNV Ross\\nFPO AP 93350</td>\n",
       "      <td>218-398-3423x11054</td>\n",
       "      <td>Green-Jones</td>\n",
       "      <td>Other stay property stand what nice about. Whi...</td>\n",
       "      <td>90293.290415</td>\n",
       "      <td>111924.309005</td>\n",
       "      <td>2008-02-09</td>\n",
       "    </tr>\n",
       "    <tr>\n",
       "      <th>...</th>\n",
       "      <td>...</td>\n",
       "      <td>...</td>\n",
       "      <td>...</td>\n",
       "      <td>...</td>\n",
       "      <td>...</td>\n",
       "      <td>...</td>\n",
       "      <td>...</td>\n",
       "      <td>...</td>\n",
       "      <td>...</td>\n",
       "      <td>...</td>\n",
       "    </tr>\n",
       "    <tr>\n",
       "      <th>995</th>\n",
       "      <td>44</td>\n",
       "      <td>Michael Gibson</td>\n",
       "      <td>andersonjill@example.net</td>\n",
       "      <td>594 Lambert Islands\\nWest Derrickbury, VT 31114</td>\n",
       "      <td>(719)641-8952x780</td>\n",
       "      <td>Moore-Hall</td>\n",
       "      <td>Mouth Congress all sense. Wonder leave around ...</td>\n",
       "      <td>112741.052230</td>\n",
       "      <td>35726.234857</td>\n",
       "      <td>1995-12-19</td>\n",
       "    </tr>\n",
       "    <tr>\n",
       "      <th>996</th>\n",
       "      <td>31</td>\n",
       "      <td>Christian Marshall</td>\n",
       "      <td>liuadam@example.net</td>\n",
       "      <td>11033 Paul Prairie\\nSouth Allisonmouth, NE 34144</td>\n",
       "      <td>4279611420</td>\n",
       "      <td>Stewart, Meyer and Cooley</td>\n",
       "      <td>Between none trade role view.\\nAt have lot sty...</td>\n",
       "      <td>21911.741988</td>\n",
       "      <td>293795.773865</td>\n",
       "      <td>1995-03-29</td>\n",
       "    </tr>\n",
       "    <tr>\n",
       "      <th>997</th>\n",
       "      <td>44</td>\n",
       "      <td>Jonathan Austin MD</td>\n",
       "      <td>jbowman@example.com</td>\n",
       "      <td>92015 Conley Route\\nShanechester, TX 63991</td>\n",
       "      <td>279.634.9151</td>\n",
       "      <td>Young and Sons</td>\n",
       "      <td>Office unit prevent exist board. Focus their p...</td>\n",
       "      <td>166755.608487</td>\n",
       "      <td>129297.155667</td>\n",
       "      <td>1997-12-06</td>\n",
       "    </tr>\n",
       "    <tr>\n",
       "      <th>998</th>\n",
       "      <td>35</td>\n",
       "      <td>Curtis Marshall</td>\n",
       "      <td>williescott@example.net</td>\n",
       "      <td>3807 Walters Corners\\nGarciaville, TX 15627</td>\n",
       "      <td>3626580021</td>\n",
       "      <td>Cortez PLC</td>\n",
       "      <td>Loss service peace north represent out thus.\\n...</td>\n",
       "      <td>86345.864044</td>\n",
       "      <td>264178.581949</td>\n",
       "      <td>2020-08-09</td>\n",
       "    </tr>\n",
       "    <tr>\n",
       "      <th>999</th>\n",
       "      <td>22</td>\n",
       "      <td>Amber Walker</td>\n",
       "      <td>alyssareyes@example.net</td>\n",
       "      <td>0344 Herman Row Apt. 712\\nWest Douglas, KY 69630</td>\n",
       "      <td>671-345-7437x768</td>\n",
       "      <td>Goodman-Edwards</td>\n",
       "      <td>Team training evidence hospital to. Series fee...</td>\n",
       "      <td>37176.463730</td>\n",
       "      <td>136324.634931</td>\n",
       "      <td>2005-04-26</td>\n",
       "    </tr>\n",
       "  </tbody>\n",
       "</table>\n",
       "<p>1000 rows × 10 columns</p>\n",
       "</div>"
      ]
     },
     "execution_count": 55,
     "metadata": {},
     "output_type": "execute_result"
    }
   ],
   "execution_count": 55
  },
  {
   "metadata": {},
   "cell_type": "markdown",
   "source": "Save generated data to SQLite database and query it"
  },
  {
   "metadata": {
    "ExecuteTime": {
     "end_time": "2024-06-16T04:10:58.102634Z",
     "start_time": "2024-06-16T04:10:57.217882Z"
    }
   },
   "cell_type": "code",
   "source": "core.save_to_sqlite(db_path='data.db', table_name='generated_data')\n",
   "outputs": [
    {
     "name": "stderr",
     "output_type": "stream",
     "text": [
      "INFO:plato:Database connection created with data.db\n",
      "INFO:plato:DataFrame saved to table generated_data\n",
      "INFO:plato:Data saved to SQLite database 'data.db'.\n"
     ]
    }
   ],
   "execution_count": 56
  },
  {
   "metadata": {
    "ExecuteTime": {
     "end_time": "2024-06-16T04:10:58.266803Z",
     "start_time": "2024-06-16T04:10:58.103630Z"
    }
   },
   "cell_type": "code",
   "source": [
    "results = core.query_data(query='SELECT * FROM generated_data WHERE age > 20 LIMIT 200')\n",
    "print(results)"
   ],
   "outputs": [
    {
     "name": "stderr",
     "output_type": "stream",
     "text": [
      "INFO:plato:Database connection created with data.db\n",
      "INFO:plato:Query executed: SELECT * FROM generated_data WHERE age > 20 LIMIT 200\n",
      "INFO:plato:Query executed successfully.\n",
      "INFO:plato:Database connection closed\n"
     ]
    },
    {
     "name": "stdout",
     "output_type": "stream",
     "text": [
      "[(40, 'Dr. Brittney Armstrong', 'dwayne76@example.com', '131 Christian Rapids\\nNorth Jon, LA 27914', '949.704.4940x6721', 'Vaughn-Banks', 'Deep event bring here action floor structure. His better dog anything represent candidate.\\nMeeting word artist region research plan dinner drive. Wh ... (201793 characters truncated) ... eresting push oil past religious night today.\\nWalk agreement box act factor. Room deal peace rich man. Suddenly commercial to reveal you about size.', 59282.6922811318, 186746.64232992416, '2015-02-24'), (72, 'Anna Figueroa', 'robertcohen@example.com', '47528 Donald Mission Apt. 590\\nNew Julieview, PR 08192', '+1-688-870-6566x76173', 'Delacruz, Roy and Medina', 'Painting charge pull week his.\\nExplain ok strong option around sort. Southern data reach. Second book strategy commercial note listen cost certain.\\ ... (201867 characters truncated) ...  Congress analysis increase. Generation church simple hair church indeed early.\\nRate blood though season group. Hard them someone heart chance rock.', 171678.7838682982, 206881.70975658024, '2020-06-02'), (51, 'Jon Roberts', 'wardjohn@example.org', '25228 Robert Shoal Apt. 249\\nCraigport, FL 04574', '7168437489', 'Hardy PLC', 'Top he cost talk party religious read. Idea main miss around score feel.\\nBreak yard nothing enough turn. Figure eight economy director see.\\nRead sm ... (201867 characters truncated) ... og machine. Military pay reveal course painting specific figure.\\nFace continue nothing way seem trial stop. Alone black would management good state.', 129427.10537772412, 182457.49512442757, '2012-04-30'), (42, 'Andrea Jackson', 'scottheather@example.net', '55421 Matthew Street Apt. 791\\nNew Isaacmouth, AL 47394', '(221)771-4854', 'Kaiser-Cox', 'Movement trial hundred audience data. Campaign receive science financial here. Detail law party phone morning.\\nDark word other identify. President p ... (201761 characters truncated) ... estment.\\nFront smile maybe because increase. Price attorney theory imagine. Mean choice pick story involve. Significant young growth idea soon care.', 165620.89445634323, 80246.23986682955, '2023-09-25'), (41, 'James Edwards', 'brookefleming@example.com', 'USNV Ross\\nFPO AP 93350', '218-398-3423x11054', 'Green-Jones', 'Other stay property stand what nice about. While conference section life inside. Style meet cause some.\\nUp close people trip boy learn. Head large n ... (201795 characters truncated) ... ion site great.\\nImage talk laugh design. Many try project successful house wonder thought.\\nAdministration seek play your space environment prevent.', 90293.29041498173, 111924.30900487675, '2008-02-09'), (71, 'Michael Johnson', 'kathleen06@example.org', '2188 Kristy Loaf\\nYatesbury, MP 84927', '948-518-2257', 'Harris, Williams and Saunders', 'Difference part floor financial thank. Political already film coach something study. A special home meeting economic.\\nUnderstand beyond able clear r ... (201824 characters truncated) ... along establish. Treatment since before key factor reality general.\\nOur line message customer. Center huge black. Put clearly itself thing so quite.', 19799.921609413672, 73524.29505329113, '1998-01-30'), (23, 'Pamela Taylor', 'kimberlyfields@example.com', '82738 Haney Ville Suite 960\\nHeatherland, GU 43078', '001-421-728-5541x317', 'Martinez, Cross and Parks', 'Feel tax spend control. Experience prevent song brother heavy wear woman.\\nPer animal act contain movie.\\nSo your father control between standard see ... (201798 characters truncated) ... my so build network. Campaign woman any spend hold.\\nHerself raise popular even also. Activity pass education effect. Chance blood animal bill early.', 239425.92771579433, 108414.38218423804, '2021-09-30'), (41, 'Shaun Hess', 'ann08@example.com', '98056 Medina Curve\\nPort Gabriel, WV 91462', '(378)422-2517x7472', 'Rodriguez and Sons', 'Notice represent bar society baby. Reach old image example make really. Able coach everything.\\nWindow relationship no beyond several public reason c ... (201801 characters truncated) ... ce career professor thing would.\\nMaintain wall be compare hair whether my. Too however lead thus culture.\\nPage final girl. Old exactly car medical.', 130837.71561529262, 226904.51092900606, '2021-03-26'), (64, 'Tammy French', 'heathercruz@example.org', '3335 Holly Gardens\\nNew Janet, ND 58899', '598-522-0439', 'Martinez, Brown and Martinez', 'Accept despite themselves head manage win magazine kind.\\nThrough suggest car benefit cultural cup. Establish book black tonight spring.\\nLarge struc ... (201805 characters truncated) ...  good such resource. Cover be thank send look blue benefit. Can reveal loss area different else. Happen why might smile structure rest suddenly that.', 10201.12006429625, 244656.7885248338, '2002-07-11'), (44, 'Morgan Gardner', 'austinrobert@example.com', '851 Patel Gardens Apt. 797\\nNew Grace, MN 95665', '660-454-6534x479', 'Williams Ltd', 'Lay business direction until long rise her key. House though admit while something official even. Oil control family at too right.\\nNotice wife in fr ... (201841 characters truncated) ... ch budget fact whose network police. Several race floor serious red.\\nPicture perform travel possible speak he commercial. Whether travel fire paper.', 231828.16999666876, 110014.95731852378, '1998-07-10'), (32, 'Natasha Brown', 'brusso@example.net', '5850 Rebecca Overpass\\nWardton, NY 97780', '(349)905-2583x7752', 'Nguyen-Arellano', 'Hot scene I bank. Meet west citizen everyone possible leave.\\nUse thousand daughter no go.\\nExperience decade gas card peace. Coach team decide free  ... (201807 characters truncated) ... \\nNews ready western hear bar measure present just. Someone wait difference cover foreign. Property suddenly economic prepare home whom place single.', 233880.40484413542, 164190.97030696098, '2008-05-11'), (29, 'Victoria Martin', 'john07@example.net', '814 Rebecca Island Suite 276\\nEast Darrellchester, AK 05227', '968.883.9737x3308', 'Eaton Inc', 'Song write bar history serious. Road official reduce five head positive.\\nIndustry school little never TV remain born. Third authority film every boa ... (201808 characters truncated) ... ss kitchen tough perform.\\nYeah price summer. Sing movement require toward writer. National leg leave hold beautiful feeling. Under job particularly.', 27366.01343861054, 21743.184729145232, '1998-02-25'), (43, 'Jonathan Garner', 'denise91@example.net', '0055 Nicole Station Suite 532\\nEast Angie, NV 33649', '(512)816-4280', 'Cabrera Group', 'Poor international through. Nor call simple mother side husband.\\nCompany easy choice form.\\nIndustry pick somebody area way. Recently election proje ... (201810 characters truncated) ... y easy. Language guy child final until hot now.\\nLaw seven pattern share. Control your PM short it. At discussion always morning together go student.', 218224.57106970763, 280423.86850608146, '2013-10-12'), (38, 'Mr. Jeffrey Briggs', 'katrina88@example.com', '84719 Cynthia Heights\\nEast Harrymouth, ND 12578', '289.793.5708x8917', 'Brown-Torres', 'Often almost race.\\nInvestment American difficult recognize night. Suffer particularly question their analysis baby.\\nWhich major network their messa ... (201824 characters truncated) ...  whole bar person natural.\\nLate tax threat. Against pull mention member.\\nLeft issue individual itself baby lay option. Half any well time military.', 38501.25480030684, 189049.67849603778, '1997-06-30'), (51, 'Carmen Jones', 'thomas88@example.net', '306 Benjamin Vista Apt. 815\\nGonzalesfort, NM 71442', '842.897.9096x97834', 'Booth-Yoder', 'Laugh new newspaper detail. Role audience media on.\\nStay party arrive party. Reason future try.\\nOpportunity sign up money environmental soon. Color ... (201842 characters truncated) ... e energy. Source poor modern central national smile front.\\nConcern big small sit identify idea during green. Subject continue suggest whether hotel.', 165911.58063594156, 273159.5945295412, '2009-12-12'), (43, 'James Fischer', 'jhughes@example.org', '76436 Scott Stravenue\\nWest Andrestad, AK 55299', '657-914-2184x55874', 'Morgan LLC', 'College couple dark beat. Each investment available relationship girl.\\nClose travel whole than. Mission remember however course. Training land tell  ... (201846 characters truncated) ... xample I project.\\nTrip subject eat science morning him. Go bit nothing politics group majority explain. Nature ball daughter though none the amount.', 38541.49001438777, 116963.79083199224, '2021-10-27'), (56, 'Michelle Tucker MD', 'odougherty@example.net', '30699 Williams Court\\nWest Charles, MT 07210', '3785977506', 'Gonzalez-Reynolds', 'Difficult thus situation toward should political item return. Growth firm happy evidence method so. Home anything simply life player.\\nRegion prevent ... (201731 characters truncated) ... ial record consider service any either sound. Change bill officer usually become project.\\nRemember program summer other. Right claim white prove do.', 23444.409538907334, 109972.18002972245, '2001-09-23'), (30, 'Mark Werner', 'timothymorgan@example.com', '19133 Wall Streets Apt. 618\\nEast James, PW 28604', '(440)455-7421', 'Anderson-Hardy', 'Democrat fish believe responsibility. Some else civil government. Certainly performance condition between voice less role.\\nOn not meet ask medical.  ... (201872 characters truncated) ... eader to tell hold road. Phone somebody middle important wife knowledge. Century some speak form single. Poor image white support media economy keep.', 49782.84930144885, 185480.9724681358, '2022-02-26'), (52, 'Roger Mckinney', 'carlsonphilip@example.net', 'PSC 9285, Box 1249\\nAPO AA 90998', '348.715.6869', 'Hall Inc', 'Born discussion visit charge language beat remain appear. Yard property mouth market management move world. Pretty state four near.\\nDespite audience ... (201832 characters truncated) ... Stuff since bag generation.\\nExpert bit situation talk window. Large nice watch also similar. Too successful themselves model project quite yourself.', 176214.74125970004, 145452.58400499463, '2012-03-30'), (57, 'Chelsea Gross', 'jacob39@example.net', '89007 Dawn Expressway\\nPort Jack, WY 67549', '001-725-813-0862x441', 'Campbell, Johnson and Odonnell', 'During seek situation right somebody could. Energy data about address from dinner push.\\nIndustry involve enough value building child foreign this. C ... (201737 characters truncated) ...  real race today ready picture.\\nSpeak tonight memory bad exactly. Government both detail million building well you. Know try happy age suggest feel.', 246277.23284705382, 280339.7409561147, '2005-10-15'), (70, 'Jennifer Hill', 'raymondsmith@example.net', '848 Kurt Haven\\nJenniferburgh, SC 60706', '6087081965', 'Perez Ltd', 'Push watch dinner matter shake. Wear reduce free use.\\nWish across on type. Beat teach available operation. Thank usually however although. Doctor ba ... (201784 characters truncated) ... verybody minute.\\nEvidence onto treatment loss camera. Produce management key law TV practice today clear. Before find everyone price because charge.', 13245.319599003604, 233648.5195226, '2003-08-08'), (37, 'Michael Mcbride', 'lyoung@example.com', '559 Laura Landing Suite 783\\nLake Nicholashaven, TN 59010', '821-371-1493x8935', 'White-Conner', 'Hear attorney top short small.\\nHappy dog expect difficult always their. Executive pretty it seek far run.\\nStuff become where since yourself list. B ... (201792 characters truncated) ... ook several important behind since. Whole article decide behind. Their only occur another.\\nThen help with population what eat. Yourself civil radio.', 121446.21462515961, 244015.0791387805, '2012-02-25'), (67, 'Michael Palmer', 'emily78@example.net', '395 Joseph Road Suite 280\\nPort Sylviahaven, GU 02327', '8014087956', 'Castaneda, Reeves and Walker', 'Order pass leader of make language alone. Total federal opportunity grow generation career agent.\\nTonight central television example pattern. Bill c ... (201839 characters truncated) ... be billion throw party. Six senior realize prepare. Accept among themselves democratic.\\nStart mission guess recognize. Medical by simple son record.', 241136.15953410484, 53727.15368578697, '1997-12-09'), (68, 'Kevin Brooks', 'stoutkari@example.com', '3579 Mikayla Bypass\\nHallfurt, WA 82734', '895-449-5318x7314', 'Green-Ruiz', 'Meet heart work position be window party. According dog prevent investment strong eye.\\nSocial wind understand important other political skill budget ... (201764 characters truncated) ... weight hold general from discuss boy. Girl popular politics pressure book large. Eat parent mind next whole market.\\nLater inside ready game through.', 52749.54201618984, 68857.68505382535, '2005-12-06'), (43, 'Christopher Jefferson', 'heather43@example.com', '65272 Courtney Keys\\nGregoryshire, CT 97146', '282-340-8534x94864', 'Golden and Sons', 'Effort court affect fly different. Sister line pull traditional goal reflect. Too purpose down central win in information.\\nWhom left most address un ... (201850 characters truncated) ... re value someone perhaps. Mrs decade religious human personal election rich.\\nCup born fear serve best. Exist play race team ball throw stuff theory.', 173089.1638379893, 35871.38594617625, '2002-06-29'), (25, 'Jamie Ray', 'ayang@example.org', '32588 Seth Vista\\nBenjaminshire, CT 67044', '646-255-9574x432', 'Kelley Inc', 'Behavior month hospital.\\nAccount view occur once edge rise large. Suggest reality lay structure reflect force if.\\nWhen social become green. South t ... (201740 characters truncated) ... n necessary. Send ready if. Either east finally tend head truth.\\nHere unit than each practice. Way letter through goal strong. Draw lose speak need.', 64594.46026583102, 208416.25390790647, '2018-04-12'), (61, 'Samuel Sullivan', 'hhobbs@example.org', '3408 Angela Ranch\\nNorth Kyle, AZ 06403', '299-418-0905x56321', 'Glenn PLC', 'Consumer hold defense figure seem voice dog. Avoid author no everyone institution chance red born. Anything second heart fly discover democratic simp ... (201841 characters truncated) ... oice born agent a.\\nFederal once check body want. Owner worry bit hand price wrong.\\nBuy baby stand radio. Win image indeed law. Front inside little.', 228509.78838902182, 103403.70059179196, '2014-12-30'), (59, 'Elizabeth Terrell', 'dsmith@example.org', '1654 Amanda Terrace Apt. 380\\nGabriellefurt, IL 42628', '754.365.9860x28375', 'Jordan-James', 'Least card simple shoulder. Not economy son spend result.\\nFly exactly southern indeed indicate word senior culture. Business build blood. Cold state ... (201769 characters truncated) ... pact. Choose director appear.\\nAlmost fill person mother return. A ball quickly between level teacher. Nearly lead left generation all choose beyond.', 195223.84331882803, 181459.38327695034, '2019-07-05'), (66, 'Debra Smith', 'john53@example.com', '562 Logan Village\\nWest Christopherstad, AZ 50787', '001-251-952-3262x2100', 'Durham and Sons', 'Start page hospital knowledge race.\\nSpring out notice machine me. Adult million standard seat site section.\\nSimple firm often price name really rig ... (201854 characters truncated) ...  by professional. Finally represent Congress wonder south shake.\\nStudy major card. Democratic hold traditional court. Ask theory company cell build.', 136172.40098483523, 59248.13364830913, '2017-06-16'), (52, 'Jennifer Johnson', 'michael10@example.net', '6553 Carr Brooks\\nMichaelmouth, OK 63770', '(471)266-8139x6667', 'James, Romero and Hernandez', 'Trouble treat enjoy go country. Guess wait whom. Idea rock fire ago challenge.\\nNature standard reach color. Season sound themselves attack right tra ... (201767 characters truncated) ... ing mission clear would.\\nSite control sit health seek she.\\nCentury table clear unit cell different ground. How yes successful note home huge issue.', 88542.3531309144, 46280.127433150396, '2005-06-18'), (47, 'Christopher Parks', 'johnsonmark@example.org', '298 Reyes Crossing Suite 858\\nNorth William, PW 64072', '838-399-0499x951', 'Edwards LLC', 'Safe head example reveal most ever activity. Rock grow song blood among.\\nHeart because team rise against along.\\nAbove social discuss hard on those  ... (201804 characters truncated) ... ous within treat.\\nRange certainly institution consumer share movement tonight. Check best vote term president bank citizen. Mother training whether.', 205625.55058021826, 184257.39937447474, '2014-06-11'), (63, 'Sharon Griffin', 'ebenitez@example.org', '298 Rebecca Causeway\\nNorth Colleenburgh, AK 02166', '001-856-566-6272', 'Ware, Shepherd and Boone', 'Answer opportunity up entire improve listen. Challenge wife visit including drug hand. Officer media fish.\\nCase trip southern. Technology maintain a ... (201803 characters truncated) ... y bag magazine. Course station describe finally recognize.\\nFeeling writer reach marriage focus. Civil audience herself such six. Call law able this.', 212278.74551367477, 214008.44263213215, '2006-09-13'), (50, 'Kenneth Stewart', 'belllisa@example.net', '64955 Mason Run\\nMichelleshire, SD 49710', '+1-205-498-8610x83525', 'Boone, Schwartz and Knapp', 'There suddenly question couple early audience professor lawyer. Reality save no. Phone relate grow size store example leg.\\nStop pressure impact seri ... (201782 characters truncated) ... e defense around should development issue. International among this well task.\\nMr inside major oil dog point effect third. Open financial situation.', 125537.08786864918, 159774.15803513915, '2016-08-19'), (70, 'Sarah Thomas', 'adam14@example.net', '34805 Regina Circles\\nPort Jennifer, CO 53325', '(960)953-6348x6930', 'Davis-Small', 'Part job matter. Perhaps large world stuff approach animal team. Majority be eight determine.\\nHead wide mouth although. Now base them last. Executiv ... (201831 characters truncated) ...  approach ask. Woman how seem.\\nSkill exist task now information. Forget natural wind president knowledge. Break those still sell during system long.', 144295.8539359106, 125545.31552722414, '1997-06-07'), (59, 'Shannon Henderson', 'mckenzie50@example.net', '891 Flores Streets Apt. 035\\nDawnberg, NH 96351', '+1-496-325-1677', 'Brown Group', 'Life teacher air decide who together. Right understand college dream check deal assume. Door act hot event himself. Before picture performance seat w ... (201815 characters truncated) ... ght show price serious if deep produce us. Big agreement keep south color same Mrs. Work check social too see near.\\nPull bed practice state receive.', 84297.13439476061, 165451.68974658623, '1996-05-22'), (29, 'Nicole Jackson', 'jennifermahoney@example.com', '4931 Brown Wells Suite 705\\nFranklinbury, AK 35817', '+1-286-480-4375', 'Adams-Hensley', 'Class eight along run job whole. Likely phone couple tonight crime kitchen. Bit common recognize nothing week read.\\nSingle certain inside ability th ... (201808 characters truncated) ... e ground. South less process ten purpose key. Part take institution high beautiful.\\nAnything per team. Industry see travel wear significant instead.', 219390.84244960445, 36137.274362500815, '1997-01-05'), (42, 'Ernest Pena', 'mitchellbrittany@example.org', 'USNV Johnson\\nFPO AA 96163', '793.796.6728x77746', 'Bennett LLC', 'Site skill large generation have whether once. Federal where professor develop. Plant coach about mother start air probably. Same politics record res ... (201821 characters truncated) ... ion very need mention south.\\nStock interview himself whole center knowledge. Understand call east attention. Fund body share forget among crime its.', 158045.5442186247, 129819.86134821177, '2008-01-01'), (33, 'William Clark', 'colevalerie@example.org', '6132 Stacey Shoals\\nDanielview, UT 30155', '001-628-619-9351x8688', 'Davis Group', 'White Mr company end available drug. Community race our character always collection tonight population. How relationship current drop fact over from. ... (201786 characters truncated) ... ce experience hear town still.\\nHer lot role school still. North write five although call miss. Star issue measure same however.\\nWait present today.', 177089.91837079564, 67996.50434416482, '1999-06-23'), (69, 'Christian Carson', 'waltermontoya@example.com', '883 Ramirez Parks Suite 317\\nHaleychester, NY 50237', '(484)909-4537', 'Moore-Dean', 'Also area east audience. State indicate report son manage each.\\nOrganization industry eat seem. Section day somebody rock far stuff network. Yoursel ... (201837 characters truncated) ... view enough street but population.\\nPolitical cultural level five. Eight argue leg during hundred. However security approach develop feeling involve.', 148036.50175180894, 287213.0463063755, '1995-11-17'), (69, 'Amber Anderson', 'bryan13@example.net', '41493 Chad Burgs Suite 179\\nLake Teresa, PR 72443', '+1-707-547-3521x8795', 'Collins-White', 'Along sell treat model interview exactly worker. Gas size short most job during cause true. Standard determine later usually new figure.\\nSure air pe ... (201735 characters truncated) ... lieve about. Young nature fact usually.\\nDog building student future prove defense. During left art good.\\nData person agreement various tree dinner.', 154541.1438045034, 81254.84425726804, '2019-12-14'), (68, 'Luis Welch', 'iharris@example.net', '2163 Cassandra Landing Suite 868\\nEast Brandon, KS 13502', '+1-864-719-5303x01243', 'Estes, Burton and Hopkins', 'Avoid page future realize cold you develop. Defense figure certainly low.\\nFish their drug do may new. Good laugh deal discuss free law. Total memory ... (201811 characters truncated) ... st north. Again movie theory particular compare.\\nAcross scene method seven thank note method. Part prove country only small house. Sense deal still.', 155073.74756812217, 130385.5585043218, '2018-11-28'), (26, 'Mrs. Natalie Nolan', 'sheliarose@example.org', '985 Baker Burg Suite 286\\nLake Jessica, MH 61695', '912.486.0968x94088', 'Reed Ltd', 'Management turn huge public when. Report himself mother. Congress ability painting every in.\\nDog artist develop public nothing trial good. View sens ... (201797 characters truncated) ... ics under soon before tough kind. Owner I story hospital.\\nWeight leg dream analysis across whole deep party. Drop student as reduce agency analysis.', 243857.3255888456, 80909.93215965695, '2005-07-11'), (33, 'Amanda Fischer DVM', 'andersontanya@example.net', '69492 Emma Coves Apt. 536\\nMitchellmouth, GU 84249', '842-999-3129x47804', 'Smith, Johnson and Stephenson', 'Between large help past term bank might. Behind job cause require head candidate record. Method citizen common assume assume expect.\\nMention propert ... (201833 characters truncated) ... ffect way find. Pm film add member. Generation however finish to risk try painting still.\\nMethod house where practice eight. Accept better teach us.', 94966.13235120152, 195565.03928312162, '2004-11-05'), (50, 'Jeremy Griffith', 'andersongloria@example.net', '64767 Jennifer Key\\nLowechester, SC 67345', '+1-780-581-7204x72480', 'Garza-Harris', 'Agree sound coach tell thought fish music appear. Defense state store.\\nImprove professional conference participant fly section because. Miss father  ... (201811 characters truncated) ... e however learn.\\nProperty quite accept main. Cut store down ready gas.\\nNever pull result include foreign candidate. Challenge get bad card kitchen.', 80412.19354258662, 255536.27045327326, '2007-02-09'), (52, 'Emily Anderson', 'adamcollins@example.org', '246 Zavala Passage\\nBethtown, WI 72533', '499-352-4654x92126', 'Hardy, English and Chapman', 'Reality authority make local. Want along style body attorney.\\nTelevision challenge resource these. Scientist morning effect yeah. Cold tree must wis ... (201795 characters truncated) ... our traditional measure attention administration seat interview.\\nPractice third method have food light fish. Number hair hair usually appear course.', 208350.57293137987, 181936.878264877, '2013-03-31'), (72, 'Brady Allen', 'jarias@example.org', '758 Baker Isle Apt. 350\\nAustinview, MP 05492', '001-635-228-3867x683', 'Herrera, Crawford and Hamilton', 'Close law face black seven country.\\nSubject decide world large along week rule. Voice act treat there pretty keep trial. Cause order prevent seven.\\ ... (201719 characters truncated) ... just figure travel recognize. Group mission them least.\\nBook either race her. Seem first even occur. Staff receive still while exactly husband make.', 154189.6100926828, 79372.80743384398, '1997-10-30'), (30, 'Jasmine Carr', 'patriciahamilton@example.com', '469 Cain Summit\\nWest Diana, IL 08781', '287-828-6699', 'Smith Inc', 'Age few western course join actually. Great per its door sort other factor. Require interesting maybe despite stay son.\\nTheir happen everybody you.\\ ... (201816 characters truncated) ... eak rich key know toward into. Baby various specific clearly business.\\nOfficial article which until member born range bed. Simple opportunity speak.', 169441.6532538271, 53105.30027702528, '1997-11-27'), (71, 'Justin Smith', 'josewebb@example.org', '601 Gilmore River Suite 954\\nSouth Christopher, MH 90341', '9369737348', 'Chambers, Dillon and Best', 'Think conference stay serious happy try answer. Small identify discussion family cultural officer rule. Painting garden compare bar.\\nThousand necess ... (201803 characters truncated) ... off why step art. Much yard movie really have.\\nSpecial civil everybody line up ever drive. Performance ever full only cold expect discussion impact.', 240732.44165457704, 193616.7764393389, '2016-05-20'), (49, 'Courtney Lee', 'timothy08@example.net', '65207 Curtis Place Apt. 995\\nSouth Michaelside, ME 11906', '765-255-4841x25292', 'Dixon-Gardner', 'Lose the apply environmental picture cup. Figure analysis paper father. Through quality few meet minute hold all everybody.\\nPainting surface model e ... (201730 characters truncated) ...  Mr never opportunity major break now attention.\\nExist suddenly site. Threat clearly fight some sister interesting. Apply remain east discuss break.', 116347.41875986959, 193965.64574055484, '2023-11-21'), (75, 'Morgan Lee', 'kristina53@example.com', '41336 William Garden Apt. 174\\nWest Christineberg, MT 66259', '(722)353-2499x22773', 'Frazier-Harvey', 'Similar deep case wrong evidence service memory Democrat. Before mention difference.\\nNotice girl large less everybody simple million. Third pay in y ... (201822 characters truncated) ...  hour.\\nLive painting contain despite recently wall stop. Well for PM hotel stuff kitchen bar manage. Almost write finally end accept direction rest.', 85468.87914739824, 124184.16576505185, '2001-11-01'), (31, 'Brad Taylor', 'phillipsrobert@example.net', '5834 Dennis Port Suite 663\\nMariahaven, VT 57580', '625-510-3029x673', 'Parsons Group', 'Must country interesting clear each.\\nHow sing already office drug political receive recently. Total agent hair stay.\\nSocial beyond crime music. Hea ... (201805 characters truncated) ... ion seven. Develop positive term. Health computer behind.\\nMemory use kitchen member. Have under drop manage. Husband man direction skin task affect.', 121654.7624742265, 263314.56525567797, '2012-07-30'), (41, 'Brian Lopez', 'christophervargas@example.com', '0913 Kevin Hills\\nPerezberg, NJ 32197', '001-447-452-0219', 'Johnson Inc', 'Provide city edge nothing. None fast environment door family. End night senior gun no performance return.\\nFall simple seek fly. Part film provide an ... (201863 characters truncated) ... mes professional him her theory.\\nShould population run. People challenge yes will blood. Majority heart doctor design sister. Case foreign building.', 184657.67899107843, 178644.30623791812, '2003-09-07'), (33, 'Suzanne Holmes', 'simmonsjohn@example.com', '518 Rangel Springs Apt. 576\\nSolisville, VA 92508', '001-597-608-0430x39275', 'Odonnell, Simon and Martinez', 'Thought probably inside. Such team who start boy.\\nEight commercial shoulder once be whole right. Foot ball half condition store. From sing south tho ... (201784 characters truncated) ... unit. Loss from half lot federal give. Turn nature month government.\\nQuickly ago key. Doctor move miss big these. Scientist thank blood environment.', 47415.67380580934, 296901.2158644587, '2018-08-18'), (32, 'Whitney Richardson', 'ariel52@example.com', '208 Russell Mountain\\nJenkinsfort, MT 05195', '229.916.7374', 'Harris-Hernandez', 'Between story process oil. Fight occur us win soldier. Minute since according next.\\nFight western short one human full school. Around Congress signi ... (201810 characters truncated) ... her anyone. Particular late citizen near skill. Think cause form within.\\nSummer notice clearly. Follow never responsibility think.\\nLaugh paper one.', 24356.70718367897, 58596.885107138885, '2004-08-17'), (24, 'Jason Brady', 'lmorris@example.net', '0434 Olson Route Apt. 969\\nWilliamsport, IN 13071', '(937)337-0507x9539', 'Castro-Cobb', 'Write wear community off suddenly subject both mouth. Him some person ability husband forward.\\nOperation set citizen could guy her. Goal important h ... (201838 characters truncated) ... arch off film identify arrive. Suddenly choice across. Why then after south less account.\\nLeast relate picture final worker ground. Western run out.', 36016.45233676025, 167659.71309407815, '2022-12-17'), (67, 'Nichole Salazar', 'horneamy@example.com', '93467 Steven Roads\\nPort Adrian, AS 06488', '(956)223-9591x6756', 'Mills-Allen', 'Up hit true special line. Indeed blue end actually hard. Service view its the likely western kid alone.\\nFollow meeting rest charge serve. Government ... (201857 characters truncated) ... utive economic born. Kid add oil face single control same.\\nSomething life out total pull treatment. Participant whether friend. Than reduce manager.', 139232.9704978803, 45317.02626493536, '1996-03-25'), (46, 'Latasha Avila', 'peterthompson@example.com', '23071 John Mission\\nEast Ariana, MS 58544', '765-817-7338', 'Edwards, Edwards and Powell', 'Lead suffer team gun well allow management. You single data structure tell these continue inside. Walk history case first walk thousand fall.\\nYeah m ... (201805 characters truncated) ... note star.\\nName assume own make. Religious feeling question front home appear.\\nMuch something half recognize. Into leg toward court my arrive with.', 22716.257653690343, 214185.6682940209, '2011-09-19'), (71, 'James Smith', 'williamvaldez@example.net', '922 Reed Ferry\\nAndrewberg, PA 03270', '001-526-541-7000x740', 'Bradshaw-Lowe', 'Vote low act around door push two affect.\\nStrong movement gas technology material hold suddenly vote. Relate single while require fly it dark. Allow ... (201746 characters truncated) ... party vote. Management maybe bad land power.\\nResource someone ability trouble mission through education. Room decide catch artist. Of pay black how.', 54592.54183706108, 270531.2162518671, '2024-03-01'), (52, 'John Hopkins', 'danielle77@example.com', '7835 Key Vista Suite 682\\nSellersberg, RI 41133', '(983)671-8625x741', 'Rivera-Kim', 'Tough usually next newspaper. Among of we draw.\\nDemocrat do scene yard street probably piece. Sign than city marriage. Also magazine major everythin ... (201757 characters truncated) ... nly modern west there affect if imagine behind.\\nWin shoulder civil your them. Suffer hospital really choice realize party. Challenge more whose bag.', 35613.97575235556, 219551.8875832703, '2021-01-01'), (28, 'Daniel Chen', 'jrojas@example.net', '9811 Garcia Forges Apt. 466\\nNew Robertton, UT 35869', '001-736-289-3583x65706', 'Mullen PLC', 'Writer bit idea one tend. Act technology concern spring call.\\nCare answer tough war thought. Tonight tax particular information. Without around miss ... (201797 characters truncated) ... occur size lose her myself effect. Writer economic research almost necessary.\\nIn wish home coach. Someone option fine computer soon affect sea less.', 165487.8844056076, 113526.38227586648, '2020-06-06'), (46, 'Tracy Martinez', 'kenneth44@example.com', '229 Lisa Gardens\\nLake Rachael, FL 48885', '907.307.5394', 'Bauer-Alvarez', 'Happen air believe note expert. Large care explain pressure wonder although matter. Argue commercial run unit hundred.\\nSister sort spring. Part catc ... (201825 characters truncated) ... g your. Land create recently image help anything keep.\\nIdentify weight group century. Lead challenge check. Example song usually exist enough movie.', 88678.55235402059, 192908.37881797148, '2015-04-20'), (67, 'Christy Boone', 'marcus48@example.net', '96808 William Oval\\nWilliamsborough, AL 61977', '001-859-986-4401x9758', 'Williams-Santana', 'Story sound heavy laugh shoulder. Too single whole have church car consumer.\\nSupport thought learn second memory word. Matter build difference somet ... (201852 characters truncated) ... \\nCharacter whole strong church. Actually family road miss difficult.\\nSecond civil game believe number recently road. Keep indeed hold none surface.', 32478.182872930734, 88179.5497729084, '2007-12-22'), (24, 'Danny Torres', 'michaelflores@example.com', '450 Michael Stravenue Suite 146\\nSmithburgh, MI 07518', '001-921-891-2130x055', 'Mcgee-Black', 'Treatment ten effort. Onto describe strategy maybe mother.\\nMrs forget development stand foot.\\nFor every own answer. Best simply state collection ev ... (201806 characters truncated) ... l prevent people visit standard receive.\\nReal pretty where evening. Create low member fall effort. Whose mention way student party water themselves.', 117556.20986564789, 273097.61869541794, '2015-11-02'), (75, 'Juan Smith', 'meagan58@example.net', '364 Ronnie Manors Apt. 545\\nHeatherstad, AS 17908', '471.358.1722x253', 'Scott, Neal and Allen', 'Future artist south tell history open.\\nSeat today situation hit. Government attorney painting stand. American never the born role size blue.\\nRequir ... (201791 characters truncated) ... any better PM head page everybody ever. From boy participant high fire avoid feeling.\\nExample should budget these price lead laugh. Painting on all.', 98645.54074272164, 249050.11440485474, '2009-01-19'), (65, 'Jenny Vincent', 'mario22@example.org', '22673 Jeffrey Harbors Apt. 758\\nWest Sarah, TX 29232', '(233)711-9851x8268', 'Evans LLC', 'Road same keep kind. Relate attack century over.\\nCould view include run prevent. Compare bank commercial management. Hundred development write decid ... (201838 characters truncated) ... ld measure.\\nWell class gun. Economy vote crime treat receive film. Offer impact director prevent safe. Institution season company tend beyond would.', 78653.85933021455, 196380.7540935391, '1998-06-11'), (38, 'Christopher Ponce', 'jennifersmith@example.org', '1632 Rebecca Views\\nNew Melissa, MT 28418', '914-207-5128x1945', 'Jones Inc', 'Responsibility second church wonder young evidence. Question sea current economic behind song.\\nBelieve technology much I and test choose. All him su ... (201861 characters truncated) ... on. Mother significant ability business top. Eat film eight Congress design.\\nCitizen member throw positive ask. Focus again any campaign study fine.', 22211.81917259302, 238620.28239671173, '2016-09-22'), (22, 'Angel Bates', 'robin26@example.org', '9263 Richardson Square Apt. 695\\nParkfort, NM 97283', '+1-535-255-4155', 'Ortiz, White and Gutierrez', 'Discuss which themselves wear item stay loss give.\\nOf animal student open military. Wonder during bed.\\nMilitary particular spend economic manage in ... (201851 characters truncated) ... tain travel spend.\\nWalk we positive people. Choice author officer inside certain commercial answer. Voice play set improve commercial only few seem.', 64151.29564121417, 124487.13056927703, '2023-02-16'), (33, 'Dennis Glenn', 'qrollins@example.org', '964 Valenzuela Summit Apt. 580\\nEast Arthur, FM 77877', '001-503-985-9637x077', 'Whitaker, Johnson and Hunter', 'Collection wait cell reduce early education. Rule speech alone hair.\\nAdult pattern bring know.\\nDebate commercial record field. Capital recognize se ... (201763 characters truncated) ... uite bit major.\\nRecently arm box professor get occur find. According spend base discussion.\\nHerself those money design anyone. Us leader same real.', 72256.58877133136, 85888.19218118316, '2012-04-02'), (49, 'William Hogan', 'larryrice@example.org', '283 Kathryn Island Suite 884\\nPort Robertmouth, NV 11237', '001-768-251-2856x245', 'Jones, Arnold and Kirby', 'Night can lead couple pay worry. Management treatment door think phone city.\\nHuge candidate western scientist behind matter animal. Picture lot war  ... (201746 characters truncated) ... e less perhaps hit. Accept adult camera answer though actually.\\nBuy tonight head. Factor put single. Order most ok someone majority authority money.', 212079.78104383458, 100793.13933106628, '2020-10-14'), (74, 'Brianna Rogers', 'kkhan@example.org', '988 Wilson Spring\\nEast Amanda, OK 73928', '499-435-0135', 'Stout, Miller and Lopez', 'Together like apply tax evidence rise. Relationship friend policy course tree strategy together. Deep from attack get quite share base.\\nPlan mean di ... (201794 characters truncated) ...  central hit drop everybody.\\nModel draw establish. Power detail fall education forward.\\nDirector color position. President manage case involve get.', 226786.2736677398, 244789.37604473924, '1994-11-04'), (33, 'Ricky Benjamin', 'krodriguez@example.net', '932 Anderson Roads\\nNew Michaelburgh, DE 94572', '833-463-8706', 'Barnes Group', 'Read most board carry. Trouble drop month know challenge drive. Person traditional blue individual face suffer finish.\\nLife talk industry office yea ... (201870 characters truncated) ... e fish send. Field rise weight say less.\\nWriter but father to. Something raise likely natural once loss energy. Minute these life research employee.', 217199.1012790616, 265531.6481708651, '2011-02-01'), (35, 'Billy Baker', 'andrewadkins@example.org', '04112 Ashlee Trail\\nRamirezside, WI 14702', '+1-309-330-2114x775', 'Hall, Cantu and Smith', 'Simply about industry note police character. Now no usually seem month.\\nRight development throughout cause door task. Against indicate control law i ... (201823 characters truncated) ... aff thousand crime. Together beyond clear development society south many. Just perform science put. Control maintain down window someone development.', 187239.56860887422, 258848.68937252255, '2020-01-10'), (35, 'Nicholas Mcpherson', 'sheila39@example.net', '602 Hernandez Station\\nLake Jonathanside, IA 18021', '001-725-521-9307x691', 'Brown, Wu and Davis', 'Girl minute son investment fact discussion individual. Information Mrs mission character article there recent.\\nLate service someone house Congress b ... (201816 characters truncated) ... un far.\\nEffect short attention lot parent prove.\\nBar ten stand activity people lawyer president cup. Nation run direction conference total believe.', 110625.81676643617, 63974.743300219816, '2018-11-25'), (73, 'Alicia Cordova', 'smithmichael@example.org', '2541 Kerri Highway\\nSouth Matthew, UT 25987', '7864231297', 'Mcclure-Daniel', 'Until few small. Major century station.\\nMonth political reality loss arrive consider population. System number service they international quickly av ... (201817 characters truncated) ... cial. Bed consumer region major hotel charge share.\\nFight plant suggest painting once. Family skill range go a. Campaign attorney who wear describe.', 211770.51616720305, 174593.53735062265, '2008-04-23'), (32, 'Mark Caldwell', 'rebecca83@example.net', '2539 James Union Suite 649\\nWest Paulfurt, ND 46781', '001-843-518-1120', 'Smith-Keith', 'Boy there or know. Page rather whether affect third interesting. Red interesting simply.\\nBig of catch south. Interest organization believe drug him  ... (201812 characters truncated) ... view season.\\nSometimes conference part every recent election feeling.\\nThem away more physical really. My against idea. Shake us fact TV heart main.', 201241.43808686314, 196483.83615832933, '2001-06-25'), (50, 'Jessica Arellano', 'stephenriddle@example.org', '411 William Viaduct\\nCampbellfurt, FL 25366', '+1-202-901-2308x60066', 'Patrick, Morris and Henderson', 'Try could price. Agent red home development daughter if process. Southern however catch building bag oil.\\nFoot city serve understand. Her machine th ... (201843 characters truncated) ... velop shake.\\nInvolve ball seat prevent charge common. Such watch woman. Local major lead husband wish pretty face. Money media war begin almost how.', 219840.22391573546, 148132.026395282, '2019-08-15'), (58, 'Brian Moore', 'baileysarah@example.com', '773 Hicks Vista\\nAndrewsmouth, GA 84824', '305.863.1208', 'Crane Group', 'Raise first network if word reveal. Throughout remain focus civil.\\nBecome claim first minute door foot join effort. Policy morning customer day. Sup ... (201813 characters truncated) ... similar describe. Into could information machine player.\\nModel politics much plant garden. Early worry feeling these suddenly cultural along assume.', 160754.37754416303, 142967.12781232427, '2010-07-16'), (67, 'Jessica Bell', 'jasonfuller@example.com', '59205 Vazquez Shoal\\nPiercefurt, WI 95975', '001-493-358-9621x6935', 'Castillo Inc', 'Employee example increase treat race. Guy would machine. Near PM until difficult authority.\\nAfter road all. Loss movement sister. Opportunity langua ... (201833 characters truncated) ... re great.\\nFloor husband purpose. Sing avoid his chair where including. Cut short old or war ahead control. Everyone what give performance fly scene.', 34035.57357090255, 254921.60038243906, '2000-03-27'), (22, 'Michael Coleman', 'ericksonjames@example.org', '3410 Sarah Camp\\nWest Michael, WV 61403', '001-931-217-2517', 'Owens, Medina and Buck', 'Green stuff minute fine grow understand partner. Last may deep somebody fall. Point stop see able American forward. Leader inside reality consider ex ... (201870 characters truncated) ... Floor home anything half. Past any purpose price movement.\\nJob police experience claim lay. People left character effort bag military send official.', 236066.12982332305, 200672.6792756516, '2006-05-09'), (69, 'Ryan Hall', 'jon95@example.org', 'USNS Campos\\nFPO AE 49934', '852.636.7385x387', 'Summers-Bender', 'Travel technology should consumer. Event hour chance design plan body air.\\nAgain might southern forward job ask social space. Common keep moment pro ... (201828 characters truncated) ... thing help foot person billion tonight water feeling. Prepare next former media air current administration. Answer protect fine drop reflect tend so.', 133381.19642063556, 67548.64286489329, '2007-05-21'), (43, 'Emily Freeman', 'rrandall@example.org', '6046 David Creek Suite 333\\nJodymouth, ID 18949', '759.600.2410', 'Kelly Ltd', 'Speech risk whether offer bill trip actually. Action generation fight the sound call budget.\\nSing car sound light democratic major plan. Camera whet ... (201785 characters truncated) ... hip operation American forget. Across finish someone small activity piece impact indicate. Race race behind recently responsibility member candidate.', 36733.18756494605, 81210.98379104883, '2004-04-04'), (54, 'Mr. William Bush', 'zroberson@example.org', '573 Noah Falls Suite 609\\nPort Rebecca, UT 37452', '(860)595-1825x85345', 'Lopez, Gonzalez and Callahan', 'Democrat world parent knowledge. Spend four four effect address.\\nArm cost situation star kid business. Company side laugh note.\\nBegin agency its wh ... (201827 characters truncated) ... Opportunity role six around age. Network cover president worry lot.\\nReach economic who. Over pretty particular work rest. Minute lead effect choose.', 158752.8505205023, 18764.798633391925, '2000-05-12'), (70, 'Brenda Reyes', 'collinsbilly@example.org', '309 Elizabeth Bridge\\nParktown, IL 50334', '480.223.2132x84856', 'Ferguson-Rodriguez', 'Training think evening. Machine star give until. Offer sense yard.\\nSeek what high cultural him leader.\\nDiscuss minute hear bag mean anything. Bad w ... (201756 characters truncated) ...  behind I newspaper. Box compare from mission bill color.\\nSix guess cultural power song. Seat main able worry business law arrive. Usually me paper.', 112578.03401680269, 214295.19518445505, '2020-08-25'), (22, 'William Sullivan', 'wongtabitha@example.org', '384 Louis Manors\\nHillmouth, ID 31423', '+1-747-437-6433', 'Garrison-Lloyd', 'Fast yet chance security sense. Five challenge recent medical example.\\nTogether on save single. Per east probably car visit.\\nMrs sister natural kit ... (201824 characters truncated) ... ently.\\nSubject life camera notice. Third imagine fine ready. Then scene less best public.\\nGrowth owner box. Record base try. Story fly low hundred.', 95610.9594296758, 125683.51780129746, '2013-07-03'), (58, 'Lindsay Summers', 'ashleybell@example.com', '2359 Thompson Cliffs\\nPhamburgh, SD 70122', '001-533-372-9329x219', 'Phillips, Hess and Weaver', 'View crime product avoid become for.\\nMedical grow another. Identify level least husband daughter cut.\\nInterview have training feel ball partner. Fa ... (201817 characters truncated) ... rt fast gun box money dream.\\nChange successful again performance. Bad back someone particularly whatever staff back. Whether including hotel middle.', 50980.678463301025, 89373.77676890281, '2020-09-16'), (55, 'Michael Moore', 'shawnlawson@example.org', '398 Paula Underpass Apt. 487\\nErikatown, NJ 69690', '+1-771-755-8385x283', 'Watson Ltd', 'Ability determine those partner. Decade foot line huge girl.\\nEarly explain me arrive game economic data. According news do happy.\\nOther yourself cr ... (201725 characters truncated) ... r executive. Job cut seven role positive inside.\\nInterest fear deep up bar. Risk mean theory question top. Heart sound couple own machine since one.', 137519.3832509779, 260969.6589562066, '2018-12-31'), (52, 'Karina Carroll', 'jasonstone@example.com', '689 Gregory Stravenue Apt. 767\\nThompsonchester, NC 79227', '001-341-977-2568x4520', 'Flores, Peterson and Short', 'Experience write reality news off treatment focus. Seven soon security PM well pass. Difference kind benefit large.\\nThey board even feel would reali ... (201820 characters truncated) ... ream who design world. Study season democratic point benefit visit. Example spring story.\\nNote million director moment.\\nMr example expert building.', 55133.00875996072, 237355.75391422928, '2012-01-21'), (38, 'Francis Smith', 'diazallen@example.net', 'USCGC Smith\\nFPO AA 95975', '001-211-420-6496x166', 'Morrison-Cox', 'Mind discuss explain natural indicate task training. Report role east lay.\\nOil foreign direction. Leg available fill enjoy result expert. Fish draw  ... (201714 characters truncated) ... ral reveal check say dinner notice think. Organization travel smile door during.\\nPeople care college apply. Ago onto sport offer his fast seven kid.', 103655.75383147164, 180912.6302261775, '2008-08-13'), (40, 'Brandon Garcia', 'lindsayunderwood@example.org', '98234 Debra Center\\nLiuside, VT 84965', '938.460.4755', 'Moyer PLC', 'Energy thank reason really always role fast. Agreement moment fish less most teacher catch.\\nGo game among beyond fact religious. Scientist take form ... (201763 characters truncated) ... ke talk recently second. Hour focus while voice woman hold stop.\\nSocial someone current. Tonight resource myself Mrs glass. Recent tree before ball.', 95079.8097819514, 225964.47144937053, '2015-12-08'), (70, 'Robin Williams', 'traci67@example.net', '36138 Brown Avenue Apt. 762\\nWest Michaelmouth, MI 08829', '839-907-8835x829', 'Fuentes-Barrera', 'Threat other mean we. Half lead baby which travel interest full. Summer who watch treat spend.\\nAgent network challenge our lot team some. For clearl ... (201792 characters truncated) ... rce image buy claim stop to should. General mission method happen we defense you. Pick sea similar realize across stage. Future choice billion issue.', 212047.28004112424, 277333.7589327599, '2012-08-06'), (74, 'Joseph Lyons', 'vanessacisneros@example.net', '292 Stephanie Ranch\\nNew Jessicabury, MA 99684', '001-627-933-2624x900', 'Mahoney-Bell', 'Care democratic many president nothing nearly school. Piece be score business.\\nStrategy gun ten travel debate help possible. Deep market break optio ... (201796 characters truncated) ... different final set cultural baby.\\nWish late consider sit allow travel hotel. Project note political see power wide. Activity political clear skill.', 88439.44887364049, 153937.05031742208, '2023-09-06'), (32, 'Leah Lindsey', 'steven80@example.net', '7940 Alex Dam Apt. 550\\nEast Michaelview, KY 64801', '001-602-519-6287x721', 'Hall-Ray', 'Ready sense rich speak. Little against card appear suffer get.\\nDoor bag him else authority spring way player. Consumer mother home wait miss run yea ... (201812 characters truncated) ... e anything computer remember. Across rock second sit.\\nStaff land partner from if sister standard rate. Mission role bit speak something condition a.', 25447.33531349329, 269259.8838245298, '2018-09-04'), (70, 'Michael Clayton', 'hinesrebecca@example.net', '1855 Perez Mission Apt. 495\\nWest Lancemouth, IL 36255', '(788)801-6034x509', 'Tapia PLC', 'Trade look reach entire Mrs common. Actually notice foreign provide market which get.\\nFine my art wide. Just win beautiful name point your differenc ... (201852 characters truncated) ... able term look now whatever speak. Describe remain religious radio upon.\\nEnd Republican chair develop brother away this. Establish check prove sing.', 241054.90681482537, 150422.36598564338, '2008-08-16'), (22, 'Kimberly Banks', 'tinahernandez@example.net', '58402 George Lodge Suite 689\\nNew Jonathan, WY 95837', '460-388-8050', 'Valenzuela PLC', 'Girl discover inside talk represent owner. Process chair statement alone learn. North well son test.\\nNow analysis hotel attorney beautiful increase  ... (201783 characters truncated) ...  rate room control.\\nLay member world economic owner everyone off even. Strategy responsibility statement develop and site. Everyone life there rock.', 60596.88131254009, 241670.92005289413, '2007-08-18'), (32, 'Samuel Hampton', 'umartin@example.org', '79596 Linda Mills Suite 689\\nJohnsonmouth, FM 55595', '(964)917-1162', 'Robertson-Smith', 'Rich thank who paper situation once leader day.\\nThem close help scene sure want. Unit argue religious thing job little rule.\\nAnother none recent re ... (201769 characters truncated) ... uestion prepare decide production. Ever picture research. Keep recently public raise visit often. Experience performance woman already so huge light.', 47874.44463394441, 57609.403521677064, '2004-12-09'), (48, 'Andrew Brown', 'khill@example.net', '7014 Christensen Gardens Apt. 666\\nWest Davidstad, IL 60844', '928-972-7847x486', 'Smith Inc', 'Professor use everyone reason pay these. Bit couple ball. Must north truth cover.\\nGoal yard professor find process scientist. Every Democrat suggest ... (201856 characters truncated) ... ikely gas if price source. Design let television method stock else.\\nCall art score either job hope. Church this break.\\nThe score pass finally give.', 153415.11452207985, 274155.0592464378, '1997-03-21'), (72, 'Wanda Scott', 'frederickeric@example.org', '5542 Brian Road\\nAllenfort, MP 25880', '712-294-0097x63843', 'Roberts, Keller and Aguilar', 'With grow heavy success stop. Final keep find center.\\nNear another two green couple. Sound finish again before wish manage person.\\nDetermine ever c ... (201839 characters truncated) ... ews area check raise air. Man yard war no center bad.\\nDespite individual such this find brother. Former contain record set. Value white church tend.', 155711.49877358976, 248928.95490227526, '2000-09-02'), (61, 'Dennis Owens', 'pbishop@example.net', '58601 Holly Key\\nBrownburgh, FL 77099', '001-224-841-1003x603', 'Hart-Reese', 'Office which soon least forward walk. Crime two certainly such. Direction a center. Allow could ready woman true fall dinner.\\nFigure in middle site. ... (201824 characters truncated) ... st must. Three dinner thing a room audience.\\nSound professor point ground himself according. Sister ago conference office PM. Agent determine human.', 11606.312996408895, 259092.14088092998, '2022-07-26'), (37, 'Elizabeth Lawson', 'porterstephanie@example.com', '406 Miller Mill\\nSouth Chrisshire, PA 89724', '+1-617-472-8207x91214', 'Romero, Dominguez and Rodriguez', 'Question so finish say. Almost maybe town decide. Room get high available his feel table ground.\\nFinish operation help avoid. Administration himself ... (201789 characters truncated) ... civil defense house. System two common large imagine clear.\\nChild character wind would blood role. Fill sport job also easy population crime effect.', 12439.093190410873, 233764.64227228967, '2006-06-14'), (26, 'Stephanie Peters', 'wrightrichard@example.com', '1963 Sandy Valley\\nKristiside, PR 34205', '+1-240-633-5798x5172', 'Diaz-Estrada', 'Discuss should popular president personal smile design. Future but trade include investment live.\\nSit sign onto wait. Let gun allow agent.\\nSound pr ... (201804 characters truncated) ... lf trip our thought plan including.\\nDevelop kitchen try people green approach. Even suffer bar various either. Along admit watch marriage board win.', 246739.0783045942, 119306.88762481327, '1999-11-05'), (73, 'Nancy Love', 'ihernandez@example.org', '963 Brittany Spur\\nSalinasmouth, AL 32299', '278.297.0295x517', 'Parrish Ltd', 'Property land own every memory western. Democrat television prevent allow read forward. Likely enough peace. Commercial culture blue management certa ... (201875 characters truncated) ... ce indeed.\\nMiss hotel much structure.\\nAct few Mrs throughout surface task. Argue method center why push. Argue rise itself little even put imagine.', 161885.34254252768, 261698.8320409093, '2005-07-19'), (71, 'Emma Burke', 'kennethrivera@example.org', '20614 Shane Islands Suite 976\\nBennettside, NV 11289', '001-669-940-2587', 'Gutierrez and Sons', 'Star operation themselves question character pay resource.\\nDevelop anything another year couple fish should. Else family represent two fall.\\nSeason ... (201866 characters truncated) ... ining especially black east plant dog. Blood on rate space article pay. Wish explain size by scene. Market part bad billion above both others speech.', 142286.64808463, 82621.82611095313, '2014-10-03'), (70, 'Donald Washington', 'michaelgarza@example.org', '624 Potts Crossing Apt. 982\\nStaffordburgh, AS 20120', '518-762-5447x9279', 'Watson Group', 'End program doctor send purpose talk could. Like ball pattern him perhaps science night yes.\\nGas red stock your argue listen light will. Letter old  ... (201846 characters truncated) ... y open worker. Soon hair amount expect.\\nChair it reason pick nothing student. Although similar smile deal join.\\nFar remember yourself perhaps seem.', 167494.8898446723, 31607.053514048228, '2019-10-29'), (32, 'Sheila Smith', 'sandra69@example.org', '8198 Tiffany Mall\\nNorth Lindaborough, IA 23052', '001-731-973-4095', 'Anderson PLC', 'Speech toward meet. Pass area create energy analysis indicate he would.\\nOff movie run water particular. Suffer return strategy machine.\\nUnderstand  ... (201837 characters truncated) ... nity wear PM.\\nTwo business bring president artist hear very. Crime when somebody popular see sit poor worker. Television see history interesting as.', 167005.64685785232, 150280.14433185203, '2017-03-17'), (46, 'Shirley Jackson', 'snelson@example.org', '3102 Wilson Ports\\nHarveybury, MD 07834', '(961)340-3851x98084', 'Michael, Miller and Bentley', 'Up network machine never. Whose budget Congress hear radio buy garden. I understand yet main raise today industry.\\nLong court a machine win company  ... (201732 characters truncated) ...  move nothing none type. Perform second over candidate all rock me. Take instead within.\\nInclude crime movie write. Seem media probably woman stuff.', 127612.55852658533, 67561.47669272481, '2010-04-10'), (66, 'Duane Bird', 'ekeller@example.org', '006 Brett Cliffs Suite 225\\nPort Donald, MD 78337', '+1-288-430-8050x45294', 'Moore-Crawford', 'Property fight entire their short others idea. Cell tend choice condition product national do.\\nMiddle performance establish. Hundred simple attack p ... (201811 characters truncated) ... hese guess. Prove I evening live investment.\\nFederal daughter word. Artist tax since TV pressure after. Some able brother film future reduce author.', 171447.01961443343, 266775.77105064096, '2015-03-04'), (66, 'Cameron Miller', 'guzmanmichael@example.com', '130 Webster Drive\\nBarbaraport, OH 13590', '(281)791-5726', 'Jordan-Sullivan', 'Wait everybody possible message. Tree mention own process write card film.\\nSouth north assume practice. Ok set star action beat war glass past. Nati ... (201748 characters truncated) ... vidual character hair church. Campaign send however business yourself hand argue.\\nPerhaps change performance. Water will ten feel doctor look would.', 220522.60100056347, 285935.73238433397, '1997-01-12'), (43, 'Jennifer King', 'debbiebell@example.net', '738 Hendrix Hollow\\nEast Thomashaven, OR 59120', '(545)848-6701x4214', 'Meyers, Harris and Jones', 'Represent language next worry something. Arm machine its answer usually join.\\nSpend war month environment should science. Improve idea visit materia ... (201757 characters truncated) ... r mention way outside girl especially end. History possible bad there.\\nSecond purpose card effort record. Head soon cup bad approach purpose relate.', 85242.83432879606, 238674.14949536606, '2021-12-02'), (57, 'Joe Simpson', 'annedavis@example.com', '34002 Cooper Ports Apt. 188\\nWest Donna, AR 53055', '375.508.7215', 'Mcdaniel-Walsh', 'Together heavy environmental base. Report simple first film beyond. Mind out have time.\\nOrder two always environment sign city. Old thought least ba ... (201846 characters truncated) ... hom miss upon. Art through involve meeting. Best song far entire.\\nBoth home hit personal model. Old west body consider. Leg little nice significant.', 227822.92973677503, 34372.02017390711, '2009-03-28'), (34, 'Mary Chandler', 'cgraham@example.com', '003 Joshua Plains Apt. 234\\nGomezmouth, MT 30691', '270-756-0557', 'Sanders-Jones', 'Great hundred series need with son. Student bill than gas leader mean response add. Until himself debate two table actually political. When test iden ... (201824 characters truncated) ... y sport green media reduce.\\nOperation company near stuff. Better inside cause drug important property. You student benefit agent new late including.', 43592.698632913416, 261912.52290421067, '2013-02-18'), (32, 'Mike Tyler', 'burkejoel@example.net', '4475 Hancock Lodge Suite 476\\nKington, MA 30632', '662-901-0177', 'Bentley Group', 'Business politics maintain artist nice big season generation. Support somebody hair.\\nHard kind area with. Him program between catch science look.\\nP ... (201765 characters truncated) ... re inside.\\nEvidence possible ok agency ago audience picture. Class name stage tough ball indeed suffer. Nice authority bank evening usually defense.', 36426.94241889224, 173922.14771945516, '2013-04-16'), (46, 'Jennifer Thompson', 'patelkaren@example.org', '25675 Cheyenne Shores Apt. 464\\nNorth Johnburgh, VA 19763', '001-746-301-8605x2586', 'Martinez-Ashley', 'Second contain stop ever. Investment heavy century mother.\\nIdentify through usually bad step. General hear old eye day. Far left former store.\\nHist ... (201821 characters truncated) ... de seat improve candidate long.\\nNor lose political situation. Especially identify me myself audience sure. Least low simply order during return any.', 139311.65165407938, 135595.56092250865, '2019-09-09'), (72, 'Lucas Johnson', 'brownjerry@example.net', '7976 Hernandez Haven\\nWest Leslie, MH 21712', '396-977-3158x281', 'Adams Ltd', 'Tax receive state individual. Mission cold key see cold. Loss development yard minute skin light their.\\nModel everything trade available crime. Behi ... (201846 characters truncated) ... t itself image.\\nImportant score say. Conference able collection open experience attorney.\\nAttorney manage inside throughout spend fall development.', 134375.7759765191, 256352.3100381195, '2017-03-25'), (30, 'Laura Riley', 'pwebb@example.net', '17771 Jacob Trail Suite 306\\nShortberg, AR 75341', '001-390-520-5695x0678', 'Contreras and Sons', 'Amount north necessary seven point relate. Follow when nor several must color let provide. Whom lay program between sing.\\nIt song sell success seat  ... (201801 characters truncated) ... Usually skin name table.\\nHimself painting process.\\nSimilar tough fast coach. Control event black find difficult. Former state soldier within night.', 35319.18474196961, 115874.77243962095, '2003-09-30'), (24, 'Shaun Marshall', 'stantonstephen@example.org', '06219 Baldwin Branch Apt. 593\\nSouth Sandraborough, WV 33310', '(209)313-2663x6166', 'Jones Inc', 'Weight yard imagine agreement conference. Past feel treat north on. Customer service policy war look can word.\\nFire hear activity amount voice good. ... (201760 characters truncated) ... cord particular pattern language. Forward for attack pretty national life. No read simply meet resource. Defense shoulder else no painting send much.', 187306.71312947042, 249398.39148644003, '2001-07-26'), (37, 'Mary Wallace', 'morriskenneth@example.org', '1818 Alexis Squares\\nNorth Johnmouth, TX 57510', '(633)240-0201', 'Becker and Sons', 'So major civil daughter total. Ago head position word.\\nCarry politics dream big perform. Open involve stage military few film. Official tonight impr ... (201856 characters truncated) ... rade force although program.\\nPresident try suggest agency. Rise expect house blood.\\nPretty one however those. Practice all she crime current treat.', 181386.08750145606, 90503.71139826208, '2008-01-14'), (50, 'Cory Barnes', 'harrisonmelody@example.net', '6082 Brown Loop Suite 014\\nRobertborough, VI 01024', '001-351-940-3916x272', 'Potts, Horn and Jones', 'Step they blood its understand. Offer a statement threat. Community beat rise tonight.\\nThird mind capital. Field building generation real enjoy rece ... (201863 characters truncated) ... kin sport. Rock although size.\\nNear me on beat American. Meet until food executive college computer. Provide whether look almost site eye game part.', 167819.0851971969, 201237.7374138793, '2002-02-10'), (73, 'Heather Hopkins', 'iblackburn@example.com', 'Unit 0233 Box 5367\\nDPO AE 78930', '001-349-621-5542x94647', 'Raymond, Wyatt and Washington', 'Family success enjoy result offer. Half two state who among around audience.\\nClaim sort treat gas day reality. Particular pass service.\\nAdd create  ... (201830 characters truncated) ... lity single girl expert language issue everything. Across same imagine white.\\nNecessary education oil require. Candidate particularly notice toward.', 151548.40119786948, 213125.61703835434, '2001-05-06'), (42, 'Jimmy Perez', 'nicholas25@example.org', '39719 Jones Parks\\nValerieborough, WY 05355', '691-335-8359x333', 'Gray Group', 'How program down across country although.\\nHusband kitchen real himself war growth according. Which mean third letter set accept. Congress probably l ... (201847 characters truncated) ...  him cup generation herself century cultural. Top glass save good reach. Rule girl once just sound soon.\\nStudent garden staff test nothing guy very.', 32511.860588677326, 251984.25130805033, '2020-12-29'), (61, 'William Romero', 'jennifer04@example.org', '260 Ortiz Circle\\nEast Alyssashire, IN 31527', '597-512-1652x19577', 'Sanchez and Sons', 'Seat fund ball store benefit future see later. Way throw least reason. Either sense building light.\\nCourse girl also should large Congress. Such met ... (201824 characters truncated) ... .\\nMarriage class at charge debate. One hundred ok together.\\nEvery place candidate whole pattern table prevent. Wear whether around simply man down.', 112047.83307929579, 161844.38004499677, '2006-07-06'), (53, 'Daniel Peterson', 'gary47@example.com', '937 Jackson Pike Apt. 540\\nKaneview, ND 56199', '319-860-2280', 'Galloway-Vargas', 'Oil arm memory line practice. Already none Mrs together outside chair film.\\nAround run church be parent at.\\nGas both town effect. Party simply with ... (201777 characters truncated) ... y class law. Enter open amount though in white.\\nWe attack where owner quite message for community. Conference door city result civil project doctor.', 138027.9338784822, 293218.0765231979, '2002-05-20'), (23, 'Nathan Byrd', 'alexander62@example.com', '543 Stacie Stream Suite 683\\nWest Jessica, MD 66706', '315.775.2849', 'Russell-Mckenzie', 'Heavy take growth way. Fall sing operation.\\nSmall hotel civil community try. Mrs run through once significant society until purpose.\\nHard see week  ... (201714 characters truncated) ...  eye. Actually Congress reason. Mr book sell charge indeed side organization.\\nReturn require question. Official meeting option science American not.', 182121.91227592446, 198941.65958432463, '2013-06-21'), (68, 'Robert Charles', 'coxlarry@example.net', '8624 Frazier Expressway\\nPort Jennifer, MP 28801', '4997246268', 'Jones Inc', 'Teacher want simple fund. Security traditional drop month law us idea. Southern yet question follow media. Do daughter learn heart.\\nPrice themselves ... (201714 characters truncated) ... ible radio hear stock.\\nConsumer pressure while agency right perhaps name. Religious possible require kid magazine dark else. Drop rest become trial.', 81872.42082860223, 240652.72366940946, '1998-02-14'), (25, 'Robert Higgins', 'tsullivan@example.org', '0922 Smith Roads Suite 401\\nJennifermouth, AK 79434', '507.948.7570x5742', 'Powell Inc', 'Number project second wife recent capital unit. Wait production cause.\\nCulture traditional black suggest three see. Response range air although ten  ... (201811 characters truncated) ... reat toward.\\nMouth particular minute treatment economic never. Store doctor imagine radio myself fast not data. Maybe month company win nothing her.', 129742.50614832994, 70937.7706101748, '2021-10-12'), (50, 'Mary Torres', 'michael26@example.net', '51112 Robert Turnpike Apt. 733\\nAmberborough, CT 62267', '(226)639-9775x348', 'Hays-Harris', 'Large PM a writer husband different range. End miss discussion hotel rise enter. Class safe stuff game beyond likely degree. Much fill live would.\\nR ... (201830 characters truncated) ... weight benefit.\\nBack government study bed report race. Movement against among both after herself city. Card significant enjoy miss ask particularly.', 222700.20617536, 251442.6969100479, '2015-07-10'), (53, 'Mrs. Kimberly Mccarthy', 'scotthicks@example.org', '3183 Julia Port Suite 257\\nNorth Catherine, PR 67026', '(557)378-7362x7302', 'Stephenson-Padilla', 'Trial least something body skin answer firm. Rather commercial trial a clear team best. Woman military suffer read.\\nThis lose minute kid character.  ... (201753 characters truncated) ... h however. Window tell above something into.\\nPull important animal concern chair blood grow if. Field several sign down. Deal on job approach treat.', 206367.35561649178, 34608.91679723111, '2016-11-25'), (34, 'Adam Davis', 'woodardwillie@example.com', 'PSC 4772, Box 7939\\nAPO AP 12805', '241.913.4719', 'Mclean LLC', 'Note operation research law spring organization. Second fire south budget process will assume.\\nImprove true look common end cause human well. Man co ... (201818 characters truncated) ... s piece prevent ask decade position. Same scientist social grow mean.\\nSay direction couple final front arrive describe. Dinner daughter maybe among.', 235586.88005910412, 207620.322628672, '2013-12-03'), (73, 'Melissa Wilson', 'hansontodd@example.com', 'USCGC Johnson\\nFPO AA 06303', '+1-738-530-5747x923', 'Gentry, Williams and Robbins', 'Industry bank group fire either quickly. Eye but any left quality.\\nIt value half instead open. Threat east lawyer five administration. Child then us ... (201842 characters truncated) ... thing make head sort. When draw spend put drop get write all. Staff unit school order administration find top listen.\\nThree effort get through cell.', 67265.75785833522, 247061.0679428533, '2017-12-19'), (67, 'Jimmy Smith', 'powersmichael@example.org', '24435 Torres Forge Suite 902\\nEast Johnland, VI 64086', '(886)806-9902', 'Gordon and Sons', 'Few discussion itself sort home.\\nJob threat person TV about everyone mind. Huge yeah nothing market manager good economy. Strong bill have focus ope ... (201835 characters truncated) ... h and.\\nLow federal around left Mr. Husband enter work dinner almost.\\nTeam newspaper blood enough stuff. Subject everything mission whole have take.', 77852.01064468299, 287561.83761848306, '2021-08-03'), (58, 'Anthony West', 'nelsonandrew@example.com', '1387 Guerrero Circle\\nNew Jessicatown, AK 05981', '(363)932-0263x150', 'Stevens, Reyes and Swanson', 'Six final he strong development sport quite. Consider policy win store worker respond seven.\\nNext road available expert still bring. Light part plan ... (201808 characters truncated) ... fall foreign understand. Good public Congress various member hard.\\nRecord training type memory may bit program. Individual involve really wide idea.', 99904.67014069844, 185766.4114580201, '2014-10-16'), (28, 'Yvonne Thomas', 'millerstephen@example.com', '381 Hoover Pike\\nEast Dennisview, MD 05838', '9534744782', 'Haynes-Tran', 'Move current performance that produce parent. Himself nice grow include. Fast support key then. Tend four society resource expect value character.\\nF ... (201727 characters truncated) ...  war. So attention team factor performance stock success.\\nParticular same behavior then may item education.\\nPretty present agreement majority much.', 115426.10384403776, 65266.00634556382, '2005-08-10'), (37, 'Nicole Wong', 'wilsonbrandi@example.net', '1201 Mckenzie Rapids\\nNorth Tracymouth, PA 51111', '859-674-8879x031', 'Vance, Pineda and Gonzales', 'Floor attention economic office poor citizen indeed. Side institution two page minute project role interest.\\nNeed other month health part walk. Clai ... (201802 characters truncated) ... event peace season family.\\nSpring perform city long. Politics why laugh growth.\\nLet total price expert spend. Call since hit democratic house blue.', 162377.36484123868, 155924.85888906804, '1999-05-24'), (40, 'Felicia Anthony', 'timothy37@example.com', '8122 Powell Grove\\nDouglasland, RI 07146', '+1-916-411-0255x79737', 'Larson-Johnson', 'Election control situation daughter role. Model interview wall sure job teacher.\\nProgram security civil song might guess. Kind room move talk.\\nRetu ... (201817 characters truncated) ... st. Bill free financial.\\nShow report book approach drive into class.\\nBase bit wind look serve. Responsibility front else central. Bed hit in check.', 44613.26930671323, 145368.82447219643, '2020-02-28'), (36, 'Matthew Evans', 'youngpamela@example.org', '08259 Conrad Grove\\nPort Tracychester, MP 52838', '+1-339-824-4627', 'Roberts, Jacobs and Palmer', 'News carry skin catch class. Later hard instead a religious her with.\\nBy those alone million. Choose window public.\\nRisk sometimes whole up nothing ... (201802 characters truncated) ...  protect thing finish reveal.\\nLose type movie. Expect thus election future full take admit news. Hear scientist woman act team scene century summer.', 232376.9452938127, 274601.8716455205, '2007-11-20'), (51, 'Eric Salinas', 'john17@example.com', '158 Reyes Coves\\nPort Mistyburgh, UT 84127', '507-301-6030x151', 'Rogers Group', 'Mr season serious. So establish almost all.\\nYour away professor on talk south. World real employee left turn daughter win individual. Popular dark i ... (201804 characters truncated) ... s ago north teacher. Exactly apply where guess game poor soon.\\nPm standard already three building. Risk point remain record open kitchen successful.', 41278.178950143905, 67183.03727410815, '2002-09-23'), (63, 'Courtney Garcia', 'kathleenscott@example.net', '36518 Barbara Parkway Apt. 156\\nJosefurt, NE 26490', '393-756-3793', 'Duffy, Silva and Chaney', 'Eight together much newspaper direction partner hair. Behind much draw yet mind lose consider note. Final improve ball.\\nBeautiful thus thus fly. Lif ... (201808 characters truncated) ... joy final pressure address something phone those. Argue determine simple once word stock.\\nRecognize shake wonder huge election. Red choice each big.', 53866.414710644414, 229453.86101588202, '2024-03-27'), (75, 'Dorothy Hayes', 'scott40@example.com', '710 Christopher Lodge\\nCummingston, CA 52389', '936.698.8177x16343', 'Sheppard Group', 'Wish serious role summer movement some their. Keep fill investment computer. Middle accept price benefit.\\nCollege crime reach truth. South eight sis ... (201806 characters truncated) ... because difficult million. Second history responsibility cut sit power. Current scientist goal institution. Budget leg everyone subject image matter.', 83027.07287180494, 236513.40427466974, '2007-07-15'), (62, 'George Sanchez', 'dpineda@example.org', '230 Tim Harbors\\nPort Austin, VI 51630', '(887)792-3987x98377', 'Holt-Suarez', 'When everything fill paper church. Structure fill paper raise call treat factor member. Visit their experience computer medical for.\\nDo yeah expert  ... (201844 characters truncated) ...  concern event president for star. Top involve five Republican.\\nHis idea every them cause gas help. Theory something tax which none although writer.', 92327.41931242506, 294595.662753481, '1998-03-19'), (34, 'Scott Porter', 'rcox@example.com', '5561 William Trafficway\\nNew Isabel, RI 38848', '+1-284-866-8362x877', 'Castro-Mills', 'Produce light move amount.\\nIdea magazine over hotel. Direction painting color her ten.\\nCommercial threat support direction indicate bank gun. Cell  ... (201817 characters truncated) ... an. Down economy not star give inside skill. On daughter child rule in.\\nCreate toward determine man down. Fast choose education sport short someone.', 157900.27276313605, 228490.22715678107, '2013-12-02'), (45, 'Charles Schmidt', 'rachaelparker@example.com', '0614 Johnson Ferry Suite 540\\nWest Rebeccamouth, CO 37809', '(330)481-2832x3905', 'Beck, Hutchinson and Robinson', 'Day simple while able myself car test. Gun career receive throughout use civil member.\\nFinally conference red value trip.\\nHe tell why. Music glass  ... (201857 characters truncated) ... inish hand store.\\nLittle management we bring. Knowledge like box message.\\nPast success prove. Test may low economic oil our.\\nGet task type if not.', 249588.10942526802, 82443.60185219579, '2024-04-30'), (54, 'Laura Molina', 'weaveramber@example.net', '855 Daniel Pike Suite 634\\nNorth Craigfurt, NV 17474', '001-506-845-3195x19280', 'Williams, Gomez and Lawson', 'Happen everything mouth raise mean act happy. Operation loss prevent collection sound trade.\\nDevelop either test executive experience. Hope simply p ... (201788 characters truncated) ... before.\\nCar company story. Argue contain real range.\\nSerious above south thus card. Probably phone film interest moment. Everyone local yet suffer.', 18357.401765191164, 206202.19529408525, '2015-09-06'), (31, 'Harry Nolan', 'rklein@example.com', '77349 Cameron View\\nNew Jessicaland, RI 85706', '366-992-6326x54595', 'Smith, Richardson and Burton', 'Make blood realize. Early right scientist least like production participant. Including especially build public yet nothing hospital.\\nChoose presiden ... (201742 characters truncated) ... uickly executive. Who expect drive star dream mind behind.\\nTreat hope under stand find name physical. And give plan leave. Behavior break true easy.', 190674.7217251417, 251280.12824290825, '2008-09-12'), (54, 'Heather Brady', 'ybond@example.org', '873 Parker Island Apt. 112\\nRaymondshire, OH 41668', '764.265.5112', 'Lindsey Ltd', 'If fire especially race. Yard little indicate door around worry employee. Expert wear degree respond technology around.\\nTreatment sign garden direct ... (201828 characters truncated) ... ight see. Listen herself hard seven these no. Nearly hope full lay.\\nPresent pressure buy avoid high three candidate. Which particular time list but.', 206043.3617963099, 290402.85782872356, '2014-08-14'), (39, 'Jordan Crosby', 'brendaowens@example.org', '468 Melissa Isle Suite 977\\nNew Megan, AL 73547', '3256133785', 'Edwards LLC', 'Interesting leader develop listen trial street account development. She bit strategy. Quite run choose institution word example.\\nColor yes along eve ... (201840 characters truncated) ... story.\\nThen concern often focus soon seem month let. Approach special practice increase early model whether including. Baby particular wife without.', 216274.44161057728, 132973.06308775212, '2008-05-28'), (56, 'Susan Burns', 'singhjames@example.org', '8541 Brian Springs Suite 778\\nGrantton, CA 35880', '+1-765-711-2576x7573', 'Duncan-Hale', 'Energy social east doctor rule. Matter between agreement local parent. Soon bank field peace total over.\\nTrouble wife everybody respond too concern. ... (201804 characters truncated) ...  two hot professor always Democrat.\\nLong among senior election. Wait wall watch back baby great air. System management break although film kid they.', 74889.66242184231, 27927.23994640743, '2009-07-02'), (47, 'Jennifer Sanchez', 'kelleyrichard@example.org', '5604 Ross Haven Suite 040\\nLanghaven, IL 11572', '001-625-784-3760', 'Harvey LLC', 'Dinner when hold share study. House step responsibility I save pick. Determine space growth sea avoid say.\\nSafe financial certainly someone. Doctor  ... (201811 characters truncated) ... ern.\\nThan picture weight party toward. Property hold then describe conference special conference. Appear property us party. Mission high sea around.', 40836.03448700796, 255971.94946413307, '2002-10-02'), (36, 'Olivia Ward', 'jorgemooney@example.net', '749 Lisa Flats\\nSouth Anthonyton, UT 41087', '667.800.2300x3726', 'Hudson-Bailey', 'Yes this board might test cover company accept. Indeed range author. Truth than instead how child seek fall.\\nFish line class difficult director agen ... (201815 characters truncated) ... low almost this choose. Throw perform today view view character.\\nSuch card worry property. During rock position. Skin quality home great collection.', 25956.456478079388, 297633.9554600905, '2018-12-27'), (23, 'Zachary Obrien', 'lambbrian@example.org', '0646 Mcbride Corners Suite 427\\nNew Joseph, TN 36651', '+1-891-431-6686', 'Newton-Ward', 'Artist area or section also black central. Class political term loss.\\nMan step beat prepare exist history radio. Game few hospital many until up too ... (201856 characters truncated) ... l social feeling. Future newspaper bank artist side wish another miss.\\nAuthor opportunity support source want item address unit. Finally then group.', 234080.10539800147, 70845.11122365273, '1997-08-22'), (71, 'David Thomas', 'tperez@example.com', '723 Barry Avenue Apt. 866\\nAmandachester, VA 48627', '001-386-359-4910x673', 'Walker-Gutierrez', 'Wide produce one bank strategy your partner to. Behavior daughter ground direction you. Civil window market mission. Idea woman scene remember.\\nNati ... (201729 characters truncated) ... re get society government parent.\\nRate sort career exactly grow difficult majority. With Democrat his technology across dark per. Bill be education.', 101191.58126794244, 192294.44697714096, '1999-11-02'), (48, 'Cheyenne Rowland', 'hernandezann@example.com', '27075 Parker Lights\\nPerryton, VT 90634', '727.860.8533', 'Newton, James and Hayden', 'Rest among night.\\nStrategy upon bill power. Dark investment stay agent feel best final new. Enter financial continue another bed.\\nForce you price p ... (201777 characters truncated) ...  Early quality example list partner call.\\nLast deal leg message. One key his read reach pick. Program interest look finally central cup environment.', 104450.91417128718, 239050.82067952442, '2000-09-06'), (35, 'Ryan Brooks', 'jonathan02@example.net', '614 Andrea Lights Apt. 225\\nLake Samanthaland, FM 39483', '938.674.0682', 'Williams, Marshall and Lindsey', 'My the recent old. Manager because task expect. Generation only truth manage risk spring news. Congress time mind any paper vote house campaign.\\nOn  ... (201787 characters truncated) ... ntire customer evidence. Break never could wide these.\\nNor start some activity country safe allow. Upon morning forward fight ball kid defense book.', 36150.60421841638, 40651.69276443483, '2007-06-20'), (21, 'Joan Gregory', 'mark11@example.com', '8707 Kayla Manor Suite 395\\nEast Oliviamouth, AL 28546', '+1-258-440-8738x657', 'Lawrence Group', 'Skill campaign figure. Nothing approach fight every. Bed look lead suffer ready sometimes military. Food child sign few.\\nMore entire best yourself a ... (201757 characters truncated) ... drive computer ball.\\nAt old without stock since.\\nDirection economy tax friend beyond surface month. Medical north four receive. How easy rather no.', 246506.08199809116, 140719.39037106663, '2020-02-13'), (35, 'Rachel Barrett', 'vbrown@example.net', 'USCGC Jordan\\nFPO AE 81526', '477-288-8225x6757', 'Reed LLC', 'Performance occur meet trade worker wide discuss lawyer.\\nWater entire nation experience body. Official meeting mother strategy.\\nLand director whate ... (201813 characters truncated) ... ind without.\\nSport most just something may establish soon turn. Save late weight keep relationship rise. Wish baby thought continue article explain.', 172963.85929774572, 169827.00414280817, '2004-03-16'), (74, 'Alexis Cameron', 'vasquezmartin@example.org', '67882 Taylor Road\\nMoorehaven, WI 97683', '(343)587-3342', 'Perkins, Gates and Thompson', 'Side air old event first week. Sister through itself behind.\\nAmount central last spend. First management send sound blood our. Free politics own TV  ... (201845 characters truncated) ... publican responsibility. Until represent project institution paper particularly size present.\\nAmount traditional center. Wait control body price in.', 140433.82898780628, 52442.003078976326, '1996-01-01'), (23, 'Kevin Barton', 'ymartinez@example.com', '023 Joe Villages Apt. 849\\nHillfurt, PA 15258', '570-250-4862x79663', 'Houston-King', 'Leader yes keep because fine.\\nPoint impact country apply reality. Experience mind in nature success pressure. Yourself bag theory cover.\\nOut dinner ... (201774 characters truncated) ... tty.\\nDog commercial catch may say similar performance speech.\\nOver strong law notice kind. Scientist determine institution. American audience just.', 107713.01661146323, 209286.5061845988, '2003-02-22'), (61, 'Timothy Clarke', 'luke48@example.org', '5015 Jacob Tunnel Suite 603\\nStevenmouth, KY 71223', '4489234027', 'Snyder, Delacruz and Williams', 'Young west accept fine single. Outside language above close worry.\\nChange finally green true beat blood gun owner. Note material article hit.\\nCause ... (201808 characters truncated) ... look political look. Make interesting night. Maybe make education involve economic everybody art manager. Least human need any process little choice.', 40415.04699657349, 95754.83113455263, '2007-03-11'), (42, 'Linda Thompson', 'vgray@example.net', '90198 Blake Row\\nEthanstad, MT 44723', '648.543.0967x316', 'Levy, Beasley and Torres', 'Sense may alone artist those billion executive. Stop model look yet behavior employee.\\nProduce because only hard night will. Matter east laugh servi ... (201833 characters truncated) ... dard respond size left military. Radio walk fund check.\\nProject challenge spend appear visit size suddenly I. Receive food parent break admit thank.', 200957.76201056503, 96434.19158478141, '1998-04-13'), (60, 'Alexis Williams', 'georgecarol@example.net', 'Unit 4391 Box 7712\\nDPO AA 88696', '+1-385-456-5340', 'Miranda Group', 'Strong ago visit some imagine which this. Half near build knowledge wonder audience else. Anything turn hard.\\nArgue enough executive such marriage u ... (201759 characters truncated) ... r.\\nI poor anything model get leave church black. Opportunity remain doctor charge responsibility. Place human music consumer. Industry who language.', 132967.01721434935, 100307.10562477003, '1999-11-16'), (52, 'Doris Cortez', 'michaelpugh@example.org', '84652 Christopher Meadow Suite 799\\nEast Andrestad, MO 07758', '+1-391-329-6124x179', 'Richardson, Thomas and Hernandez', 'Change western quite.\\nRepublican upon actually happen under group. Hotel accept service tonight road skill senior stuff.\\nAbout floor world marriage ... (201829 characters truncated) ... ditional. Position court free.\\nAway bad clear born role education happy. Mean real hit score investment. Company lead get movement tree figure free.', 63327.34471237156, 66415.38945011116, '1997-02-06'), (64, 'Robert Jones', 'adamfuentes@example.com', '471 Paul Spur Suite 191\\nNorth Hunter, FM 91560', '+1-264-830-4791x003', 'Avila, Fletcher and Herman', 'Final down report risk tonight seven north. Kitchen purpose almost design area or. Material care control.\\nSummer short beyond. Gun class partner sch ... (201806 characters truncated) ...  now. Out television individual fall strategy pay move.\\nGroup by they. Their require include sport. Particular score time. Point meet who bring him.', 73106.65215384756, 109308.8838932877, '1996-05-31'), (56, 'Susan Clark', 'moralesjulia@example.com', '3738 Krista Dale\\nLake Georgeville, VI 62175', '001-847-722-9170x88034', 'Weaver Inc', 'Teacher like here child. Exactly close draw into throughout any. Development wrong discussion reason ten must natural body.\\nStyle close miss bag lat ... (201813 characters truncated) ... et some my western.\\nThemselves letter game environmental almost south. Knowledge career perhaps catch material. Mean tonight employee several allow.', 141921.89194485237, 295072.7218799631, '2003-02-05'), (50, 'Cassandra Jenkins', 'wfoster@example.org', '10041 Gina Loop\\nHarringtonborough, MD 59028', '406-310-6895', 'Floyd-James', 'Difference prevent arrive reduce forward. Course poor learn weight nation available today. Event history treatment.\\nDecade wife own claim eat. Teach ... (201840 characters truncated) ... ss. May rock huge.\\nHuge teach live help keep develop media modern. Sell local ahead music treatment purpose type hotel.\\nForget memory she continue.', 151751.60359169586, 271265.09961120394, '2016-01-05'), (25, 'Heather Jones', 'kristin51@example.net', '2986 Suarez Orchard\\nCarolshire, HI 26462', '(757)236-3313x30631', 'Phelps, Wilkins and Jennings', 'Wrong act teach some. Carry yeah sing letter challenge believe.\\nMaintain remain learn nation film. Staff behind staff main see various.\\nSpeech cons ... (201857 characters truncated) ... ker movie place method. Statement tough big stand still outside employee.\\nUp smile new seek few. Crime concern consumer organization answer purpose.', 236362.80965084452, 49897.58309719732, '2023-01-07'), (69, 'Angela Knight', 'blake23@example.org', '3635 Eric Ranch\\nEast Evantown, ID 80152', '(306)837-3166x84565', 'Pierce, Jackson and Martin', 'Professor yourself term sea wonder politics six stay. Discover matter girl voice century evidence not. Quickly purpose line free goal place.\\nSix off ... (201759 characters truncated) ... ystem. Mission culture baby short thing dinner.\\nWe couple job old food. Less test water author form sense hit region. Thing rise manage plan career.', 65490.7018098735, 49241.13535505325, '2022-04-07'), (60, 'Catherine Johnson', 'robert01@example.com', 'USCGC Gamble\\nFPO AE 60118', '461-288-9443x70249', 'Christensen-Coleman', 'President fight kitchen evidence full model agree. Air write natural loss there these. Home color vote finally include.\\nEmployee nearly include sout ... (201857 characters truncated) ... Mrs by do change. Staff order rather best.\\nAgree difficult message play purpose. Girl watch civil peace picture. Great cover stand positive century.', 192277.4841716735, 58219.169992774885, '2021-06-20'), (64, 'Scott Page', 'stephanienicholson@example.org', '776 Deborah Ridge\\nEast Madisonbury, NM 53660', '+1-420-432-3728x0900', 'Hamilton-Taylor', 'State specific fund room blue though protect. Arrive training past we. Pressure interesting some party fast stuff agent.\\nGeneral television face con ... (201764 characters truncated) ...  dog check live can central crime. Account rise meeting. Home ready affect billion eye student amount.\\nAlways quickly top and. They think fine wish.', 139871.13770343407, 127123.94783975677, '1996-02-14'), (29, 'David Perry', 'kristy20@example.org', '736 Nathan Dale Apt. 333\\nChristopherville, TN 63080', '+1-438-539-4420', 'Mendez, Garcia and Eaton', 'Model draw kind. Mean floor guy commercial theory letter everybody.\\nSingle your community task wind station matter. After mean station letter.\\nAuth ... (201816 characters truncated) ... est meet food down move wife author. Never whom evening.\\nIdea official road book. Society truth bar. Really people others better adult shake simple.', 55872.231242262365, 284424.91950809356, '2002-03-04'), (31, 'Marissa Harris', 'hherring@example.org', '700 Louis Walk Apt. 268\\nJennifermouth, VA 48911', '594.614.8216', 'Brooks-Robinson', 'School left gun building cell officer world. Source commercial develop work treatment security.\\nWall dinner manage.\\nPer none worry picture. Crime s ... (201802 characters truncated) ... eeling. Interest stage spend sound.\\nTable team treat impact vote leg fire back. Soon cold alone. Attack physical because various on dog while house.', 25663.80677016289, 18535.509856617988, '2016-08-29'), (44, 'David Cooper', 'millermatthew@example.com', '297 Burns Island\\nEast Lance, KS 87364', '416.791.1769', 'Mcdonald Ltd', 'Tax serve from term day clear cold. Grow technology key small. Clear security quality important shake include one. Its day think upon end response.\\n ... (201825 characters truncated) ... evision I fly cold thousand opportunity bar thousand. Town other conference group more effort.\\nData clear finally couple. Return glass decade agent.', 102266.09572285772, 48849.052273551504, '2020-08-01'), (42, 'Lauren Rodriguez', 'joseph30@example.com', '372 Kylie Tunnel Suite 002\\nNorth Selenaview, KY 46116', '(339)435-2826x9008', 'Christian-Graham', 'Great on half food take production clearly recent. May listen without science.\\nExpert window nature administration. Bring eight then.\\nHit admit rat ... (201837 characters truncated) ... how just.\\nLeader any red maybe daughter whom. Candidate pattern hundred painting option long leader type. Increase camera particularly organization.', 142320.72280739527, 284754.6730959717, '2012-10-10'), (46, 'Todd Daniels', 'treyes@example.com', '1639 James Track\\nJamesmouth, NE 16493', '(557)810-7493', 'Cobb, Smith and Torres', 'Again hard send focus month fire ahead. Term head authority art result traditional top.\\nTv act professional meet.\\nAble sport huge his whatever. Cha ... (201786 characters truncated) ... . Impact garden condition center almost sense. Material various her lay majority task woman. Democrat manager few dream better government people key.', 24432.49464206337, 80970.49109220282, '2002-10-05'), (45, 'James Mcdaniel', 'melanie67@example.org', '7458 Ashley Circles\\nBenjaminton, MP 85873', '8859222264', 'Kim, Eaton and Dawson', 'Fire see future. Young green physical. Set inside simply rule win none treat.\\nDrop war final nation large decade. Investment couple paper. Election  ... (201792 characters truncated) ... ncrease better operation important. Herself yet prove why. Campaign win need paper.\\nShort performance phone guess. Suggest analysis tell contain to.', 90128.38715599541, 181909.46419524166, '2005-01-23'), (51, 'Yvonne Reyes', 'nicolesmith@example.org', '011 Brown Trafficway Suite 955\\nStevenborough, GA 73446', '(786)260-4130x215', 'Smith Inc', 'Range represent explain. Collection alone threat address far indicate. Year list game could know.\\nAround six top away source. Enjoy start church inc ... (201783 characters truncated) ... ing whatever good source. How scientist central claim ok clearly.\\nWork visit rich against try up. Common trip real. One million plan attention song.', 25109.567141574684, 30944.204137785026, '2006-12-31'), (72, 'Benjamin Ross', 'ykrueger@example.net', '316 Nicholas Shore Apt. 539\\nEast Mollyville, NC 20894', '731-775-2338x4512', 'Patrick Inc', 'You song pull box. Television beyond environmental out there company physical. Always actually growth visit.\\nTake for treatment meet deal office thr ... (201834 characters truncated) ... act. Effect level focus which none meet yet. Month million section real law box.\\nTechnology sea result assume value bill boy. Lose by nearly strong.', 145554.909900541, 85690.15644326346, '2020-12-25'), (28, 'Linda Orozco', 'fuentesjack@example.net', '35620 Jeanne Oval Suite 342\\nLake Richardville, NY 26854', '9844285537', 'Taylor-Bowen', 'Summer wind move office experience. Discover environmental physical simply two position. Establish answer idea able positive home security.\\nTruth di ... (201719 characters truncated) ... ong admit. Democrat beautiful respond stand baby property. Sell yet purpose long.\\nDrug such modern how news after. Clear high research exactly much.', 213740.21347847264, 60901.02721089997, '2011-12-14'), (21, 'Carlos Dunn', 'sara27@example.org', '603 Fisher Parkway\\nPort Kenneth, AK 18109', '001-537-557-3492', 'Cervantes-Harris', 'Investment four difficult now middle campaign whose inside. Major cold together unit from project mean. Individual strategy either still lot particul ... (201697 characters truncated) ... sband.\\nUntil successful as field. Good certainly other interview yes leave speak.\\nFire region big manage decade. Require phone like including sure.', 165889.3043813774, 232096.62066511935, '2000-04-29'), (60, 'Melanie Neal', 'michaelanderson@example.org', '3700 Joshua Road\\nNew Laura, PA 83788', '001-811-830-9702x29675', 'Bell-Dixon', 'Sense increase eight quickly. Give statement better care manager.\\nAllow public yet sign back over. Someone popular identify across admit.\\nGovernmen ... (201753 characters truncated) ... Instead spend debate we bring car sound.\\nParticipant day grow clearly. Who test the attack. Government bed vote us. White lose although offer great.', 234014.6348613079, 28756.643085430213, '2009-08-03'), (57, 'Patrick French', 'xmclaughlin@example.com', '570 Barbara Parkways Apt. 107\\nNew Danielle, MN 50821', '564-719-7117x6715', 'Weaver Group', 'Act nor cultural morning.\\nCause cover under get away. Two interview approach threat.\\nRecently at enter often suffer career shake. Remember without  ... (201824 characters truncated) ... sent discover we skin. Glass within yeah rest image morning. Commercial company wind when important. Be consider television organization car company.', 116398.02539344851, 290188.93391123257, '2023-02-22'), (55, 'Andrew Leach', 'williamsjoseph@example.net', '2648 Frank Hill\\nMendezport, AS 13755', '(861)793-7984x69857', 'Gomez, Carter and Gentry', 'Political agree base evening article find. War range drive Democrat democratic against clearly.\\nDream light third cut culture I. Notice general move ... (201828 characters truncated) ... on.\\nInside per worry executive present interesting great. Senior everything similar might before star. Movie notice positive American when game end.', 23140.136356156676, 74548.20060766631, '2016-10-04'), (30, 'Tiffany Wallace', 'jonathan35@example.org', '4906 Mccoy Prairie Suite 143\\nWilsonborough, AS 69868', '001-688-397-0704', 'Miles, Ferguson and Shah', 'Mrs vote hair or. Blue huge seven one general these eight nor.\\nEnd food general someone partner. Away lose less writer sell individual bed example.  ... (201739 characters truncated) ... on factor production.\\nRead left game color issue area. Color eye discover shake where technology.\\nInstead sea month coach cut food development who.', 138201.54463354993, 290655.7273938828, '2021-05-15'), (65, 'Michael Mcdonald', 'alishalucero@example.org', '52366 Richards Wall\\nWernerfort, KY 85647', '806.373.6447', 'Jackson Ltd', 'Tend land weight a health less hospital. Economy very reflect watch box. Carry crime account general.\\nNetwork thank choose medical food. Dream be ar ... (201846 characters truncated) ... red within.\\nLet serve case officer study history office. Quality tough especially war to standard. Gas skill against voice hand start seven clearly.', 150614.0467828288, 282613.21109748963, '2024-05-24'), (24, 'Miss Susan Savage MD', 'deanjoyce@example.net', 'USCGC Lopez\\nFPO AP 17683', '330.977.0571', 'Hudson-Sheppard', 'Own production result opportunity. Newspaper exist task participant guess. Mr along sure recognize least.\\nInteresting worker know purpose. Explain m ... (201809 characters truncated) ... heir issue list responsibility wall.\\nThis might write. Find mother light reason whether choice movie. Keep service artist maybe almost agency quite.', 154164.08272510598, 39592.033789217196, '2012-09-22'), (23, 'Tina Chen', 'rodneynoble@example.net', 'PSC 9327, Box 2814\\nAPO AE 67885', '(286)285-3433', 'Andrews LLC', 'Investment speak military people partner. Arm meet industry cause.\\nResearch animal air. Out me charge yard scientist system. Side you adult apply.\\n ... (201803 characters truncated) ...  reality often.\\nInstead main open social subject. Discussion method relate avoid interesting consider.\\nLand term wear bed. At across policy within.', 180300.10182319806, 197227.814741366, '2006-02-22'), (72, 'Kenneth Hahn', 'sallyhernandez@example.org', '24050 Anthony Forest Suite 899\\nChristopherview, ND 35579', '001-788-586-6856x2215', 'Conway, Wells and Ibarra', 'Together something suggest employee. Many member represent enter thank medical think. Idea shake avoid citizen.\\nStock affect brother small choice cu ... (201755 characters truncated) ... nChild recognize reduce reflect. Central enjoy simply before.\\nAlong memory worker teacher difference option lay. Value down computer down on region.', 102122.05069993134, 213975.47180436144, '2018-09-21'), (41, 'John Chapman', 'wpage@example.com', '9109 Dillon Prairie Suite 373\\nDavisfurt, OK 41049', '715-800-8250', 'Maldonado-Foster', 'There money usually best season surface. Should issue customer not act PM world image. Billion push reveal piece too.\\nOff low system election former ... (201728 characters truncated) ... ion process. Someone term model water eight other Mr.\\nDrop some stage physical business. Possible stand special eat born. Minute hospital serve end.', 93973.76725980079, 136488.44571528718, '2012-02-24'), (56, 'Christina Hansen', 'snydermichelle@example.net', '3877 Black Court Suite 598\\nVeronicafurt, AR 85037', '(377)614-8869', 'Woods, Martinez and Johnson', 'Station stop today. Call cultural five value.\\nEnter think economic north scene. Before each scene develop attention. Enough show let person change o ... (201765 characters truncated) ... nomic stage including machine near simple able.\\nTop eye say. Scientist relate trade.\\nContinue by move those. Under pay TV bag property agreement I.', 216271.63217153514, 112816.49477871458, '1998-09-25'), (67, 'Andrew Adams', 'angelaarmstrong@example.com', '267 Ellen Road Apt. 157\\nEast Heatherside, NJ 32236', '+1-908-554-3013x9511', 'Hall, Edwards and Mcgrath', 'Sometimes us decision camera or think. Add factor drug.\\nNote impact create design woman leader government magazine. Wish training try staff. Out las ... (201805 characters truncated) ... e.\\nAlready beyond treat staff wind pay good. Society shoulder clearly stay she entire several. Identify develop will level.\\nInformation ten notice.', 104736.5562913409, 93736.26123366332, '2001-06-30'), (21, 'Robert Mullins', 'isaiah33@example.org', '6302 Nicole Mission Suite 294\\nPort Barbara, RI 58810', '911.691.0787x6849', 'Schmidt, Collins and Lindsey', 'Light early generation direction reveal. Measure easy Mr decade class may seek.\\nVery plan similar to order card. Onto ground pretty. Figure assume w ... (201871 characters truncated) ... itself security build your. National only million front tell side.\\nEconomic drop business catch glass study tax expert. Leg bank get explain change.', 202664.29679068679, 54049.54020143642, '1999-05-07'), (66, 'Vincent Bryant', 'newtonmonica@example.net', 'Unit 3259 Box 6669\\nDPO AA 33203', '001-510-822-6648x82563', 'Peterson-Smith', 'Everybody class remember order professor. Go buy full. Produce less college him action feeling perform.\\nReal radio watch three want my. Bad inside b ... (201783 characters truncated) ... language try because reduce collection. Cause he source benefit boy education.\\nBag option five model stock. Travel notice manage worker them modern.', 60767.50725014927, 263435.5153196147, '2011-07-22'), (49, 'Crystal Reilly', 'clayton26@example.org', '6335 Palmer Isle\\nAmymouth, NH 85037', '(422)591-9863x3208', 'Mitchell, Butler and Herrera', 'Data himself interest agent couple few approach either.\\nRemain federal answer education including. Red allow occur health face.\\nMagazine suggest th ... (201787 characters truncated) ... ep. Find building speak everything find me.\\nGovernment perhaps design leave difficult imagine. Admit instead travel mention away candidate shoulder.', 124722.80243102103, 274834.7907821058, '2011-07-26'), (56, 'Emily Simpson', 'nichole93@example.com', '681 Lamb Inlet\\nAllisonborough, CA 46604', '351-933-7524x76241', 'Mann-Adams', 'Sound what another article likely. Fire nature scientist standard. Name he likely see.\\nThis no project fear manager loss. Knowledge north well wait  ... (201803 characters truncated) ... d they recognize number attack make. Window various likely also quite apply society.\\nCity past then. World few them team loss pay nothing difficult.', 196049.49550422217, 259548.92624683658, '2022-09-17'), (67, 'Nancy Williams', 'cynthia31@example.com', '995 Joseph Flat\\nNew Dawnview, OK 03263', '+1-849-292-7037', 'Gardner Inc', 'Arrive interview right meet meeting local its and. Cause process cover church. Market whatever recent fear tax authority. Eye window by expect.\\nHous ... (201776 characters truncated) ... le else wait station. Again point score firm chance where. Capital particular finish majority seven tonight leg. Stage must red may summer every low.', 193380.2866747694, 234961.88148703024, '2013-01-24'), (68, 'Tyler Fleming', 'tlee@example.net', 'USS Mccormick\\nFPO AE 95867', '001-677-283-9467x510', 'Oliver-Johnson', 'Machine police television southern court difference grow feeling. Call friend wonder under three always. Garden where camera order bit read environme ... (201868 characters truncated) ... gree significant. Assume time third happen however.\\nWin remain north tree charge want. Vote enter church seek. True all project land assume picture.', 185814.26628791323, 255459.795553816, '2008-02-15'), (58, 'Christopher Palmer', 'mcintyrerandall@example.net', '142 Mario Forks\\nMclaughlinbury, PW 35669', '+1-503-240-2631x186', 'Morris-Maldonado', 'Box move wide sometimes account.\\nOption yeah painting year stock event should. Reach director detail onto.\\nImprove husband across would election pi ... (201797 characters truncated) ... Above instead piece seek building bank. Hold increase improve store.\\nHigh fly reality Mrs while commercial nearly. Share it water likely bill order.', 147825.98551423952, 173033.72325343182, '2009-09-22'), (39, 'Lisa Huff', 'laura62@example.net', '068 Mckay Pike\\nMigueltown, AL 53993', '902.784.4955x644', 'Franklin LLC', 'Garden own conference soldier red.\\nFigure major science response whether billion. Pm side lawyer.\\nEvening good item long attention. Close before sa ... (201775 characters truncated) ...  Budget them trouble whose.\\nSuccess leave interesting understand piece response popular. Think mean start. Look kid west wide eye somebody discover.', 20583.258472163245, 282546.4958293258, '2010-12-17'), (73, 'Shane Sherman', 'nathan75@example.org', '71707 Scott Port\\nEast Michael, ND 37779', '(409)989-6633x904', 'Hernandez, Hines and Reed', 'That organization end model rise draw now. Hit more quite compare activity current.\\nMachine less whatever company. Share art man lawyer west economy ... (201812 characters truncated) ... research both teach.\\nOf military public traditional rock forget media. Least serious goal image this. Somebody community card wonder gun population.', 30751.888797201704, 178885.51981873892, '2009-05-30'), (53, 'Craig Rojas', 'zkane@example.org', '85625 Smith Fort\\nRiggsville, VI 23150', '968-814-8939', 'Adams, Patel and Wilcox', 'Offer especially happy station seek employee four. Use exactly for another artist.\\nPractice recognize without high. Million that budget about claim  ... (201818 characters truncated) ... e avoid young treatment fly. Worker husband wonder before. Go million green exactly foot industry.\\nRealize long poor but. Special star bar it study.', 37661.30976963435, 155418.54495380257, '2008-02-08'), (27, 'Jerome Edwards', 'eugenereyes@example.net', '085 Marie Locks Suite 458\\nNew Henry, AR 50174', '7973357903', 'Thomas, King and Anderson', 'Just either Democrat five contain Mr fire.\\nShow indicate product particularly involve. Hour politics operation poor. Recently candidate bad.\\nDeal p ... (201879 characters truncated) ... same respond green particularly base.\\nMajority product former respond. Away figure southern program rate look. It too condition short dream imagine.', 244939.47384302033, 265734.9416584497, '2008-08-01'), (69, 'Cole Richardson', 'vwatson@example.com', '269 Bishop Branch Suite 809\\nSouth Elizabethmouth, NC 48549', '+1-754-386-9937x480', 'Alexander, White and Garza', 'Investment market remain car good. Loss yard bring international ready practice.\\nService quite above produce. Owner front under service hit.\\nPrepar ... (201791 characters truncated) ... Participant health high young citizen stock treat.\\nSkin agreement skin teacher family. Visit set ask simple with five cut.\\nFill policy mean around.', 211124.05498134322, 74003.63288147622, '2007-01-01'), (48, 'Karen Wilson', 'debrasmith@example.org', '782 Stacey Pike\\nLake Lindahaven, VT 28153', '+1-359-331-0045x10662', 'Nguyen and Sons', 'Development nice partner strategy during woman. Option season citizen up difficult.\\nAbout than party head. Young long only.\\nAnother beautiful price ... (201765 characters truncated) ... ist upon little meet dog.\\nTheir group national crime turn soldier natural.\\nOnto perform source its under. Green significant remember writer lawyer.', 171775.8781045808, 237208.7453702818, '2022-05-25')]\n"
     ]
    }
   ],
   "execution_count": 57
  },
  {
   "metadata": {},
   "cell_type": "markdown",
   "source": "Loading data from SQLite database"
  },
  {
   "cell_type": "code",
   "metadata": {
    "ExecuteTime": {
     "end_time": "2024-06-16T04:10:59.424863Z",
     "start_time": "2024-06-16T04:10:58.268158Z"
    }
   },
   "source": [
    "df = load_data('generated_data.csv')\n",
    "print(df.info())"
   ],
   "outputs": [
    {
     "name": "stderr",
     "output_type": "stream",
     "text": [
      "INFO:plato:Database connection created with plato.db\n",
      "INFO:plato:[bold green]INFO:[/bold green] CSV file loaded from generated_data.csv\n"
     ]
    },
    {
     "name": "stdout",
     "output_type": "stream",
     "text": [
      "<class 'pandas.core.frame.DataFrame'>\n",
      "RangeIndex: 1000 entries, 0 to 999\n",
      "Data columns (total 10 columns):\n",
      " #   Column       Non-Null Count  Dtype  \n",
      "---  ------       --------------  -----  \n",
      " 0   age          1000 non-null   int64  \n",
      " 1   name         1000 non-null   object \n",
      " 2   email        1000 non-null   object \n",
      " 3   address      1000 non-null   object \n",
      " 4   phone        1000 non-null   object \n",
      " 5   company      1000 non-null   object \n",
      " 6   text         1000 non-null   object \n",
      " 7   income       1000 non-null   float64\n",
      " 8   salary       1000 non-null   float64\n",
      " 9   date_joined  1000 non-null   object \n",
      "dtypes: float64(2), int64(1), object(7)\n",
      "memory usage: 78.3+ KB\n",
      "None\n"
     ]
    }
   ],
   "execution_count": 58
  },
  {
   "cell_type": "code",
   "metadata": {
    "ExecuteTime": {
     "end_time": "2024-06-16T04:10:59.427559Z",
     "start_time": "2024-06-16T04:10:59.425431Z"
    }
   },
   "source": [
    "from data_transformation.cleaner import DataCleaner"
   ],
   "outputs": [],
   "execution_count": 59
  },
  {
   "cell_type": "code",
   "metadata": {
    "ExecuteTime": {
     "end_time": "2024-06-16T04:10:59.429548Z",
     "start_time": "2024-06-16T04:10:59.428101Z"
    }
   },
   "source": [
    "cleaner = DataCleaner(df)\n"
   ],
   "outputs": [],
   "execution_count": 60
  },
  {
   "cell_type": "code",
   "metadata": {
    "ExecuteTime": {
     "end_time": "2024-06-16T04:10:59.868990Z",
     "start_time": "2024-06-16T04:10:59.430054Z"
    }
   },
   "source": [
    "cleaner.remove_duplicates()\n",
    "cleaner.remove_outliers(['age', 'income'], \"IQR\", 1.5)\n",
    "cleaner.convert_data_types(['date_joined'], 'datetime')\n",
    "cleaner.get_cleaned_data().head()\n",
    "\n"
   ],
   "outputs": [
    {
     "name": "stderr",
     "output_type": "stream",
     "text": [
      "INFO:data_transformation.cleaner:Duplicates removed\n",
      "INFO:data_transformation.cleaner:Outliers removed using IQR method\n",
      "INFO:data_transformation.cleaner:Data types converted for columns: ['date_joined'] to datetime\n"
     ]
    },
    {
     "data": {
      "text/plain": [
       "   age                    name                      email  \\\n",
       "0   40  Dr. Brittney Armstrong       dwayne76@example.com   \n",
       "1   72           Anna Figueroa    robertcohen@example.com   \n",
       "2   51             Jon Roberts       wardjohn@example.org   \n",
       "3   42          Andrea Jackson   scottheather@example.net   \n",
       "4   41           James Edwards  brookefleming@example.com   \n",
       "\n",
       "                                             address                  phone  \\\n",
       "0          131 Christian Rapids\\nNorth Jon, LA 27914      949.704.4940x6721   \n",
       "1  47528 Donald Mission Apt. 590\\nNew Julieview, ...  +1-688-870-6566x76173   \n",
       "2   25228 Robert Shoal Apt. 249\\nCraigport, FL 04574             7168437489   \n",
       "3  55421 Matthew Street Apt. 791\\nNew Isaacmouth,...          (221)771-4854   \n",
       "4                            USNV Ross\\nFPO AP 93350     218-398-3423x11054   \n",
       "\n",
       "                    company  \\\n",
       "0              Vaughn-Banks   \n",
       "1  Delacruz, Roy and Medina   \n",
       "2                 Hardy PLC   \n",
       "3                Kaiser-Cox   \n",
       "4               Green-Jones   \n",
       "\n",
       "                                                text         income  \\\n",
       "0  Deep event bring here action floor structure. ...   59282.692281   \n",
       "1  Painting charge pull week his.\\nExplain ok str...  171678.783868   \n",
       "2  Top he cost talk party religious read. Idea ma...  129427.105378   \n",
       "3  Movement trial hundred audience data. Campaign...  165620.894456   \n",
       "4  Other stay property stand what nice about. Whi...   90293.290415   \n",
       "\n",
       "          salary date_joined  \n",
       "0  186746.642330  2015-02-24  \n",
       "1  206881.709757  2020-06-02  \n",
       "2  182457.495124  2012-04-30  \n",
       "3   80246.239867  2023-09-25  \n",
       "4  111924.309005  2008-02-09  "
      ],
      "text/html": [
       "<div>\n",
       "<style scoped>\n",
       "    .dataframe tbody tr th:only-of-type {\n",
       "        vertical-align: middle;\n",
       "    }\n",
       "\n",
       "    .dataframe tbody tr th {\n",
       "        vertical-align: top;\n",
       "    }\n",
       "\n",
       "    .dataframe thead th {\n",
       "        text-align: right;\n",
       "    }\n",
       "</style>\n",
       "<table border=\"1\" class=\"dataframe\">\n",
       "  <thead>\n",
       "    <tr style=\"text-align: right;\">\n",
       "      <th></th>\n",
       "      <th>age</th>\n",
       "      <th>name</th>\n",
       "      <th>email</th>\n",
       "      <th>address</th>\n",
       "      <th>phone</th>\n",
       "      <th>company</th>\n",
       "      <th>text</th>\n",
       "      <th>income</th>\n",
       "      <th>salary</th>\n",
       "      <th>date_joined</th>\n",
       "    </tr>\n",
       "  </thead>\n",
       "  <tbody>\n",
       "    <tr>\n",
       "      <th>0</th>\n",
       "      <td>40</td>\n",
       "      <td>Dr. Brittney Armstrong</td>\n",
       "      <td>dwayne76@example.com</td>\n",
       "      <td>131 Christian Rapids\\nNorth Jon, LA 27914</td>\n",
       "      <td>949.704.4940x6721</td>\n",
       "      <td>Vaughn-Banks</td>\n",
       "      <td>Deep event bring here action floor structure. ...</td>\n",
       "      <td>59282.692281</td>\n",
       "      <td>186746.642330</td>\n",
       "      <td>2015-02-24</td>\n",
       "    </tr>\n",
       "    <tr>\n",
       "      <th>1</th>\n",
       "      <td>72</td>\n",
       "      <td>Anna Figueroa</td>\n",
       "      <td>robertcohen@example.com</td>\n",
       "      <td>47528 Donald Mission Apt. 590\\nNew Julieview, ...</td>\n",
       "      <td>+1-688-870-6566x76173</td>\n",
       "      <td>Delacruz, Roy and Medina</td>\n",
       "      <td>Painting charge pull week his.\\nExplain ok str...</td>\n",
       "      <td>171678.783868</td>\n",
       "      <td>206881.709757</td>\n",
       "      <td>2020-06-02</td>\n",
       "    </tr>\n",
       "    <tr>\n",
       "      <th>2</th>\n",
       "      <td>51</td>\n",
       "      <td>Jon Roberts</td>\n",
       "      <td>wardjohn@example.org</td>\n",
       "      <td>25228 Robert Shoal Apt. 249\\nCraigport, FL 04574</td>\n",
       "      <td>7168437489</td>\n",
       "      <td>Hardy PLC</td>\n",
       "      <td>Top he cost talk party religious read. Idea ma...</td>\n",
       "      <td>129427.105378</td>\n",
       "      <td>182457.495124</td>\n",
       "      <td>2012-04-30</td>\n",
       "    </tr>\n",
       "    <tr>\n",
       "      <th>3</th>\n",
       "      <td>42</td>\n",
       "      <td>Andrea Jackson</td>\n",
       "      <td>scottheather@example.net</td>\n",
       "      <td>55421 Matthew Street Apt. 791\\nNew Isaacmouth,...</td>\n",
       "      <td>(221)771-4854</td>\n",
       "      <td>Kaiser-Cox</td>\n",
       "      <td>Movement trial hundred audience data. Campaign...</td>\n",
       "      <td>165620.894456</td>\n",
       "      <td>80246.239867</td>\n",
       "      <td>2023-09-25</td>\n",
       "    </tr>\n",
       "    <tr>\n",
       "      <th>4</th>\n",
       "      <td>41</td>\n",
       "      <td>James Edwards</td>\n",
       "      <td>brookefleming@example.com</td>\n",
       "      <td>USNV Ross\\nFPO AP 93350</td>\n",
       "      <td>218-398-3423x11054</td>\n",
       "      <td>Green-Jones</td>\n",
       "      <td>Other stay property stand what nice about. Whi...</td>\n",
       "      <td>90293.290415</td>\n",
       "      <td>111924.309005</td>\n",
       "      <td>2008-02-09</td>\n",
       "    </tr>\n",
       "  </tbody>\n",
       "</table>\n",
       "</div>"
      ]
     },
     "execution_count": 61,
     "metadata": {},
     "output_type": "execute_result"
    }
   ],
   "execution_count": 61
  },
  {
   "cell_type": "code",
   "metadata": {
    "ExecuteTime": {
     "end_time": "2024-06-16T04:10:59.877336Z",
     "start_time": "2024-06-16T04:10:59.869526Z"
    }
   },
   "source": [
    "cleaner.normalize_data(['age', 'income'])\n",
    "cleaner.get_cleaned_data().head()"
   ],
   "outputs": [
    {
     "name": "stderr",
     "output_type": "stream",
     "text": [
      "INFO:data_transformation.cleaner:Data normalized for columns: ['age', 'income']\n"
     ]
    },
    {
     "data": {
      "text/plain": [
       "        age                    name                      email  \\\n",
       "0  0.385965  Dr. Brittney Armstrong       dwayne76@example.com   \n",
       "1  0.947368           Anna Figueroa    robertcohen@example.com   \n",
       "2  0.578947             Jon Roberts       wardjohn@example.org   \n",
       "3  0.421053          Andrea Jackson   scottheather@example.net   \n",
       "4  0.403509           James Edwards  brookefleming@example.com   \n",
       "\n",
       "                                             address                  phone  \\\n",
       "0          131 Christian Rapids\\nNorth Jon, LA 27914      949.704.4940x6721   \n",
       "1  47528 Donald Mission Apt. 590\\nNew Julieview, ...  +1-688-870-6566x76173   \n",
       "2   25228 Robert Shoal Apt. 249\\nCraigport, FL 04574             7168437489   \n",
       "3  55421 Matthew Street Apt. 791\\nNew Isaacmouth,...          (221)771-4854   \n",
       "4                            USNV Ross\\nFPO AP 93350     218-398-3423x11054   \n",
       "\n",
       "                    company  \\\n",
       "0              Vaughn-Banks   \n",
       "1  Delacruz, Roy and Medina   \n",
       "2                 Hardy PLC   \n",
       "3                Kaiser-Cox   \n",
       "4               Green-Jones   \n",
       "\n",
       "                                                text    income         salary  \\\n",
       "0  Deep event bring here action floor structure. ...  0.205177  186746.642330   \n",
       "1  Painting charge pull week his.\\nExplain ok str...  0.673614  206881.709757   \n",
       "2  Top he cost talk party religious read. Idea ma...  0.497520  182457.495124   \n",
       "3  Movement trial hundred audience data. Campaign...  0.648366   80246.239867   \n",
       "4  Other stay property stand what nice about. Whi...  0.334421  111924.309005   \n",
       "\n",
       "  date_joined  \n",
       "0  2015-02-24  \n",
       "1  2020-06-02  \n",
       "2  2012-04-30  \n",
       "3  2023-09-25  \n",
       "4  2008-02-09  "
      ],
      "text/html": [
       "<div>\n",
       "<style scoped>\n",
       "    .dataframe tbody tr th:only-of-type {\n",
       "        vertical-align: middle;\n",
       "    }\n",
       "\n",
       "    .dataframe tbody tr th {\n",
       "        vertical-align: top;\n",
       "    }\n",
       "\n",
       "    .dataframe thead th {\n",
       "        text-align: right;\n",
       "    }\n",
       "</style>\n",
       "<table border=\"1\" class=\"dataframe\">\n",
       "  <thead>\n",
       "    <tr style=\"text-align: right;\">\n",
       "      <th></th>\n",
       "      <th>age</th>\n",
       "      <th>name</th>\n",
       "      <th>email</th>\n",
       "      <th>address</th>\n",
       "      <th>phone</th>\n",
       "      <th>company</th>\n",
       "      <th>text</th>\n",
       "      <th>income</th>\n",
       "      <th>salary</th>\n",
       "      <th>date_joined</th>\n",
       "    </tr>\n",
       "  </thead>\n",
       "  <tbody>\n",
       "    <tr>\n",
       "      <th>0</th>\n",
       "      <td>0.385965</td>\n",
       "      <td>Dr. Brittney Armstrong</td>\n",
       "      <td>dwayne76@example.com</td>\n",
       "      <td>131 Christian Rapids\\nNorth Jon, LA 27914</td>\n",
       "      <td>949.704.4940x6721</td>\n",
       "      <td>Vaughn-Banks</td>\n",
       "      <td>Deep event bring here action floor structure. ...</td>\n",
       "      <td>0.205177</td>\n",
       "      <td>186746.642330</td>\n",
       "      <td>2015-02-24</td>\n",
       "    </tr>\n",
       "    <tr>\n",
       "      <th>1</th>\n",
       "      <td>0.947368</td>\n",
       "      <td>Anna Figueroa</td>\n",
       "      <td>robertcohen@example.com</td>\n",
       "      <td>47528 Donald Mission Apt. 590\\nNew Julieview, ...</td>\n",
       "      <td>+1-688-870-6566x76173</td>\n",
       "      <td>Delacruz, Roy and Medina</td>\n",
       "      <td>Painting charge pull week his.\\nExplain ok str...</td>\n",
       "      <td>0.673614</td>\n",
       "      <td>206881.709757</td>\n",
       "      <td>2020-06-02</td>\n",
       "    </tr>\n",
       "    <tr>\n",
       "      <th>2</th>\n",
       "      <td>0.578947</td>\n",
       "      <td>Jon Roberts</td>\n",
       "      <td>wardjohn@example.org</td>\n",
       "      <td>25228 Robert Shoal Apt. 249\\nCraigport, FL 04574</td>\n",
       "      <td>7168437489</td>\n",
       "      <td>Hardy PLC</td>\n",
       "      <td>Top he cost talk party religious read. Idea ma...</td>\n",
       "      <td>0.497520</td>\n",
       "      <td>182457.495124</td>\n",
       "      <td>2012-04-30</td>\n",
       "    </tr>\n",
       "    <tr>\n",
       "      <th>3</th>\n",
       "      <td>0.421053</td>\n",
       "      <td>Andrea Jackson</td>\n",
       "      <td>scottheather@example.net</td>\n",
       "      <td>55421 Matthew Street Apt. 791\\nNew Isaacmouth,...</td>\n",
       "      <td>(221)771-4854</td>\n",
       "      <td>Kaiser-Cox</td>\n",
       "      <td>Movement trial hundred audience data. Campaign...</td>\n",
       "      <td>0.648366</td>\n",
       "      <td>80246.239867</td>\n",
       "      <td>2023-09-25</td>\n",
       "    </tr>\n",
       "    <tr>\n",
       "      <th>4</th>\n",
       "      <td>0.403509</td>\n",
       "      <td>James Edwards</td>\n",
       "      <td>brookefleming@example.com</td>\n",
       "      <td>USNV Ross\\nFPO AP 93350</td>\n",
       "      <td>218-398-3423x11054</td>\n",
       "      <td>Green-Jones</td>\n",
       "      <td>Other stay property stand what nice about. Whi...</td>\n",
       "      <td>0.334421</td>\n",
       "      <td>111924.309005</td>\n",
       "      <td>2008-02-09</td>\n",
       "    </tr>\n",
       "  </tbody>\n",
       "</table>\n",
       "</div>"
      ]
     },
     "execution_count": 62,
     "metadata": {},
     "output_type": "execute_result"
    }
   ],
   "execution_count": 62
  },
  {
   "cell_type": "code",
   "metadata": {
    "ExecuteTime": {
     "end_time": "2024-06-16T04:10:59.885857Z",
     "start_time": "2024-06-16T04:10:59.877810Z"
    }
   },
   "source": [
    "cleaner.standardize_data(['age', 'income'])\n",
    "cleaner.get_cleaned_data().head()"
   ],
   "outputs": [
    {
     "name": "stderr",
     "output_type": "stream",
     "text": [
      "INFO:data_transformation.cleaner:Data standardized for columns: ['age', 'income']\n"
     ]
    },
    {
     "data": {
      "text/plain": [
       "        age                    name                      email  \\\n",
       "0 -0.424325  Dr. Brittney Armstrong       dwayne76@example.com   \n",
       "1  1.490552           Anna Figueroa    robertcohen@example.com   \n",
       "2  0.233914             Jon Roberts       wardjohn@example.org   \n",
       "3 -0.304645          Andrea Jackson   scottheather@example.net   \n",
       "4 -0.364485           James Edwards  brookefleming@example.com   \n",
       "\n",
       "                                             address                  phone  \\\n",
       "0          131 Christian Rapids\\nNorth Jon, LA 27914      949.704.4940x6721   \n",
       "1  47528 Donald Mission Apt. 590\\nNew Julieview, ...  +1-688-870-6566x76173   \n",
       "2   25228 Robert Shoal Apt. 249\\nCraigport, FL 04574             7168437489   \n",
       "3  55421 Matthew Street Apt. 791\\nNew Isaacmouth,...          (221)771-4854   \n",
       "4                            USNV Ross\\nFPO AP 93350     218-398-3423x11054   \n",
       "\n",
       "                    company  \\\n",
       "0              Vaughn-Banks   \n",
       "1  Delacruz, Roy and Medina   \n",
       "2                 Hardy PLC   \n",
       "3                Kaiser-Cox   \n",
       "4               Green-Jones   \n",
       "\n",
       "                                                text    income         salary  \\\n",
       "0  Deep event bring here action floor structure. ... -1.039827  186746.642330   \n",
       "1  Painting charge pull week his.\\nExplain ok str...  0.602894  206881.709757   \n",
       "2  Top he cost talk party religious read. Idea ma... -0.014634  182457.495124   \n",
       "3  Movement trial hundred audience data. Campaign...  0.514355   80246.239867   \n",
       "4  Other stay property stand what nice about. Whi... -0.586593  111924.309005   \n",
       "\n",
       "  date_joined  \n",
       "0  2015-02-24  \n",
       "1  2020-06-02  \n",
       "2  2012-04-30  \n",
       "3  2023-09-25  \n",
       "4  2008-02-09  "
      ],
      "text/html": [
       "<div>\n",
       "<style scoped>\n",
       "    .dataframe tbody tr th:only-of-type {\n",
       "        vertical-align: middle;\n",
       "    }\n",
       "\n",
       "    .dataframe tbody tr th {\n",
       "        vertical-align: top;\n",
       "    }\n",
       "\n",
       "    .dataframe thead th {\n",
       "        text-align: right;\n",
       "    }\n",
       "</style>\n",
       "<table border=\"1\" class=\"dataframe\">\n",
       "  <thead>\n",
       "    <tr style=\"text-align: right;\">\n",
       "      <th></th>\n",
       "      <th>age</th>\n",
       "      <th>name</th>\n",
       "      <th>email</th>\n",
       "      <th>address</th>\n",
       "      <th>phone</th>\n",
       "      <th>company</th>\n",
       "      <th>text</th>\n",
       "      <th>income</th>\n",
       "      <th>salary</th>\n",
       "      <th>date_joined</th>\n",
       "    </tr>\n",
       "  </thead>\n",
       "  <tbody>\n",
       "    <tr>\n",
       "      <th>0</th>\n",
       "      <td>-0.424325</td>\n",
       "      <td>Dr. Brittney Armstrong</td>\n",
       "      <td>dwayne76@example.com</td>\n",
       "      <td>131 Christian Rapids\\nNorth Jon, LA 27914</td>\n",
       "      <td>949.704.4940x6721</td>\n",
       "      <td>Vaughn-Banks</td>\n",
       "      <td>Deep event bring here action floor structure. ...</td>\n",
       "      <td>-1.039827</td>\n",
       "      <td>186746.642330</td>\n",
       "      <td>2015-02-24</td>\n",
       "    </tr>\n",
       "    <tr>\n",
       "      <th>1</th>\n",
       "      <td>1.490552</td>\n",
       "      <td>Anna Figueroa</td>\n",
       "      <td>robertcohen@example.com</td>\n",
       "      <td>47528 Donald Mission Apt. 590\\nNew Julieview, ...</td>\n",
       "      <td>+1-688-870-6566x76173</td>\n",
       "      <td>Delacruz, Roy and Medina</td>\n",
       "      <td>Painting charge pull week his.\\nExplain ok str...</td>\n",
       "      <td>0.602894</td>\n",
       "      <td>206881.709757</td>\n",
       "      <td>2020-06-02</td>\n",
       "    </tr>\n",
       "    <tr>\n",
       "      <th>2</th>\n",
       "      <td>0.233914</td>\n",
       "      <td>Jon Roberts</td>\n",
       "      <td>wardjohn@example.org</td>\n",
       "      <td>25228 Robert Shoal Apt. 249\\nCraigport, FL 04574</td>\n",
       "      <td>7168437489</td>\n",
       "      <td>Hardy PLC</td>\n",
       "      <td>Top he cost talk party religious read. Idea ma...</td>\n",
       "      <td>-0.014634</td>\n",
       "      <td>182457.495124</td>\n",
       "      <td>2012-04-30</td>\n",
       "    </tr>\n",
       "    <tr>\n",
       "      <th>3</th>\n",
       "      <td>-0.304645</td>\n",
       "      <td>Andrea Jackson</td>\n",
       "      <td>scottheather@example.net</td>\n",
       "      <td>55421 Matthew Street Apt. 791\\nNew Isaacmouth,...</td>\n",
       "      <td>(221)771-4854</td>\n",
       "      <td>Kaiser-Cox</td>\n",
       "      <td>Movement trial hundred audience data. Campaign...</td>\n",
       "      <td>0.514355</td>\n",
       "      <td>80246.239867</td>\n",
       "      <td>2023-09-25</td>\n",
       "    </tr>\n",
       "    <tr>\n",
       "      <th>4</th>\n",
       "      <td>-0.364485</td>\n",
       "      <td>James Edwards</td>\n",
       "      <td>brookefleming@example.com</td>\n",
       "      <td>USNV Ross\\nFPO AP 93350</td>\n",
       "      <td>218-398-3423x11054</td>\n",
       "      <td>Green-Jones</td>\n",
       "      <td>Other stay property stand what nice about. Whi...</td>\n",
       "      <td>-0.586593</td>\n",
       "      <td>111924.309005</td>\n",
       "      <td>2008-02-09</td>\n",
       "    </tr>\n",
       "  </tbody>\n",
       "</table>\n",
       "</div>"
      ]
     },
     "execution_count": 63,
     "metadata": {},
     "output_type": "execute_result"
    }
   ],
   "execution_count": 63
  },
  {
   "cell_type": "code",
   "metadata": {
    "ExecuteTime": {
     "end_time": "2024-06-16T04:10:59.889462Z",
     "start_time": "2024-06-16T04:10:59.888150Z"
    }
   },
   "source": [
    "df = cleaner.get_cleaned_data()\n"
   ],
   "outputs": [],
   "execution_count": 64
  },
  {
   "cell_type": "code",
   "metadata": {
    "ExecuteTime": {
     "end_time": "2024-06-16T04:10:59.891270Z",
     "start_time": "2024-06-16T04:10:59.889945Z"
    }
   },
   "source": [
    "from data_transformation.transformer import DataTransformer"
   ],
   "outputs": [],
   "execution_count": 65
  },
  {
   "cell_type": "code",
   "metadata": {
    "ExecuteTime": {
     "end_time": "2024-06-16T04:10:59.893531Z",
     "start_time": "2024-06-16T04:10:59.891886Z"
    }
   },
   "source": [
    "transformer = DataTransformer(df)"
   ],
   "outputs": [],
   "execution_count": 66
  },
  {
   "cell_type": "code",
   "metadata": {
    "ExecuteTime": {
     "end_time": "2024-06-16T04:10:59.902073Z",
     "start_time": "2024-06-16T04:10:59.894077Z"
    }
   },
   "source": [
    "transformer.scale_data(['age', 'income'])\n"
   ],
   "outputs": [
    {
     "name": "stderr",
     "output_type": "stream",
     "text": [
      "INFO:data_transformation.transformer:Data scaled using minmax method for column: age\n",
      "INFO:data_transformation.transformer:Data scaled using minmax method for column: income\n"
     ]
    },
    {
     "data": {
      "text/plain": [
       "<data_transformation.transformer.DataTransformer at 0x14e883e00>"
      ]
     },
     "execution_count": 67,
     "metadata": {},
     "output_type": "execute_result"
    }
   ],
   "execution_count": 67
  },
  {
   "cell_type": "code",
   "metadata": {
    "ExecuteTime": {
     "end_time": "2024-06-16T04:10:59.908267Z",
     "start_time": "2024-06-16T04:10:59.902566Z"
    }
   },
   "source": [
    "transformer.get_transformed_data().head()"
   ],
   "outputs": [
    {
     "data": {
      "text/plain": [
       "        age                    name                      email  \\\n",
       "0  0.385965  Dr. Brittney Armstrong       dwayne76@example.com   \n",
       "1  0.947368           Anna Figueroa    robertcohen@example.com   \n",
       "2  0.578947             Jon Roberts       wardjohn@example.org   \n",
       "3  0.421053          Andrea Jackson   scottheather@example.net   \n",
       "4  0.403509           James Edwards  brookefleming@example.com   \n",
       "\n",
       "                                             address                  phone  \\\n",
       "0          131 Christian Rapids\\nNorth Jon, LA 27914      949.704.4940x6721   \n",
       "1  47528 Donald Mission Apt. 590\\nNew Julieview, ...  +1-688-870-6566x76173   \n",
       "2   25228 Robert Shoal Apt. 249\\nCraigport, FL 04574             7168437489   \n",
       "3  55421 Matthew Street Apt. 791\\nNew Isaacmouth,...          (221)771-4854   \n",
       "4                            USNV Ross\\nFPO AP 93350     218-398-3423x11054   \n",
       "\n",
       "                    company  \\\n",
       "0              Vaughn-Banks   \n",
       "1  Delacruz, Roy and Medina   \n",
       "2                 Hardy PLC   \n",
       "3                Kaiser-Cox   \n",
       "4               Green-Jones   \n",
       "\n",
       "                                                text    income         salary  \\\n",
       "0  Deep event bring here action floor structure. ...  0.205177  186746.642330   \n",
       "1  Painting charge pull week his.\\nExplain ok str...  0.673614  206881.709757   \n",
       "2  Top he cost talk party religious read. Idea ma...  0.497520  182457.495124   \n",
       "3  Movement trial hundred audience data. Campaign...  0.648366   80246.239867   \n",
       "4  Other stay property stand what nice about. Whi...  0.334421  111924.309005   \n",
       "\n",
       "  date_joined  \n",
       "0  2015-02-24  \n",
       "1  2020-06-02  \n",
       "2  2012-04-30  \n",
       "3  2023-09-25  \n",
       "4  2008-02-09  "
      ],
      "text/html": [
       "<div>\n",
       "<style scoped>\n",
       "    .dataframe tbody tr th:only-of-type {\n",
       "        vertical-align: middle;\n",
       "    }\n",
       "\n",
       "    .dataframe tbody tr th {\n",
       "        vertical-align: top;\n",
       "    }\n",
       "\n",
       "    .dataframe thead th {\n",
       "        text-align: right;\n",
       "    }\n",
       "</style>\n",
       "<table border=\"1\" class=\"dataframe\">\n",
       "  <thead>\n",
       "    <tr style=\"text-align: right;\">\n",
       "      <th></th>\n",
       "      <th>age</th>\n",
       "      <th>name</th>\n",
       "      <th>email</th>\n",
       "      <th>address</th>\n",
       "      <th>phone</th>\n",
       "      <th>company</th>\n",
       "      <th>text</th>\n",
       "      <th>income</th>\n",
       "      <th>salary</th>\n",
       "      <th>date_joined</th>\n",
       "    </tr>\n",
       "  </thead>\n",
       "  <tbody>\n",
       "    <tr>\n",
       "      <th>0</th>\n",
       "      <td>0.385965</td>\n",
       "      <td>Dr. Brittney Armstrong</td>\n",
       "      <td>dwayne76@example.com</td>\n",
       "      <td>131 Christian Rapids\\nNorth Jon, LA 27914</td>\n",
       "      <td>949.704.4940x6721</td>\n",
       "      <td>Vaughn-Banks</td>\n",
       "      <td>Deep event bring here action floor structure. ...</td>\n",
       "      <td>0.205177</td>\n",
       "      <td>186746.642330</td>\n",
       "      <td>2015-02-24</td>\n",
       "    </tr>\n",
       "    <tr>\n",
       "      <th>1</th>\n",
       "      <td>0.947368</td>\n",
       "      <td>Anna Figueroa</td>\n",
       "      <td>robertcohen@example.com</td>\n",
       "      <td>47528 Donald Mission Apt. 590\\nNew Julieview, ...</td>\n",
       "      <td>+1-688-870-6566x76173</td>\n",
       "      <td>Delacruz, Roy and Medina</td>\n",
       "      <td>Painting charge pull week his.\\nExplain ok str...</td>\n",
       "      <td>0.673614</td>\n",
       "      <td>206881.709757</td>\n",
       "      <td>2020-06-02</td>\n",
       "    </tr>\n",
       "    <tr>\n",
       "      <th>2</th>\n",
       "      <td>0.578947</td>\n",
       "      <td>Jon Roberts</td>\n",
       "      <td>wardjohn@example.org</td>\n",
       "      <td>25228 Robert Shoal Apt. 249\\nCraigport, FL 04574</td>\n",
       "      <td>7168437489</td>\n",
       "      <td>Hardy PLC</td>\n",
       "      <td>Top he cost talk party religious read. Idea ma...</td>\n",
       "      <td>0.497520</td>\n",
       "      <td>182457.495124</td>\n",
       "      <td>2012-04-30</td>\n",
       "    </tr>\n",
       "    <tr>\n",
       "      <th>3</th>\n",
       "      <td>0.421053</td>\n",
       "      <td>Andrea Jackson</td>\n",
       "      <td>scottheather@example.net</td>\n",
       "      <td>55421 Matthew Street Apt. 791\\nNew Isaacmouth,...</td>\n",
       "      <td>(221)771-4854</td>\n",
       "      <td>Kaiser-Cox</td>\n",
       "      <td>Movement trial hundred audience data. Campaign...</td>\n",
       "      <td>0.648366</td>\n",
       "      <td>80246.239867</td>\n",
       "      <td>2023-09-25</td>\n",
       "    </tr>\n",
       "    <tr>\n",
       "      <th>4</th>\n",
       "      <td>0.403509</td>\n",
       "      <td>James Edwards</td>\n",
       "      <td>brookefleming@example.com</td>\n",
       "      <td>USNV Ross\\nFPO AP 93350</td>\n",
       "      <td>218-398-3423x11054</td>\n",
       "      <td>Green-Jones</td>\n",
       "      <td>Other stay property stand what nice about. Whi...</td>\n",
       "      <td>0.334421</td>\n",
       "      <td>111924.309005</td>\n",
       "      <td>2008-02-09</td>\n",
       "    </tr>\n",
       "  </tbody>\n",
       "</table>\n",
       "</div>"
      ]
     },
     "execution_count": 68,
     "metadata": {},
     "output_type": "execute_result"
    }
   ],
   "execution_count": 68
  },
  {
   "cell_type": "code",
   "metadata": {
    "ExecuteTime": {
     "end_time": "2024-06-16T04:10:59.916530Z",
     "start_time": "2024-06-16T04:10:59.908726Z"
    }
   },
   "source": [
    "transformer.log_transform(['age', 'income'])\n",
    "transformer.get_transformed_data().head()"
   ],
   "outputs": [
    {
     "name": "stderr",
     "output_type": "stream",
     "text": [
      "INFO:data_transformation.transformer:Log transformation applied to columns: ['age', 'income']\n"
     ]
    },
    {
     "data": {
      "text/plain": [
       "        age                    name                      email  \\\n",
       "0  0.326397  Dr. Brittney Armstrong       dwayne76@example.com   \n",
       "1  0.666479           Anna Figueroa    robertcohen@example.com   \n",
       "2  0.456758             Jon Roberts       wardjohn@example.org   \n",
       "3  0.351398          Andrea Jackson   scottheather@example.net   \n",
       "4  0.338975           James Edwards  brookefleming@example.com   \n",
       "\n",
       "                                             address                  phone  \\\n",
       "0          131 Christian Rapids\\nNorth Jon, LA 27914      949.704.4940x6721   \n",
       "1  47528 Donald Mission Apt. 590\\nNew Julieview, ...  +1-688-870-6566x76173   \n",
       "2   25228 Robert Shoal Apt. 249\\nCraigport, FL 04574             7168437489   \n",
       "3  55421 Matthew Street Apt. 791\\nNew Isaacmouth,...          (221)771-4854   \n",
       "4                            USNV Ross\\nFPO AP 93350     218-398-3423x11054   \n",
       "\n",
       "                    company  \\\n",
       "0              Vaughn-Banks   \n",
       "1  Delacruz, Roy and Medina   \n",
       "2                 Hardy PLC   \n",
       "3                Kaiser-Cox   \n",
       "4               Green-Jones   \n",
       "\n",
       "                                                text    income         salary  \\\n",
       "0  Deep event bring here action floor structure. ...  0.186627  186746.642330   \n",
       "1  Painting charge pull week his.\\nExplain ok str...  0.514985  206881.709757   \n",
       "2  Top he cost talk party religious read. Idea ma...  0.403811  182457.495124   \n",
       "3  Movement trial hundred audience data. Campaign...  0.499784   80246.239867   \n",
       "4  Other stay property stand what nice about. Whi...  0.288498  111924.309005   \n",
       "\n",
       "  date_joined  \n",
       "0  2015-02-24  \n",
       "1  2020-06-02  \n",
       "2  2012-04-30  \n",
       "3  2023-09-25  \n",
       "4  2008-02-09  "
      ],
      "text/html": [
       "<div>\n",
       "<style scoped>\n",
       "    .dataframe tbody tr th:only-of-type {\n",
       "        vertical-align: middle;\n",
       "    }\n",
       "\n",
       "    .dataframe tbody tr th {\n",
       "        vertical-align: top;\n",
       "    }\n",
       "\n",
       "    .dataframe thead th {\n",
       "        text-align: right;\n",
       "    }\n",
       "</style>\n",
       "<table border=\"1\" class=\"dataframe\">\n",
       "  <thead>\n",
       "    <tr style=\"text-align: right;\">\n",
       "      <th></th>\n",
       "      <th>age</th>\n",
       "      <th>name</th>\n",
       "      <th>email</th>\n",
       "      <th>address</th>\n",
       "      <th>phone</th>\n",
       "      <th>company</th>\n",
       "      <th>text</th>\n",
       "      <th>income</th>\n",
       "      <th>salary</th>\n",
       "      <th>date_joined</th>\n",
       "    </tr>\n",
       "  </thead>\n",
       "  <tbody>\n",
       "    <tr>\n",
       "      <th>0</th>\n",
       "      <td>0.326397</td>\n",
       "      <td>Dr. Brittney Armstrong</td>\n",
       "      <td>dwayne76@example.com</td>\n",
       "      <td>131 Christian Rapids\\nNorth Jon, LA 27914</td>\n",
       "      <td>949.704.4940x6721</td>\n",
       "      <td>Vaughn-Banks</td>\n",
       "      <td>Deep event bring here action floor structure. ...</td>\n",
       "      <td>0.186627</td>\n",
       "      <td>186746.642330</td>\n",
       "      <td>2015-02-24</td>\n",
       "    </tr>\n",
       "    <tr>\n",
       "      <th>1</th>\n",
       "      <td>0.666479</td>\n",
       "      <td>Anna Figueroa</td>\n",
       "      <td>robertcohen@example.com</td>\n",
       "      <td>47528 Donald Mission Apt. 590\\nNew Julieview, ...</td>\n",
       "      <td>+1-688-870-6566x76173</td>\n",
       "      <td>Delacruz, Roy and Medina</td>\n",
       "      <td>Painting charge pull week his.\\nExplain ok str...</td>\n",
       "      <td>0.514985</td>\n",
       "      <td>206881.709757</td>\n",
       "      <td>2020-06-02</td>\n",
       "    </tr>\n",
       "    <tr>\n",
       "      <th>2</th>\n",
       "      <td>0.456758</td>\n",
       "      <td>Jon Roberts</td>\n",
       "      <td>wardjohn@example.org</td>\n",
       "      <td>25228 Robert Shoal Apt. 249\\nCraigport, FL 04574</td>\n",
       "      <td>7168437489</td>\n",
       "      <td>Hardy PLC</td>\n",
       "      <td>Top he cost talk party religious read. Idea ma...</td>\n",
       "      <td>0.403811</td>\n",
       "      <td>182457.495124</td>\n",
       "      <td>2012-04-30</td>\n",
       "    </tr>\n",
       "    <tr>\n",
       "      <th>3</th>\n",
       "      <td>0.351398</td>\n",
       "      <td>Andrea Jackson</td>\n",
       "      <td>scottheather@example.net</td>\n",
       "      <td>55421 Matthew Street Apt. 791\\nNew Isaacmouth,...</td>\n",
       "      <td>(221)771-4854</td>\n",
       "      <td>Kaiser-Cox</td>\n",
       "      <td>Movement trial hundred audience data. Campaign...</td>\n",
       "      <td>0.499784</td>\n",
       "      <td>80246.239867</td>\n",
       "      <td>2023-09-25</td>\n",
       "    </tr>\n",
       "    <tr>\n",
       "      <th>4</th>\n",
       "      <td>0.338975</td>\n",
       "      <td>James Edwards</td>\n",
       "      <td>brookefleming@example.com</td>\n",
       "      <td>USNV Ross\\nFPO AP 93350</td>\n",
       "      <td>218-398-3423x11054</td>\n",
       "      <td>Green-Jones</td>\n",
       "      <td>Other stay property stand what nice about. Whi...</td>\n",
       "      <td>0.288498</td>\n",
       "      <td>111924.309005</td>\n",
       "      <td>2008-02-09</td>\n",
       "    </tr>\n",
       "  </tbody>\n",
       "</table>\n",
       "</div>"
      ]
     },
     "execution_count": 69,
     "metadata": {},
     "output_type": "execute_result"
    }
   ],
   "execution_count": 69
  },
  {
   "cell_type": "code",
   "metadata": {
    "ExecuteTime": {
     "end_time": "2024-06-16T04:10:59.925175Z",
     "start_time": "2024-06-16T04:10:59.916970Z"
    }
   },
   "source": [
    "binned_age = transformer.bin_data('age', 3, ['young', 'middle-aged', 'old'])\n",
    "binned_age.get_transformed_data().head()"
   ],
   "outputs": [
    {
     "name": "stderr",
     "output_type": "stream",
     "text": [
      "INFO:data_transformation.transformer:Data binned for columns: age\n"
     ]
    },
    {
     "data": {
      "text/plain": [
       "           age                    name                      email  \\\n",
       "0  middle-aged  Dr. Brittney Armstrong       dwayne76@example.com   \n",
       "1          old           Anna Figueroa    robertcohen@example.com   \n",
       "2  middle-aged             Jon Roberts       wardjohn@example.org   \n",
       "3  middle-aged          Andrea Jackson   scottheather@example.net   \n",
       "4  middle-aged           James Edwards  brookefleming@example.com   \n",
       "\n",
       "                                             address                  phone  \\\n",
       "0          131 Christian Rapids\\nNorth Jon, LA 27914      949.704.4940x6721   \n",
       "1  47528 Donald Mission Apt. 590\\nNew Julieview, ...  +1-688-870-6566x76173   \n",
       "2   25228 Robert Shoal Apt. 249\\nCraigport, FL 04574             7168437489   \n",
       "3  55421 Matthew Street Apt. 791\\nNew Isaacmouth,...          (221)771-4854   \n",
       "4                            USNV Ross\\nFPO AP 93350     218-398-3423x11054   \n",
       "\n",
       "                    company  \\\n",
       "0              Vaughn-Banks   \n",
       "1  Delacruz, Roy and Medina   \n",
       "2                 Hardy PLC   \n",
       "3                Kaiser-Cox   \n",
       "4               Green-Jones   \n",
       "\n",
       "                                                text    income         salary  \\\n",
       "0  Deep event bring here action floor structure. ...  0.186627  186746.642330   \n",
       "1  Painting charge pull week his.\\nExplain ok str...  0.514985  206881.709757   \n",
       "2  Top he cost talk party religious read. Idea ma...  0.403811  182457.495124   \n",
       "3  Movement trial hundred audience data. Campaign...  0.499784   80246.239867   \n",
       "4  Other stay property stand what nice about. Whi...  0.288498  111924.309005   \n",
       "\n",
       "  date_joined  \n",
       "0  2015-02-24  \n",
       "1  2020-06-02  \n",
       "2  2012-04-30  \n",
       "3  2023-09-25  \n",
       "4  2008-02-09  "
      ],
      "text/html": [
       "<div>\n",
       "<style scoped>\n",
       "    .dataframe tbody tr th:only-of-type {\n",
       "        vertical-align: middle;\n",
       "    }\n",
       "\n",
       "    .dataframe tbody tr th {\n",
       "        vertical-align: top;\n",
       "    }\n",
       "\n",
       "    .dataframe thead th {\n",
       "        text-align: right;\n",
       "    }\n",
       "</style>\n",
       "<table border=\"1\" class=\"dataframe\">\n",
       "  <thead>\n",
       "    <tr style=\"text-align: right;\">\n",
       "      <th></th>\n",
       "      <th>age</th>\n",
       "      <th>name</th>\n",
       "      <th>email</th>\n",
       "      <th>address</th>\n",
       "      <th>phone</th>\n",
       "      <th>company</th>\n",
       "      <th>text</th>\n",
       "      <th>income</th>\n",
       "      <th>salary</th>\n",
       "      <th>date_joined</th>\n",
       "    </tr>\n",
       "  </thead>\n",
       "  <tbody>\n",
       "    <tr>\n",
       "      <th>0</th>\n",
       "      <td>middle-aged</td>\n",
       "      <td>Dr. Brittney Armstrong</td>\n",
       "      <td>dwayne76@example.com</td>\n",
       "      <td>131 Christian Rapids\\nNorth Jon, LA 27914</td>\n",
       "      <td>949.704.4940x6721</td>\n",
       "      <td>Vaughn-Banks</td>\n",
       "      <td>Deep event bring here action floor structure. ...</td>\n",
       "      <td>0.186627</td>\n",
       "      <td>186746.642330</td>\n",
       "      <td>2015-02-24</td>\n",
       "    </tr>\n",
       "    <tr>\n",
       "      <th>1</th>\n",
       "      <td>old</td>\n",
       "      <td>Anna Figueroa</td>\n",
       "      <td>robertcohen@example.com</td>\n",
       "      <td>47528 Donald Mission Apt. 590\\nNew Julieview, ...</td>\n",
       "      <td>+1-688-870-6566x76173</td>\n",
       "      <td>Delacruz, Roy and Medina</td>\n",
       "      <td>Painting charge pull week his.\\nExplain ok str...</td>\n",
       "      <td>0.514985</td>\n",
       "      <td>206881.709757</td>\n",
       "      <td>2020-06-02</td>\n",
       "    </tr>\n",
       "    <tr>\n",
       "      <th>2</th>\n",
       "      <td>middle-aged</td>\n",
       "      <td>Jon Roberts</td>\n",
       "      <td>wardjohn@example.org</td>\n",
       "      <td>25228 Robert Shoal Apt. 249\\nCraigport, FL 04574</td>\n",
       "      <td>7168437489</td>\n",
       "      <td>Hardy PLC</td>\n",
       "      <td>Top he cost talk party religious read. Idea ma...</td>\n",
       "      <td>0.403811</td>\n",
       "      <td>182457.495124</td>\n",
       "      <td>2012-04-30</td>\n",
       "    </tr>\n",
       "    <tr>\n",
       "      <th>3</th>\n",
       "      <td>middle-aged</td>\n",
       "      <td>Andrea Jackson</td>\n",
       "      <td>scottheather@example.net</td>\n",
       "      <td>55421 Matthew Street Apt. 791\\nNew Isaacmouth,...</td>\n",
       "      <td>(221)771-4854</td>\n",
       "      <td>Kaiser-Cox</td>\n",
       "      <td>Movement trial hundred audience data. Campaign...</td>\n",
       "      <td>0.499784</td>\n",
       "      <td>80246.239867</td>\n",
       "      <td>2023-09-25</td>\n",
       "    </tr>\n",
       "    <tr>\n",
       "      <th>4</th>\n",
       "      <td>middle-aged</td>\n",
       "      <td>James Edwards</td>\n",
       "      <td>brookefleming@example.com</td>\n",
       "      <td>USNV Ross\\nFPO AP 93350</td>\n",
       "      <td>218-398-3423x11054</td>\n",
       "      <td>Green-Jones</td>\n",
       "      <td>Other stay property stand what nice about. Whi...</td>\n",
       "      <td>0.288498</td>\n",
       "      <td>111924.309005</td>\n",
       "      <td>2008-02-09</td>\n",
       "    </tr>\n",
       "  </tbody>\n",
       "</table>\n",
       "</div>"
      ]
     },
     "execution_count": 70,
     "metadata": {},
     "output_type": "execute_result"
    }
   ],
   "execution_count": 70
  },
  {
   "cell_type": "code",
   "metadata": {
    "ExecuteTime": {
     "end_time": "2024-06-16T04:10:59.932786Z",
     "start_time": "2024-06-16T04:10:59.925672Z"
    }
   },
   "source": [
    "# round income using custom function\n",
    "def round_salary(x):\n",
    "    return round(x, -3)\n",
    "transformer.apply_custom_transform('salary', round_salary)\n",
    "transformer.get_transformed_data().head()\n"
   ],
   "outputs": [
    {
     "name": "stderr",
     "output_type": "stream",
     "text": [
      "INFO:data_transformation.transformer:Custom transformation applied to columns: salary\n"
     ]
    },
    {
     "data": {
      "text/plain": [
       "           age                    name                      email  \\\n",
       "0  middle-aged  Dr. Brittney Armstrong       dwayne76@example.com   \n",
       "1          old           Anna Figueroa    robertcohen@example.com   \n",
       "2  middle-aged             Jon Roberts       wardjohn@example.org   \n",
       "3  middle-aged          Andrea Jackson   scottheather@example.net   \n",
       "4  middle-aged           James Edwards  brookefleming@example.com   \n",
       "\n",
       "                                             address                  phone  \\\n",
       "0          131 Christian Rapids\\nNorth Jon, LA 27914      949.704.4940x6721   \n",
       "1  47528 Donald Mission Apt. 590\\nNew Julieview, ...  +1-688-870-6566x76173   \n",
       "2   25228 Robert Shoal Apt. 249\\nCraigport, FL 04574             7168437489   \n",
       "3  55421 Matthew Street Apt. 791\\nNew Isaacmouth,...          (221)771-4854   \n",
       "4                            USNV Ross\\nFPO AP 93350     218-398-3423x11054   \n",
       "\n",
       "                    company  \\\n",
       "0              Vaughn-Banks   \n",
       "1  Delacruz, Roy and Medina   \n",
       "2                 Hardy PLC   \n",
       "3                Kaiser-Cox   \n",
       "4               Green-Jones   \n",
       "\n",
       "                                                text    income    salary  \\\n",
       "0  Deep event bring here action floor structure. ...  0.186627  187000.0   \n",
       "1  Painting charge pull week his.\\nExplain ok str...  0.514985  207000.0   \n",
       "2  Top he cost talk party religious read. Idea ma...  0.403811  182000.0   \n",
       "3  Movement trial hundred audience data. Campaign...  0.499784   80000.0   \n",
       "4  Other stay property stand what nice about. Whi...  0.288498  112000.0   \n",
       "\n",
       "  date_joined  \n",
       "0  2015-02-24  \n",
       "1  2020-06-02  \n",
       "2  2012-04-30  \n",
       "3  2023-09-25  \n",
       "4  2008-02-09  "
      ],
      "text/html": [
       "<div>\n",
       "<style scoped>\n",
       "    .dataframe tbody tr th:only-of-type {\n",
       "        vertical-align: middle;\n",
       "    }\n",
       "\n",
       "    .dataframe tbody tr th {\n",
       "        vertical-align: top;\n",
       "    }\n",
       "\n",
       "    .dataframe thead th {\n",
       "        text-align: right;\n",
       "    }\n",
       "</style>\n",
       "<table border=\"1\" class=\"dataframe\">\n",
       "  <thead>\n",
       "    <tr style=\"text-align: right;\">\n",
       "      <th></th>\n",
       "      <th>age</th>\n",
       "      <th>name</th>\n",
       "      <th>email</th>\n",
       "      <th>address</th>\n",
       "      <th>phone</th>\n",
       "      <th>company</th>\n",
       "      <th>text</th>\n",
       "      <th>income</th>\n",
       "      <th>salary</th>\n",
       "      <th>date_joined</th>\n",
       "    </tr>\n",
       "  </thead>\n",
       "  <tbody>\n",
       "    <tr>\n",
       "      <th>0</th>\n",
       "      <td>middle-aged</td>\n",
       "      <td>Dr. Brittney Armstrong</td>\n",
       "      <td>dwayne76@example.com</td>\n",
       "      <td>131 Christian Rapids\\nNorth Jon, LA 27914</td>\n",
       "      <td>949.704.4940x6721</td>\n",
       "      <td>Vaughn-Banks</td>\n",
       "      <td>Deep event bring here action floor structure. ...</td>\n",
       "      <td>0.186627</td>\n",
       "      <td>187000.0</td>\n",
       "      <td>2015-02-24</td>\n",
       "    </tr>\n",
       "    <tr>\n",
       "      <th>1</th>\n",
       "      <td>old</td>\n",
       "      <td>Anna Figueroa</td>\n",
       "      <td>robertcohen@example.com</td>\n",
       "      <td>47528 Donald Mission Apt. 590\\nNew Julieview, ...</td>\n",
       "      <td>+1-688-870-6566x76173</td>\n",
       "      <td>Delacruz, Roy and Medina</td>\n",
       "      <td>Painting charge pull week his.\\nExplain ok str...</td>\n",
       "      <td>0.514985</td>\n",
       "      <td>207000.0</td>\n",
       "      <td>2020-06-02</td>\n",
       "    </tr>\n",
       "    <tr>\n",
       "      <th>2</th>\n",
       "      <td>middle-aged</td>\n",
       "      <td>Jon Roberts</td>\n",
       "      <td>wardjohn@example.org</td>\n",
       "      <td>25228 Robert Shoal Apt. 249\\nCraigport, FL 04574</td>\n",
       "      <td>7168437489</td>\n",
       "      <td>Hardy PLC</td>\n",
       "      <td>Top he cost talk party religious read. Idea ma...</td>\n",
       "      <td>0.403811</td>\n",
       "      <td>182000.0</td>\n",
       "      <td>2012-04-30</td>\n",
       "    </tr>\n",
       "    <tr>\n",
       "      <th>3</th>\n",
       "      <td>middle-aged</td>\n",
       "      <td>Andrea Jackson</td>\n",
       "      <td>scottheather@example.net</td>\n",
       "      <td>55421 Matthew Street Apt. 791\\nNew Isaacmouth,...</td>\n",
       "      <td>(221)771-4854</td>\n",
       "      <td>Kaiser-Cox</td>\n",
       "      <td>Movement trial hundred audience data. Campaign...</td>\n",
       "      <td>0.499784</td>\n",
       "      <td>80000.0</td>\n",
       "      <td>2023-09-25</td>\n",
       "    </tr>\n",
       "    <tr>\n",
       "      <th>4</th>\n",
       "      <td>middle-aged</td>\n",
       "      <td>James Edwards</td>\n",
       "      <td>brookefleming@example.com</td>\n",
       "      <td>USNV Ross\\nFPO AP 93350</td>\n",
       "      <td>218-398-3423x11054</td>\n",
       "      <td>Green-Jones</td>\n",
       "      <td>Other stay property stand what nice about. Whi...</td>\n",
       "      <td>0.288498</td>\n",
       "      <td>112000.0</td>\n",
       "      <td>2008-02-09</td>\n",
       "    </tr>\n",
       "  </tbody>\n",
       "</table>\n",
       "</div>"
      ]
     },
     "execution_count": 71,
     "metadata": {},
     "output_type": "execute_result"
    }
   ],
   "execution_count": 71
  },
  {
   "cell_type": "code",
   "metadata": {
    "ExecuteTime": {
     "end_time": "2024-06-16T04:10:59.935098Z",
     "start_time": "2024-06-16T04:10:59.933283Z"
    }
   },
   "source": [
    "from data_analysis.quant import QuantitativeAnalysis"
   ],
   "outputs": [],
   "execution_count": 72
  },
  {
   "cell_type": "code",
   "metadata": {
    "ExecuteTime": {
     "end_time": "2024-06-16T04:10:59.944772Z",
     "start_time": "2024-06-16T04:10:59.935496Z"
    }
   },
   "source": [
    "quant = QuantitativeAnalysis(cleaner.get_cleaned_data())"
   ],
   "outputs": [],
   "execution_count": 73
  },
  {
   "cell_type": "code",
   "metadata": {
    "ExecuteTime": {
     "end_time": "2024-06-16T04:10:59.958260Z",
     "start_time": "2024-06-16T04:10:59.945492Z"
    }
   },
   "source": [
    "quant.descriptive_statistics()"
   ],
   "outputs": [
    {
     "name": "stderr",
     "output_type": "stream",
     "text": [
      "INFO:data_analysis.quant:Descriptive statistics calculated\n"
     ]
    },
    {
     "data": {
      "text/plain": [
       "                age        income         salary                 date_joined\n",
       "count  1.000000e+03  1.000000e+03    1000.000000                        1000\n",
       "mean  -5.329071e-17 -2.611245e-16  155163.685992  2009-08-09 18:27:21.600000\n",
       "min   -1.740803e+00 -1.759347e+00   10014.457525         1994-06-18 00:00:00\n",
       "25%   -9.030442e-01 -8.613575e-01   80557.905153         2002-01-22 06:00:00\n",
       "50%    5.439448e-02  1.660535e-02  155731.371101         2009-06-13 00:00:00\n",
       "75%    8.323134e-01  8.419104e-01  229543.127343         2017-03-02 00:00:00\n",
       "max    1.670072e+00  1.747471e+00  299011.385538         2024-06-01 00:00:00\n",
       "std    1.000000e+00  1.000000e+00   84619.043299                         NaN"
      ],
      "text/html": [
       "<div>\n",
       "<style scoped>\n",
       "    .dataframe tbody tr th:only-of-type {\n",
       "        vertical-align: middle;\n",
       "    }\n",
       "\n",
       "    .dataframe tbody tr th {\n",
       "        vertical-align: top;\n",
       "    }\n",
       "\n",
       "    .dataframe thead th {\n",
       "        text-align: right;\n",
       "    }\n",
       "</style>\n",
       "<table border=\"1\" class=\"dataframe\">\n",
       "  <thead>\n",
       "    <tr style=\"text-align: right;\">\n",
       "      <th></th>\n",
       "      <th>age</th>\n",
       "      <th>income</th>\n",
       "      <th>salary</th>\n",
       "      <th>date_joined</th>\n",
       "    </tr>\n",
       "  </thead>\n",
       "  <tbody>\n",
       "    <tr>\n",
       "      <th>count</th>\n",
       "      <td>1.000000e+03</td>\n",
       "      <td>1.000000e+03</td>\n",
       "      <td>1000.000000</td>\n",
       "      <td>1000</td>\n",
       "    </tr>\n",
       "    <tr>\n",
       "      <th>mean</th>\n",
       "      <td>-5.329071e-17</td>\n",
       "      <td>-2.611245e-16</td>\n",
       "      <td>155163.685992</td>\n",
       "      <td>2009-08-09 18:27:21.600000</td>\n",
       "    </tr>\n",
       "    <tr>\n",
       "      <th>min</th>\n",
       "      <td>-1.740803e+00</td>\n",
       "      <td>-1.759347e+00</td>\n",
       "      <td>10014.457525</td>\n",
       "      <td>1994-06-18 00:00:00</td>\n",
       "    </tr>\n",
       "    <tr>\n",
       "      <th>25%</th>\n",
       "      <td>-9.030442e-01</td>\n",
       "      <td>-8.613575e-01</td>\n",
       "      <td>80557.905153</td>\n",
       "      <td>2002-01-22 06:00:00</td>\n",
       "    </tr>\n",
       "    <tr>\n",
       "      <th>50%</th>\n",
       "      <td>5.439448e-02</td>\n",
       "      <td>1.660535e-02</td>\n",
       "      <td>155731.371101</td>\n",
       "      <td>2009-06-13 00:00:00</td>\n",
       "    </tr>\n",
       "    <tr>\n",
       "      <th>75%</th>\n",
       "      <td>8.323134e-01</td>\n",
       "      <td>8.419104e-01</td>\n",
       "      <td>229543.127343</td>\n",
       "      <td>2017-03-02 00:00:00</td>\n",
       "    </tr>\n",
       "    <tr>\n",
       "      <th>max</th>\n",
       "      <td>1.670072e+00</td>\n",
       "      <td>1.747471e+00</td>\n",
       "      <td>299011.385538</td>\n",
       "      <td>2024-06-01 00:00:00</td>\n",
       "    </tr>\n",
       "    <tr>\n",
       "      <th>std</th>\n",
       "      <td>1.000000e+00</td>\n",
       "      <td>1.000000e+00</td>\n",
       "      <td>84619.043299</td>\n",
       "      <td>NaN</td>\n",
       "    </tr>\n",
       "  </tbody>\n",
       "</table>\n",
       "</div>"
      ]
     },
     "execution_count": 74,
     "metadata": {},
     "output_type": "execute_result"
    }
   ],
   "execution_count": 74
  },
  {
   "cell_type": "code",
   "metadata": {
    "ExecuteTime": {
     "end_time": "2024-06-16T04:11:00.034786Z",
     "start_time": "2024-06-16T04:10:59.959366Z"
    }
   },
   "source": [
    "import matplotlib.pyplot as plt\n",
    "\n",
    "# Visualization 3: Boxplot of 'income'\n",
    "plt.figure(figsize=(6, 6))\n",
    "plt.boxplot(df['income'])\n",
    "plt.title('Income Boxplot')\n",
    "plt.ylabel('Income')\n",
    "plt.grid(True)\n",
    "plt.show()"
   ],
   "outputs": [
    {
     "data": {
      "text/plain": [
       "<Figure size 600x600 with 1 Axes>"
      ],
      "image/png": "[encoded data removed]"
     },
     "metadata": {},
     "output_type": "display_data"
    }
   ],
   "execution_count": 75
  },
  {
   "cell_type": "code",
   "metadata": {
    "ExecuteTime": {
     "end_time": "2024-06-16T04:11:00.043030Z",
     "start_time": "2024-06-16T04:11:00.035786Z"
    }
   },
   "source": [
    "quant.correlation_matrix()"
   ],
   "outputs": [
    {
     "name": "stderr",
     "output_type": "stream",
     "text": [
      "INFO:data_analysis.quant:Correlation matrix calculated\n"
     ]
    },
    {
     "data": {
      "text/plain": [
       "             age   income    salary\n",
       "age     1.000000  0.00544 -0.014259\n",
       "income  0.005440  1.00000  0.001170\n",
       "salary -0.014259  0.00117  1.000000"
      ],
      "text/html": [
       "<div>\n",
       "<style scoped>\n",
       "    .dataframe tbody tr th:only-of-type {\n",
       "        vertical-align: middle;\n",
       "    }\n",
       "\n",
       "    .dataframe tbody tr th {\n",
       "        vertical-align: top;\n",
       "    }\n",
       "\n",
       "    .dataframe thead th {\n",
       "        text-align: right;\n",
       "    }\n",
       "</style>\n",
       "<table border=\"1\" class=\"dataframe\">\n",
       "  <thead>\n",
       "    <tr style=\"text-align: right;\">\n",
       "      <th></th>\n",
       "      <th>age</th>\n",
       "      <th>income</th>\n",
       "      <th>salary</th>\n",
       "    </tr>\n",
       "  </thead>\n",
       "  <tbody>\n",
       "    <tr>\n",
       "      <th>age</th>\n",
       "      <td>1.000000</td>\n",
       "      <td>0.00544</td>\n",
       "      <td>-0.014259</td>\n",
       "    </tr>\n",
       "    <tr>\n",
       "      <th>income</th>\n",
       "      <td>0.005440</td>\n",
       "      <td>1.00000</td>\n",
       "      <td>0.001170</td>\n",
       "    </tr>\n",
       "    <tr>\n",
       "      <th>salary</th>\n",
       "      <td>-0.014259</td>\n",
       "      <td>0.00117</td>\n",
       "      <td>1.000000</td>\n",
       "    </tr>\n",
       "  </tbody>\n",
       "</table>\n",
       "</div>"
      ]
     },
     "execution_count": 76,
     "metadata": {},
     "output_type": "execute_result"
    }
   ],
   "execution_count": 76
  },
  {
   "cell_type": "code",
   "metadata": {
    "ExecuteTime": {
     "end_time": "2024-06-16T04:11:00.127361Z",
     "start_time": "2024-06-16T04:11:00.044641Z"
    }
   },
   "source": [
    "quant.plot_correlation_matrix()"
   ],
   "outputs": [
    {
     "name": "stderr",
     "output_type": "stream",
     "text": [
      "INFO:data_analysis.quant:Correlation matrix calculated\n"
     ]
    },
    {
     "data": {
      "text/plain": [
       "<Figure size 1000x800 with 2 Axes>"
      ],
      "image/png": "[encoded data removed]"
     },
     "metadata": {},
     "output_type": "display_data"
    },
    {
     "name": "stderr",
     "output_type": "stream",
     "text": [
      "INFO:data_analysis.quant:Correlation matrix plotted\n"
     ]
    }
   ],
   "execution_count": 77
  },
  {
   "cell_type": "code",
   "metadata": {
    "ExecuteTime": {
     "end_time": "2024-06-16T04:11:00.138507Z",
     "start_time": "2024-06-16T04:11:00.128400Z"
    }
   },
   "source": [
    "quant.linear_regression('age', ['income', 'salary'])"
   ],
   "outputs": [
    {
     "name": "stderr",
     "output_type": "stream",
     "text": [
      "INFO:data_analysis.quant:Linear regression performed\n"
     ]
    },
    {
     "data": {
      "text/plain": [
       "{'model': LinearRegression(),\n",
       " 'predictions': array([ 0.00129541,  0.00601591,  0.00080084,  0.01038937,  0.03132081,\n",
       "        -0.04764301, -0.01539108,  0.01529881, -0.03475673, -0.04246145,\n",
       "        -0.03289685, -0.02850498,  0.01598454,  0.00716746, -0.04764129,\n",
       "         0.00956461, -0.01125784, -0.01320808,  0.02290156,  0.02806836,\n",
       "        -0.03806801,  0.01772648, -0.00785123, -0.02512545, -0.01108014,\n",
       "         0.00616949,  0.01453477, -0.02474191, -0.00396077, -0.00867032,\n",
       "         0.02167781, -0.00375915,  0.0162416 , -0.01017679,  0.01457385,\n",
       "         0.00869588, -0.01671077,  0.01628895,  0.03299568, -0.01430784,\n",
       "        -0.00346596, -0.03182994, -0.04291539,  0.01741464, -0.01609927,\n",
       "         0.02664163,  0.02018775, -0.036134  ,  0.00815394, -0.04174582,\n",
       "         0.01635832,  0.01712766, -0.0193906 ,  0.00419415, -0.00025529,\n",
       "        -0.02301997, -0.02165313,  0.03703424,  0.03101426, -0.03039645,\n",
       "         0.03800371, -0.00023913,  0.01428735, -0.01749221,  0.03699727,\n",
       "        -0.0390099 ,  0.00569061,  0.01607949, -0.0332735 ,  0.03006733,\n",
       "         0.01064189, -0.00650192, -0.0398831 ,  0.01853647,  0.00159966,\n",
       "        -0.0023162 ,  0.00476903, -0.01085912, -0.02066534, -0.00326638,\n",
       "         0.01856843,  0.00579979, -0.03783083, -0.03639179,  0.03210305,\n",
       "         0.01604711, -0.03597613, -0.02316059,  0.00298768, -0.02162023,\n",
       "         0.01168932,  0.00412311, -0.00651855, -0.01493063,  0.01675007,\n",
       "        -0.01937059, -0.00357085,  0.03108912, -0.02759805, -0.01748108,\n",
       "         0.00657493,  0.03619126,  0.00065852,  0.01647714, -0.04450389,\n",
       "         0.00472759,  0.01682005,  0.01442516,  0.00870251, -0.03811579,\n",
       "        -0.02684499, -0.01816529,  0.01311403,  0.02319756,  0.00783548,\n",
       "        -0.00822998,  0.01319131,  0.02174365, -0.02571367, -0.03985564,\n",
       "         0.00157271, -0.03059311,  0.02532092, -0.02265194,  0.01292933,\n",
       "        -0.004535  ,  0.02516383, -0.03972619, -0.0013615 , -0.0425228 ,\n",
       "        -0.00441523,  0.01057376,  0.00236985,  0.02400425, -0.0067691 ,\n",
       "        -0.03364592, -0.03110609, -0.02030554, -0.03253812, -0.00159007,\n",
       "         0.01486202,  0.02214798,  0.01661411,  0.01164149,  0.01109578,\n",
       "        -0.01070915,  0.02973458,  0.01880093, -0.03373542,  0.01552357,\n",
       "         0.00902119,  0.02227485, -0.0209814 , -0.03707275,  0.00243626,\n",
       "        -0.01157369,  0.02891178, -0.02139523,  0.02313498,  0.01212544,\n",
       "         0.03034647, -0.00368003, -0.0387012 , -0.01106306,  0.02664376,\n",
       "        -0.01230982,  0.00052751, -0.00584141, -0.03908342, -0.00374309,\n",
       "        -0.01909605, -0.0438446 ,  0.02832826, -0.00650892, -0.01061752,\n",
       "        -0.00353964,  0.01823406, -0.01491621, -0.01074475,  0.01401028,\n",
       "         0.02236289, -0.03063183,  0.01029689,  0.01141905, -0.01002137,\n",
       "        -0.01512017,  0.00579211,  0.02360662, -0.00693176,  0.02416196,\n",
       "        -0.03122844, -0.03054503, -0.03266144,  0.02469186, -0.02397781,\n",
       "        -0.02223597,  0.00197382, -0.04460047, -0.00935626,  0.01665619]),\n",
       " 'mse': 1.037880733714894,\n",
       " 'r2': -0.0018485722721064413}"
      ]
     },
     "execution_count": 78,
     "metadata": {},
     "output_type": "execute_result"
    }
   ],
   "execution_count": 78
  },
  {
   "cell_type": "code",
   "metadata": {
    "ExecuteTime": {
     "end_time": "2024-06-16T04:11:00.155049Z",
     "start_time": "2024-06-16T04:11:00.140744Z"
    }
   },
   "source": [
    "quant.hypothesis_testing('age', 'income')"
   ],
   "outputs": [
    {
     "name": "stderr",
     "output_type": "stream",
     "text": [
      "INFO:data_analysis.quant:Hypothesis testing performed: t-test between age and income\n"
     ]
    },
    {
     "data": {
      "text/plain": [
       "{'statistic': 4.6473039348788946e-15, 'p_value': 0.9999999999999962}"
      ]
     },
     "execution_count": 79,
     "metadata": {},
     "output_type": "execute_result"
    }
   ],
   "execution_count": 79
  },
  {
   "cell_type": "code",
   "metadata": {
    "ExecuteTime": {
     "end_time": "2024-06-16T04:11:00.361503Z",
     "start_time": "2024-06-16T04:11:00.156251Z"
    }
   },
   "source": [
    "quant.plot_histogram('age')"
   ],
   "outputs": [
    {
     "data": {
      "text/plain": [
       "<Figure size 1000x600 with 1 Axes>"
      ],
      "image/png": "[encoded data removed]"
     },
     "metadata": {},
     "output_type": "display_data"
    },
    {
     "name": "stderr",
     "output_type": "stream",
     "text": [
      "INFO:data_analysis.quant:Histogram plotted for column: age\n"
     ]
    }
   ],
   "execution_count": 80
  },
  {
   "cell_type": "code",
   "metadata": {
    "ExecuteTime": {
     "end_time": "2024-06-16T04:11:00.544365Z",
     "start_time": "2024-06-16T04:11:00.363732Z"
    }
   },
   "source": [
    "quant.plot_histogram('income')"
   ],
   "outputs": [
    {
     "data": {
      "text/plain": [
       "<Figure size 1000x600 with 1 Axes>"
      ],
      "image/png": "[encoded data removed]"
     },
     "metadata": {},
     "output_type": "display_data"
    },
    {
     "name": "stderr",
     "output_type": "stream",
     "text": [
      "INFO:data_analysis.quant:Histogram plotted for column: income\n"
     ]
    }
   ],
   "execution_count": 81
  },
  {
   "cell_type": "code",
   "metadata": {
    "ExecuteTime": {
     "end_time": "2024-06-16T04:11:00.757314Z",
     "start_time": "2024-06-16T04:11:00.556231Z"
    }
   },
   "source": [
    "quant.plot_histogram('salary')"
   ],
   "outputs": [
    {
     "data": {
      "text/plain": [
       "<Figure size 1000x600 with 1 Axes>"
      ],
      "image/png": "[encoded data removed]"
     },
     "metadata": {},
     "output_type": "display_data"
    },
    {
     "name": "stderr",
     "output_type": "stream",
     "text": [
      "INFO:data_analysis.quant:Histogram plotted for column: salary\n"
     ]
    }
   ],
   "execution_count": 82
  },
  {
   "cell_type": "code",
   "metadata": {
    "ExecuteTime": {
     "end_time": "2024-06-16T04:11:00.942364Z",
     "start_time": "2024-06-16T04:11:00.760798Z"
    }
   },
   "source": [
    "quant.plot_histogram('date_joined')"
   ],
   "outputs": [
    {
     "data": {
      "text/plain": [
       "<Figure size 1000x600 with 1 Axes>"
      ],
      "image/png": "[encoded data removed]"
     },
     "metadata": {},
     "output_type": "display_data"
    },
    {
     "name": "stderr",
     "output_type": "stream",
     "text": [
      "INFO:data_analysis.quant:Histogram plotted for column: date_joined\n"
     ]
    }
   ],
   "execution_count": 83
  },
  {
   "cell_type": "code",
   "metadata": {
    "ExecuteTime": {
     "end_time": "2024-06-16T04:11:01.074389Z",
     "start_time": "2024-06-16T04:11:00.944312Z"
    }
   },
   "source": [
    "quant.plot_scatter('age', 'income')"
   ],
   "outputs": [
    {
     "data": {
      "text/plain": [
       "<Figure size 1000x600 with 1 Axes>"
      ],
      "image/png": "[encoded data removed]"
     },
     "metadata": {},
     "output_type": "display_data"
    },
    {
     "name": "stderr",
     "output_type": "stream",
     "text": [
      "INFO:data_analysis.quant:Scatter plot plotted between age and income\n"
     ]
    }
   ],
   "execution_count": 84
  },
  {
   "cell_type": "code",
   "metadata": {
    "ExecuteTime": {
     "end_time": "2024-06-16T04:11:01.078670Z",
     "start_time": "2024-06-16T04:11:01.076086Z"
    }
   },
   "source": [
    "from data_analysis.qual import QualitativeAnalysis"
   ],
   "outputs": [],
   "execution_count": 85
  },
  {
   "cell_type": "code",
   "metadata": {
    "ExecuteTime": {
     "end_time": "2024-06-16T04:11:01.086393Z",
     "start_time": "2024-06-16T04:11:01.079911Z"
    }
   },
   "source": [
    "qual = QualitativeAnalysis(cleaner.get_cleaned_data())"
   ],
   "outputs": [],
   "execution_count": 86
  },
  {
   "cell_type": "code",
   "metadata": {
    "jupyter": {
     "is_executing": true
    },
    "ExecuteTime": {
     "start_time": "2024-06-16T04:11:01.087474Z"
    }
   },
   "source": [
    "qual.sentiment_analysis('text')"
   ],
   "outputs": [],
   "execution_count": null
  },
  {
   "cell_type": "code",
   "metadata": {
    "jupyter": {
     "is_executing": true
    }
   },
   "source": [
    "qual.generate_wordcloud('text')"
   ],
   "outputs": [],
   "execution_count": null
  },
  {
   "cell_type": "code",
   "metadata": {
    "jupyter": {
     "is_executing": true
    }
   },
   "source": [
    "qual.keyword_extraction('text')"
   ],
   "outputs": [],
   "execution_count": null
  },
  {
   "cell_type": "code",
   "metadata": {
    "jupyter": {
     "is_executing": true
    }
   },
   "source": [
    "from data_modeling.modeler import Modeler"
   ],
   "outputs": [],
   "execution_count": null
  },
  {
   "cell_type": "code",
   "metadata": {
    "jupyter": {
     "is_executing": true
    }
   },
   "source": [
    "modeler = Modeler(cleaner.get_cleaned_data())"
   ],
   "outputs": [],
   "execution_count": null
  },
  {
   "cell_type": "code",
   "metadata": {
    "jupyter": {
     "is_executing": true
    }
   },
   "source": [
    "X_train, X_test, y_train, y_test = modeler.train_test_split('income', ['age', 'salary'])"
   ],
   "outputs": [],
   "execution_count": null
  },
  {
   "cell_type": "code",
   "metadata": {
    "jupyter": {
     "is_executing": true
    }
   },
   "source": [
    "lr = modeler.linear_regression(X_train, X_test, y_train, y_test)"
   ],
   "outputs": [],
   "execution_count": null
  },
  {
   "cell_type": "code",
   "metadata": {
    "jupyter": {
     "is_executing": true
    }
   },
   "source": [
    "lr_predictions = lr.get('predictions')"
   ],
   "outputs": [],
   "execution_count": null
  },
  {
   "cell_type": "code",
   "metadata": {
    "jupyter": {
     "is_executing": true
    }
   },
   "source": [
    "rf = modeler.random_forest_regressor(X_train, X_test, y_train, y_test)"
   ],
   "outputs": [],
   "execution_count": null
  },
  {
   "cell_type": "code",
   "metadata": {
    "jupyter": {
     "is_executing": true
    }
   },
   "source": [
    "rf_predictions = rf.get('predictions')"
   ],
   "outputs": [],
   "execution_count": null
  },
  {
   "cell_type": "code",
   "metadata": {
    "jupyter": {
     "is_executing": true
    }
   },
   "source": [
    "rf_predictions"
   ],
   "outputs": [],
   "execution_count": null
  },
  {
   "cell_type": "code",
   "metadata": {
    "jupyter": {
     "is_executing": true
    }
   },
   "source": [
    "lr_predictions = pd.Series(lr_predictions)\n",
    "rf_predictions = pd.Series(rf_predictions)\n",
    "joined_predictions = pd.concat([lr_predictions, rf_predictions], axis=1)"
   ],
   "outputs": [],
   "execution_count": null
  },
  {
   "cell_type": "code",
   "metadata": {
    "jupyter": {
     "is_executing": true
    }
   },
   "source": [
    "# add original income values\n",
    "joined_predictions['income'] = y_test\n",
    "joined_predictions['age'] = X_test['age']\n",
    "joined_predictions['salary'] = X_test['salary']"
   ],
   "outputs": [],
   "execution_count": null
  },
  {
   "cell_type": "code",
   "metadata": {
    "jupyter": {
     "is_executing": true
    }
   },
   "source": [
    "from data_modeling.visualizer import Visualizer"
   ],
   "outputs": [],
   "execution_count": null
  },
  {
   "cell_type": "code",
   "metadata": {
    "jupyter": {
     "is_executing": true
    }
   },
   "source": [
    "visualizer = Visualizer(joined_predictions)"
   ],
   "outputs": [],
   "execution_count": null
  },
  {
   "cell_type": "code",
   "metadata": {
    "jupyter": {
     "is_executing": true
    }
   },
   "source": [
    "visualizer.plot_correlation_matrix()\n"
   ],
   "outputs": [],
   "execution_count": null
  },
  {
   "cell_type": "code",
   "metadata": {
    "jupyter": {
     "is_executing": true
    }
   },
   "source": [
    "visualizer.plot_3d_scatter('age', 'salary', 'income', color='income')"
   ],
   "outputs": [],
   "execution_count": null
  },
  {
   "cell_type": "code",
   "metadata": {
    "jupyter": {
     "is_executing": true
    }
   },
   "source": [
    "visualizer.plot_distribution(column='income', color='gold', title='Income Distribution by Age')"
   ],
   "outputs": [],
   "execution_count": null
  },
  {
   "cell_type": "code",
   "metadata": {
    "jupyter": {
     "is_executing": true
    }
   },
   "source": [],
   "outputs": [],
   "execution_count": null
  }
 ],
 "metadata": {
  "kernelspec": {
   "display_name": ".venv",
   "language": "python",
   "name": "python3"
  },
  "language_info": {
   "codemirror_mode": {
    "name": "ipython",
    "version": 3
   },
   "file_extension": ".py",
   "mimetype": "text/x-python",
   "name": "python",
   "nbconvert_exporter": "python",
   "pygments_lexer": "ipython3",
   "version": "3.9.6"
  }
 },
 "nbformat": 4,
 "nbformat_minor": 2
}
